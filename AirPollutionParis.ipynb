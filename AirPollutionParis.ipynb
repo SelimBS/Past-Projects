{
  "nbformat": 4,
  "nbformat_minor": 0,
  "metadata": {
    "colab": {
      "name": "1_AirPollution_Nina.ipynb",
      "provenance": [],
      "collapsed_sections": []
    },
    "kernelspec": {
      "display_name": "Python 3",
      "language": "python",
      "name": "python3"
    },
    "language_info": {
      "codemirror_mode": {
        "name": "ipython",
        "version": 3
      },
      "file_extension": ".py",
      "mimetype": "text/x-python",
      "name": "python",
      "nbconvert_exporter": "python",
      "pygments_lexer": "ipython3",
      "version": "3.7.3"
    }
  },
  "cells": [
    {
      "cell_type": "markdown",
      "metadata": {
        "colab_type": "text",
        "id": "Dif_QpT83oxz"
      },
      "source": [
        "# Paris Metro Air Pollution \n",
        "Nina, Chetan, Camille, Selim"
      ]
    },
    {
      "cell_type": "code",
      "metadata": {
        "colab_type": "code",
        "id": "rG93xuMt4DwU",
        "colab": {}
      },
      "source": [
        "\n",
        "import pandas as pd\n",
        "import numpy as np\n",
        "import csv\n",
        "import datetime as dt\n",
        "\n",
        "import matplotlib.pyplot as plt\n",
        "import matplotlib.image as mpimg\n",
        "import seaborn as sns\n",
        "import pydot\n",
        "\n",
        "from sklearn import tree, linear_model\n",
        "from sklearn.linear_model import LinearRegression, Ridge, ElasticNet\n",
        "from sklearn.model_selection import train_test_split, cross_val_score\n",
        "from sklearn.metrics import confusion_matrix, mean_squared_error, accuracy_score\n",
        "from sklearn.preprocessing import StandardScaler\n",
        "from sklearn.tree import DecisionTreeRegressor\n",
        "\n",
        "from yellowbrick.datasets import load_concrete\n",
        "from yellowbrick.regressor import ResidualsPlot\n",
        "\n",
        "\n",
        "from statistics import mean\n",
        "from statsmodels.tsa.ar_model import AR\n",
        "from statsmodels.tsa.arima_model import ARIMA \n",
        "\n",
        "import scipy.stats as sp\n",
        "\n",
        "import warnings\n",
        "warnings.filterwarnings(\"ignore\")"
      ],
      "execution_count": 0,
      "outputs": []
    },
    {
      "cell_type": "code",
      "metadata": {
        "id": "wcfMt8uHpn8V",
        "colab_type": "code",
        "colab": {}
      },
      "source": [
        ""
      ],
      "execution_count": 0,
      "outputs": []
    },
    {
      "cell_type": "markdown",
      "metadata": {
        "colab_type": "text",
        "id": "GNmA64jo4Hr1"
      },
      "source": [
        "## 1. Load Data Set"
      ]
    },
    {
      "cell_type": "code",
      "metadata": {
        "colab_type": "code",
        "id": "lBtjlRpB4Ugx",
        "outputId": "39e552d4-edb3-4380-81be-7cdb4f9a8ffc",
        "colab": {
          "base_uri": "https://localhost:8080/",
          "height": 124
        }
      },
      "source": [
        "# #Access data from Drive\n",
        "from google.colab import drive\n",
        "drive.mount('/content/drive')"
      ],
      "execution_count": 0,
      "outputs": [
        {
          "output_type": "stream",
          "text": [
            "Go to this URL in a browser: https://accounts.google.com/o/oauth2/auth?client_id=947318989803-6bn6qk8qdgf4n4g3pfee6491hc0brc4i.apps.googleusercontent.com&redirect_uri=urn%3aietf%3awg%3aoauth%3a2.0%3aoob&response_type=code&scope=email%20https%3a%2f%2fwww.googleapis.com%2fauth%2fdocs.test%20https%3a%2f%2fwww.googleapis.com%2fauth%2fdrive%20https%3a%2f%2fwww.googleapis.com%2fauth%2fdrive.photos.readonly%20https%3a%2f%2fwww.googleapis.com%2fauth%2fpeopleapi.readonly\n",
            "\n",
            "Enter your authorization code:\n",
            "··········\n",
            "Mounted at /content/drive\n"
          ],
          "name": "stdout"
        }
      ]
    },
    {
      "cell_type": "code",
      "metadata": {
        "colab_type": "code",
        "id": "A15ZJu8w4aet",
        "outputId": "af936cd5-fbea-438e-8173-6c811541e9e2",
        "colab": {
          "base_uri": "https://localhost:8080/",
          "height": 472
        }
      },
      "source": [
        "# #Chatelet\n",
        " df_chatelet = pd.read_csv('/content/drive/My Drive/Artificial Intelligence Team/Week 5 - AirPollution dataset/qualite-de-lair-mesuree-dans-la-station-chatelet.csv', sep=';')\n",
        "# #Franklin Roosevelt\n",
        " df_fr = pd.read_csv('/content/drive/My Drive/Artificial Intelligence Team/Week 5 - AirPollution dataset/qualite-de-lair-mesuree-dans-la-station-franklin-d-roosevelt.csv', sep=';')\n",
        "# #Auber\n",
        " df_auber = pd.read_csv('/content/drive/My Drive/Artificial Intelligence Team/Week 5 - AirPollution dataset/qualite-de-lair-mesuree-dans-la-station-auber.csv', sep=';')\n",
        "# #Surface Chatelet\n",
        " df_surfChatelet = pd.read_csv('/content/drive/My Drive/Artificial Intelligence Team/Week 5 - AirPollution dataset/Chatelet - Surface (Les Halles).csv', sep=';')\n",
        "# #Surface Franklin Roosevelt\n",
        " df_surfFR = pd.read_csv('/content/drive/My Drive/Artificial Intelligence Team/Week 5 - AirPollution dataset/FDR - Surface (Avenue Champs ELYS).csv', sep=';') \n",
        "# #Surface Auber\n",
        " df_surfAuber = pd.read_csv('/content/drive/My Drive/Artificial Intelligence Team/Week 5 - AirPollution dataset/Auber - Surface (OPERA).csv', sep=';')"
      ],
      "execution_count": 0,
      "outputs": [
        {
          "output_type": "error",
          "ename": "FileNotFoundError",
          "evalue": "ignored",
          "traceback": [
            "\u001b[0;31m---------------------------------------------------------------------------\u001b[0m",
            "\u001b[0;31mFileNotFoundError\u001b[0m                         Traceback (most recent call last)",
            "\u001b[0;32m<ipython-input-4-26b2ea107f76>\u001b[0m in \u001b[0;36m<module>\u001b[0;34m()\u001b[0m\n\u001b[0;32m----> 1\u001b[0;31m \u001b[0mdf_chatelet\u001b[0m \u001b[0;34m=\u001b[0m \u001b[0mpd\u001b[0m\u001b[0;34m.\u001b[0m\u001b[0mread_csv\u001b[0m\u001b[0;34m(\u001b[0m\u001b[0;34m'/content/drive/My Drive/Artificial Intelligence Team/Week 5 - AirPollution dataset/qualite-de-lair-mesuree-dans-la-station-chatelet.csv'\u001b[0m\u001b[0;34m,\u001b[0m \u001b[0msep\u001b[0m\u001b[0;34m=\u001b[0m\u001b[0;34m';'\u001b[0m\u001b[0;34m)\u001b[0m\u001b[0;34m\u001b[0m\u001b[0;34m\u001b[0m\u001b[0m\n\u001b[0m\u001b[1;32m      2\u001b[0m \u001b[0;31m# #Franklin Roosevelt\u001b[0m\u001b[0;34m\u001b[0m\u001b[0;34m\u001b[0m\u001b[0;34m\u001b[0m\u001b[0m\n\u001b[1;32m      3\u001b[0m \u001b[0mdf_fr\u001b[0m \u001b[0;34m=\u001b[0m \u001b[0mpd\u001b[0m\u001b[0;34m.\u001b[0m\u001b[0mread_csv\u001b[0m\u001b[0;34m(\u001b[0m\u001b[0;34m'/content/drive/My Drive/Artificial Intelligence Team/Week 5 - AirPollution dataset/qualite-de-lair-mesuree-dans-la-station-franklin-d-roosevelt.csv'\u001b[0m\u001b[0;34m,\u001b[0m \u001b[0msep\u001b[0m\u001b[0;34m=\u001b[0m\u001b[0;34m';'\u001b[0m\u001b[0;34m)\u001b[0m\u001b[0;34m\u001b[0m\u001b[0;34m\u001b[0m\u001b[0m\n\u001b[1;32m      4\u001b[0m \u001b[0;31m# #Auber\u001b[0m\u001b[0;34m\u001b[0m\u001b[0;34m\u001b[0m\u001b[0;34m\u001b[0m\u001b[0m\n\u001b[1;32m      5\u001b[0m \u001b[0mdf_auber\u001b[0m \u001b[0;34m=\u001b[0m \u001b[0mpd\u001b[0m\u001b[0;34m.\u001b[0m\u001b[0mread_csv\u001b[0m\u001b[0;34m(\u001b[0m\u001b[0;34m'/content/drive/My Drive/Artificial Intelligence Team/Week 5 - AirPollution dataset/qualite-de-lair-mesuree-dans-la-station-auber.csv'\u001b[0m\u001b[0;34m,\u001b[0m \u001b[0msep\u001b[0m\u001b[0;34m=\u001b[0m\u001b[0;34m';'\u001b[0m\u001b[0;34m)\u001b[0m\u001b[0;34m\u001b[0m\u001b[0;34m\u001b[0m\u001b[0m\n",
            "\u001b[0;32m/usr/local/lib/python3.6/dist-packages/pandas/io/parsers.py\u001b[0m in \u001b[0;36mparser_f\u001b[0;34m(filepath_or_buffer, sep, delimiter, header, names, index_col, usecols, squeeze, prefix, mangle_dupe_cols, dtype, engine, converters, true_values, false_values, skipinitialspace, skiprows, skipfooter, nrows, na_values, keep_default_na, na_filter, verbose, skip_blank_lines, parse_dates, infer_datetime_format, keep_date_col, date_parser, dayfirst, cache_dates, iterator, chunksize, compression, thousands, decimal, lineterminator, quotechar, quoting, doublequote, escapechar, comment, encoding, dialect, error_bad_lines, warn_bad_lines, delim_whitespace, low_memory, memory_map, float_precision)\u001b[0m\n\u001b[1;32m    683\u001b[0m         )\n\u001b[1;32m    684\u001b[0m \u001b[0;34m\u001b[0m\u001b[0m\n\u001b[0;32m--> 685\u001b[0;31m         \u001b[0;32mreturn\u001b[0m \u001b[0m_read\u001b[0m\u001b[0;34m(\u001b[0m\u001b[0mfilepath_or_buffer\u001b[0m\u001b[0;34m,\u001b[0m \u001b[0mkwds\u001b[0m\u001b[0;34m)\u001b[0m\u001b[0;34m\u001b[0m\u001b[0;34m\u001b[0m\u001b[0m\n\u001b[0m\u001b[1;32m    686\u001b[0m \u001b[0;34m\u001b[0m\u001b[0m\n\u001b[1;32m    687\u001b[0m     \u001b[0mparser_f\u001b[0m\u001b[0;34m.\u001b[0m\u001b[0m__name__\u001b[0m \u001b[0;34m=\u001b[0m \u001b[0mname\u001b[0m\u001b[0;34m\u001b[0m\u001b[0;34m\u001b[0m\u001b[0m\n",
            "\u001b[0;32m/usr/local/lib/python3.6/dist-packages/pandas/io/parsers.py\u001b[0m in \u001b[0;36m_read\u001b[0;34m(filepath_or_buffer, kwds)\u001b[0m\n\u001b[1;32m    455\u001b[0m \u001b[0;34m\u001b[0m\u001b[0m\n\u001b[1;32m    456\u001b[0m     \u001b[0;31m# Create the parser.\u001b[0m\u001b[0;34m\u001b[0m\u001b[0;34m\u001b[0m\u001b[0;34m\u001b[0m\u001b[0m\n\u001b[0;32m--> 457\u001b[0;31m     \u001b[0mparser\u001b[0m \u001b[0;34m=\u001b[0m \u001b[0mTextFileReader\u001b[0m\u001b[0;34m(\u001b[0m\u001b[0mfp_or_buf\u001b[0m\u001b[0;34m,\u001b[0m \u001b[0;34m**\u001b[0m\u001b[0mkwds\u001b[0m\u001b[0;34m)\u001b[0m\u001b[0;34m\u001b[0m\u001b[0;34m\u001b[0m\u001b[0m\n\u001b[0m\u001b[1;32m    458\u001b[0m \u001b[0;34m\u001b[0m\u001b[0m\n\u001b[1;32m    459\u001b[0m     \u001b[0;32mif\u001b[0m \u001b[0mchunksize\u001b[0m \u001b[0;32mor\u001b[0m \u001b[0miterator\u001b[0m\u001b[0;34m:\u001b[0m\u001b[0;34m\u001b[0m\u001b[0;34m\u001b[0m\u001b[0m\n",
            "\u001b[0;32m/usr/local/lib/python3.6/dist-packages/pandas/io/parsers.py\u001b[0m in \u001b[0;36m__init__\u001b[0;34m(self, f, engine, **kwds)\u001b[0m\n\u001b[1;32m    893\u001b[0m             \u001b[0mself\u001b[0m\u001b[0;34m.\u001b[0m\u001b[0moptions\u001b[0m\u001b[0;34m[\u001b[0m\u001b[0;34m\"has_index_names\"\u001b[0m\u001b[0;34m]\u001b[0m \u001b[0;34m=\u001b[0m \u001b[0mkwds\u001b[0m\u001b[0;34m[\u001b[0m\u001b[0;34m\"has_index_names\"\u001b[0m\u001b[0;34m]\u001b[0m\u001b[0;34m\u001b[0m\u001b[0;34m\u001b[0m\u001b[0m\n\u001b[1;32m    894\u001b[0m \u001b[0;34m\u001b[0m\u001b[0m\n\u001b[0;32m--> 895\u001b[0;31m         \u001b[0mself\u001b[0m\u001b[0;34m.\u001b[0m\u001b[0m_make_engine\u001b[0m\u001b[0;34m(\u001b[0m\u001b[0mself\u001b[0m\u001b[0;34m.\u001b[0m\u001b[0mengine\u001b[0m\u001b[0;34m)\u001b[0m\u001b[0;34m\u001b[0m\u001b[0;34m\u001b[0m\u001b[0m\n\u001b[0m\u001b[1;32m    896\u001b[0m \u001b[0;34m\u001b[0m\u001b[0m\n\u001b[1;32m    897\u001b[0m     \u001b[0;32mdef\u001b[0m \u001b[0mclose\u001b[0m\u001b[0;34m(\u001b[0m\u001b[0mself\u001b[0m\u001b[0;34m)\u001b[0m\u001b[0;34m:\u001b[0m\u001b[0;34m\u001b[0m\u001b[0;34m\u001b[0m\u001b[0m\n",
            "\u001b[0;32m/usr/local/lib/python3.6/dist-packages/pandas/io/parsers.py\u001b[0m in \u001b[0;36m_make_engine\u001b[0;34m(self, engine)\u001b[0m\n\u001b[1;32m   1133\u001b[0m     \u001b[0;32mdef\u001b[0m \u001b[0m_make_engine\u001b[0m\u001b[0;34m(\u001b[0m\u001b[0mself\u001b[0m\u001b[0;34m,\u001b[0m \u001b[0mengine\u001b[0m\u001b[0;34m=\u001b[0m\u001b[0;34m\"c\"\u001b[0m\u001b[0;34m)\u001b[0m\u001b[0;34m:\u001b[0m\u001b[0;34m\u001b[0m\u001b[0;34m\u001b[0m\u001b[0m\n\u001b[1;32m   1134\u001b[0m         \u001b[0;32mif\u001b[0m \u001b[0mengine\u001b[0m \u001b[0;34m==\u001b[0m \u001b[0;34m\"c\"\u001b[0m\u001b[0;34m:\u001b[0m\u001b[0;34m\u001b[0m\u001b[0;34m\u001b[0m\u001b[0m\n\u001b[0;32m-> 1135\u001b[0;31m             \u001b[0mself\u001b[0m\u001b[0;34m.\u001b[0m\u001b[0m_engine\u001b[0m \u001b[0;34m=\u001b[0m \u001b[0mCParserWrapper\u001b[0m\u001b[0;34m(\u001b[0m\u001b[0mself\u001b[0m\u001b[0;34m.\u001b[0m\u001b[0mf\u001b[0m\u001b[0;34m,\u001b[0m \u001b[0;34m**\u001b[0m\u001b[0mself\u001b[0m\u001b[0;34m.\u001b[0m\u001b[0moptions\u001b[0m\u001b[0;34m)\u001b[0m\u001b[0;34m\u001b[0m\u001b[0;34m\u001b[0m\u001b[0m\n\u001b[0m\u001b[1;32m   1136\u001b[0m         \u001b[0;32melse\u001b[0m\u001b[0;34m:\u001b[0m\u001b[0;34m\u001b[0m\u001b[0;34m\u001b[0m\u001b[0m\n\u001b[1;32m   1137\u001b[0m             \u001b[0;32mif\u001b[0m \u001b[0mengine\u001b[0m \u001b[0;34m==\u001b[0m \u001b[0;34m\"python\"\u001b[0m\u001b[0;34m:\u001b[0m\u001b[0;34m\u001b[0m\u001b[0;34m\u001b[0m\u001b[0m\n",
            "\u001b[0;32m/usr/local/lib/python3.6/dist-packages/pandas/io/parsers.py\u001b[0m in \u001b[0;36m__init__\u001b[0;34m(self, src, **kwds)\u001b[0m\n\u001b[1;32m   1915\u001b[0m         \u001b[0mkwds\u001b[0m\u001b[0;34m[\u001b[0m\u001b[0;34m\"usecols\"\u001b[0m\u001b[0;34m]\u001b[0m \u001b[0;34m=\u001b[0m \u001b[0mself\u001b[0m\u001b[0;34m.\u001b[0m\u001b[0musecols\u001b[0m\u001b[0;34m\u001b[0m\u001b[0;34m\u001b[0m\u001b[0m\n\u001b[1;32m   1916\u001b[0m \u001b[0;34m\u001b[0m\u001b[0m\n\u001b[0;32m-> 1917\u001b[0;31m         \u001b[0mself\u001b[0m\u001b[0;34m.\u001b[0m\u001b[0m_reader\u001b[0m \u001b[0;34m=\u001b[0m \u001b[0mparsers\u001b[0m\u001b[0;34m.\u001b[0m\u001b[0mTextReader\u001b[0m\u001b[0;34m(\u001b[0m\u001b[0msrc\u001b[0m\u001b[0;34m,\u001b[0m \u001b[0;34m**\u001b[0m\u001b[0mkwds\u001b[0m\u001b[0;34m)\u001b[0m\u001b[0;34m\u001b[0m\u001b[0;34m\u001b[0m\u001b[0m\n\u001b[0m\u001b[1;32m   1918\u001b[0m         \u001b[0mself\u001b[0m\u001b[0;34m.\u001b[0m\u001b[0munnamed_cols\u001b[0m \u001b[0;34m=\u001b[0m \u001b[0mself\u001b[0m\u001b[0;34m.\u001b[0m\u001b[0m_reader\u001b[0m\u001b[0;34m.\u001b[0m\u001b[0munnamed_cols\u001b[0m\u001b[0;34m\u001b[0m\u001b[0;34m\u001b[0m\u001b[0m\n\u001b[1;32m   1919\u001b[0m \u001b[0;34m\u001b[0m\u001b[0m\n",
            "\u001b[0;32mpandas/_libs/parsers.pyx\u001b[0m in \u001b[0;36mpandas._libs.parsers.TextReader.__cinit__\u001b[0;34m()\u001b[0m\n",
            "\u001b[0;32mpandas/_libs/parsers.pyx\u001b[0m in \u001b[0;36mpandas._libs.parsers.TextReader._setup_parser_source\u001b[0;34m()\u001b[0m\n",
            "\u001b[0;31mFileNotFoundError\u001b[0m: [Errno 2] File b'/content/drive/My Drive/Artificial Intelligence Team/Week 5 - AirPollution dataset/qualite-de-lair-mesuree-dans-la-station-chatelet.csv' does not exist: b'/content/drive/My Drive/Artificial Intelligence Team/Week 5 - AirPollution dataset/qualite-de-lair-mesuree-dans-la-station-chatelet.csv'"
          ]
        }
      ]
    },
    {
      "cell_type": "code",
      "metadata": {
        "id": "MGGo687x-pBS",
        "colab_type": "code",
        "outputId": "2252bd19-8ef6-4d6e-bee7-a00a48b4e43f",
        "colab": {
          "base_uri": "https://localhost:8080/",
          "height": 472
        }
      },
      "source": [
        "# #Chatelet\n",
        "#df_chatelet = pd.read_csv('qualite-de-lair-mesuree-dans-la-station-chatelet.csv', sep=';')\n",
        "# #Franklin Roosevelt\n",
        "#df_FR = pd.read_csv('qualite-de-lair-mesuree-dans-la-station-franklin-d-roosevelt.csv', sep=';')\n",
        "# #Auber\n",
        "#df_Auber = pd.read_csv('qualite-de-lair-mesuree-dans-la-station-auber.csv', sep=';')"
      ],
      "execution_count": 0,
      "outputs": [
        {
          "output_type": "error",
          "ename": "FileNotFoundError",
          "evalue": "ignored",
          "traceback": [
            "\u001b[0;31m---------------------------------------------------------------------------\u001b[0m",
            "\u001b[0;31mFileNotFoundError\u001b[0m                         Traceback (most recent call last)",
            "\u001b[0;32m<ipython-input-5-d26610f6ec88>\u001b[0m in \u001b[0;36m<module>\u001b[0;34m()\u001b[0m\n\u001b[0;32m----> 1\u001b[0;31m \u001b[0mdf_chatelet\u001b[0m \u001b[0;34m=\u001b[0m \u001b[0mpd\u001b[0m\u001b[0;34m.\u001b[0m\u001b[0mread_csv\u001b[0m\u001b[0;34m(\u001b[0m\u001b[0;34m'qualite-de-lair-mesuree-dans-la-station-chatelet.csv'\u001b[0m\u001b[0;34m,\u001b[0m \u001b[0msep\u001b[0m\u001b[0;34m=\u001b[0m\u001b[0;34m';'\u001b[0m\u001b[0;34m)\u001b[0m\u001b[0;34m\u001b[0m\u001b[0;34m\u001b[0m\u001b[0m\n\u001b[0m\u001b[1;32m      2\u001b[0m \u001b[0;31m# #Franklin Roosevelt\u001b[0m\u001b[0;34m\u001b[0m\u001b[0;34m\u001b[0m\u001b[0;34m\u001b[0m\u001b[0m\n\u001b[1;32m      3\u001b[0m \u001b[0;31m#df_FR = pd.read_csv('qualite-de-lair-mesuree-dans-la-station-franklin-d-roosevelt.csv', sep=';')\u001b[0m\u001b[0;34m\u001b[0m\u001b[0;34m\u001b[0m\u001b[0;34m\u001b[0m\u001b[0m\n\u001b[1;32m      4\u001b[0m \u001b[0;31m# #Auber\u001b[0m\u001b[0;34m\u001b[0m\u001b[0;34m\u001b[0m\u001b[0;34m\u001b[0m\u001b[0m\n\u001b[1;32m      5\u001b[0m \u001b[0;31m#df_Auber = pd.read_csv('qualite-de-lair-mesuree-dans-la-station-auber.csv', sep=';')\u001b[0m\u001b[0;34m\u001b[0m\u001b[0;34m\u001b[0m\u001b[0;34m\u001b[0m\u001b[0m\n",
            "\u001b[0;32m/usr/local/lib/python3.6/dist-packages/pandas/io/parsers.py\u001b[0m in \u001b[0;36mparser_f\u001b[0;34m(filepath_or_buffer, sep, delimiter, header, names, index_col, usecols, squeeze, prefix, mangle_dupe_cols, dtype, engine, converters, true_values, false_values, skipinitialspace, skiprows, skipfooter, nrows, na_values, keep_default_na, na_filter, verbose, skip_blank_lines, parse_dates, infer_datetime_format, keep_date_col, date_parser, dayfirst, cache_dates, iterator, chunksize, compression, thousands, decimal, lineterminator, quotechar, quoting, doublequote, escapechar, comment, encoding, dialect, error_bad_lines, warn_bad_lines, delim_whitespace, low_memory, memory_map, float_precision)\u001b[0m\n\u001b[1;32m    683\u001b[0m         )\n\u001b[1;32m    684\u001b[0m \u001b[0;34m\u001b[0m\u001b[0m\n\u001b[0;32m--> 685\u001b[0;31m         \u001b[0;32mreturn\u001b[0m \u001b[0m_read\u001b[0m\u001b[0;34m(\u001b[0m\u001b[0mfilepath_or_buffer\u001b[0m\u001b[0;34m,\u001b[0m \u001b[0mkwds\u001b[0m\u001b[0;34m)\u001b[0m\u001b[0;34m\u001b[0m\u001b[0;34m\u001b[0m\u001b[0m\n\u001b[0m\u001b[1;32m    686\u001b[0m \u001b[0;34m\u001b[0m\u001b[0m\n\u001b[1;32m    687\u001b[0m     \u001b[0mparser_f\u001b[0m\u001b[0;34m.\u001b[0m\u001b[0m__name__\u001b[0m \u001b[0;34m=\u001b[0m \u001b[0mname\u001b[0m\u001b[0;34m\u001b[0m\u001b[0;34m\u001b[0m\u001b[0m\n",
            "\u001b[0;32m/usr/local/lib/python3.6/dist-packages/pandas/io/parsers.py\u001b[0m in \u001b[0;36m_read\u001b[0;34m(filepath_or_buffer, kwds)\u001b[0m\n\u001b[1;32m    455\u001b[0m \u001b[0;34m\u001b[0m\u001b[0m\n\u001b[1;32m    456\u001b[0m     \u001b[0;31m# Create the parser.\u001b[0m\u001b[0;34m\u001b[0m\u001b[0;34m\u001b[0m\u001b[0;34m\u001b[0m\u001b[0m\n\u001b[0;32m--> 457\u001b[0;31m     \u001b[0mparser\u001b[0m \u001b[0;34m=\u001b[0m \u001b[0mTextFileReader\u001b[0m\u001b[0;34m(\u001b[0m\u001b[0mfp_or_buf\u001b[0m\u001b[0;34m,\u001b[0m \u001b[0;34m**\u001b[0m\u001b[0mkwds\u001b[0m\u001b[0;34m)\u001b[0m\u001b[0;34m\u001b[0m\u001b[0;34m\u001b[0m\u001b[0m\n\u001b[0m\u001b[1;32m    458\u001b[0m \u001b[0;34m\u001b[0m\u001b[0m\n\u001b[1;32m    459\u001b[0m     \u001b[0;32mif\u001b[0m \u001b[0mchunksize\u001b[0m \u001b[0;32mor\u001b[0m \u001b[0miterator\u001b[0m\u001b[0;34m:\u001b[0m\u001b[0;34m\u001b[0m\u001b[0;34m\u001b[0m\u001b[0m\n",
            "\u001b[0;32m/usr/local/lib/python3.6/dist-packages/pandas/io/parsers.py\u001b[0m in \u001b[0;36m__init__\u001b[0;34m(self, f, engine, **kwds)\u001b[0m\n\u001b[1;32m    893\u001b[0m             \u001b[0mself\u001b[0m\u001b[0;34m.\u001b[0m\u001b[0moptions\u001b[0m\u001b[0;34m[\u001b[0m\u001b[0;34m\"has_index_names\"\u001b[0m\u001b[0;34m]\u001b[0m \u001b[0;34m=\u001b[0m \u001b[0mkwds\u001b[0m\u001b[0;34m[\u001b[0m\u001b[0;34m\"has_index_names\"\u001b[0m\u001b[0;34m]\u001b[0m\u001b[0;34m\u001b[0m\u001b[0;34m\u001b[0m\u001b[0m\n\u001b[1;32m    894\u001b[0m \u001b[0;34m\u001b[0m\u001b[0m\n\u001b[0;32m--> 895\u001b[0;31m         \u001b[0mself\u001b[0m\u001b[0;34m.\u001b[0m\u001b[0m_make_engine\u001b[0m\u001b[0;34m(\u001b[0m\u001b[0mself\u001b[0m\u001b[0;34m.\u001b[0m\u001b[0mengine\u001b[0m\u001b[0;34m)\u001b[0m\u001b[0;34m\u001b[0m\u001b[0;34m\u001b[0m\u001b[0m\n\u001b[0m\u001b[1;32m    896\u001b[0m \u001b[0;34m\u001b[0m\u001b[0m\n\u001b[1;32m    897\u001b[0m     \u001b[0;32mdef\u001b[0m \u001b[0mclose\u001b[0m\u001b[0;34m(\u001b[0m\u001b[0mself\u001b[0m\u001b[0;34m)\u001b[0m\u001b[0;34m:\u001b[0m\u001b[0;34m\u001b[0m\u001b[0;34m\u001b[0m\u001b[0m\n",
            "\u001b[0;32m/usr/local/lib/python3.6/dist-packages/pandas/io/parsers.py\u001b[0m in \u001b[0;36m_make_engine\u001b[0;34m(self, engine)\u001b[0m\n\u001b[1;32m   1133\u001b[0m     \u001b[0;32mdef\u001b[0m \u001b[0m_make_engine\u001b[0m\u001b[0;34m(\u001b[0m\u001b[0mself\u001b[0m\u001b[0;34m,\u001b[0m \u001b[0mengine\u001b[0m\u001b[0;34m=\u001b[0m\u001b[0;34m\"c\"\u001b[0m\u001b[0;34m)\u001b[0m\u001b[0;34m:\u001b[0m\u001b[0;34m\u001b[0m\u001b[0;34m\u001b[0m\u001b[0m\n\u001b[1;32m   1134\u001b[0m         \u001b[0;32mif\u001b[0m \u001b[0mengine\u001b[0m \u001b[0;34m==\u001b[0m \u001b[0;34m\"c\"\u001b[0m\u001b[0;34m:\u001b[0m\u001b[0;34m\u001b[0m\u001b[0;34m\u001b[0m\u001b[0m\n\u001b[0;32m-> 1135\u001b[0;31m             \u001b[0mself\u001b[0m\u001b[0;34m.\u001b[0m\u001b[0m_engine\u001b[0m \u001b[0;34m=\u001b[0m \u001b[0mCParserWrapper\u001b[0m\u001b[0;34m(\u001b[0m\u001b[0mself\u001b[0m\u001b[0;34m.\u001b[0m\u001b[0mf\u001b[0m\u001b[0;34m,\u001b[0m \u001b[0;34m**\u001b[0m\u001b[0mself\u001b[0m\u001b[0;34m.\u001b[0m\u001b[0moptions\u001b[0m\u001b[0;34m)\u001b[0m\u001b[0;34m\u001b[0m\u001b[0;34m\u001b[0m\u001b[0m\n\u001b[0m\u001b[1;32m   1136\u001b[0m         \u001b[0;32melse\u001b[0m\u001b[0;34m:\u001b[0m\u001b[0;34m\u001b[0m\u001b[0;34m\u001b[0m\u001b[0m\n\u001b[1;32m   1137\u001b[0m             \u001b[0;32mif\u001b[0m \u001b[0mengine\u001b[0m \u001b[0;34m==\u001b[0m \u001b[0;34m\"python\"\u001b[0m\u001b[0;34m:\u001b[0m\u001b[0;34m\u001b[0m\u001b[0;34m\u001b[0m\u001b[0m\n",
            "\u001b[0;32m/usr/local/lib/python3.6/dist-packages/pandas/io/parsers.py\u001b[0m in \u001b[0;36m__init__\u001b[0;34m(self, src, **kwds)\u001b[0m\n\u001b[1;32m   1915\u001b[0m         \u001b[0mkwds\u001b[0m\u001b[0;34m[\u001b[0m\u001b[0;34m\"usecols\"\u001b[0m\u001b[0;34m]\u001b[0m \u001b[0;34m=\u001b[0m \u001b[0mself\u001b[0m\u001b[0;34m.\u001b[0m\u001b[0musecols\u001b[0m\u001b[0;34m\u001b[0m\u001b[0;34m\u001b[0m\u001b[0m\n\u001b[1;32m   1916\u001b[0m \u001b[0;34m\u001b[0m\u001b[0m\n\u001b[0;32m-> 1917\u001b[0;31m         \u001b[0mself\u001b[0m\u001b[0;34m.\u001b[0m\u001b[0m_reader\u001b[0m \u001b[0;34m=\u001b[0m \u001b[0mparsers\u001b[0m\u001b[0;34m.\u001b[0m\u001b[0mTextReader\u001b[0m\u001b[0;34m(\u001b[0m\u001b[0msrc\u001b[0m\u001b[0;34m,\u001b[0m \u001b[0;34m**\u001b[0m\u001b[0mkwds\u001b[0m\u001b[0;34m)\u001b[0m\u001b[0;34m\u001b[0m\u001b[0;34m\u001b[0m\u001b[0m\n\u001b[0m\u001b[1;32m   1918\u001b[0m         \u001b[0mself\u001b[0m\u001b[0;34m.\u001b[0m\u001b[0munnamed_cols\u001b[0m \u001b[0;34m=\u001b[0m \u001b[0mself\u001b[0m\u001b[0;34m.\u001b[0m\u001b[0m_reader\u001b[0m\u001b[0;34m.\u001b[0m\u001b[0munnamed_cols\u001b[0m\u001b[0;34m\u001b[0m\u001b[0;34m\u001b[0m\u001b[0m\n\u001b[1;32m   1919\u001b[0m \u001b[0;34m\u001b[0m\u001b[0m\n",
            "\u001b[0;32mpandas/_libs/parsers.pyx\u001b[0m in \u001b[0;36mpandas._libs.parsers.TextReader.__cinit__\u001b[0;34m()\u001b[0m\n",
            "\u001b[0;32mpandas/_libs/parsers.pyx\u001b[0m in \u001b[0;36mpandas._libs.parsers.TextReader._setup_parser_source\u001b[0;34m()\u001b[0m\n",
            "\u001b[0;31mFileNotFoundError\u001b[0m: [Errno 2] File b'qualite-de-lair-mesuree-dans-la-station-chatelet.csv' does not exist: b'qualite-de-lair-mesuree-dans-la-station-chatelet.csv'"
          ]
        }
      ]
    },
    {
      "cell_type": "markdown",
      "metadata": {
        "colab_type": "text",
        "id": "atJjm7zs5Uhx"
      },
      "source": [
        "## 2. Explore Data Sets"
      ]
    },
    {
      "cell_type": "markdown",
      "metadata": {
        "colab_type": "text",
        "id": "CA_cBN6Q5pPD"
      },
      "source": [
        "### Chatelet"
      ]
    },
    {
      "cell_type": "code",
      "metadata": {
        "colab_type": "code",
        "id": "sLY0wpTA5ZSt",
        "outputId": "0418d7c7-5025-41ff-b208-11068c2f18eb",
        "colab": {
          "base_uri": "https://localhost:8080/",
          "height": 204
        }
      },
      "source": [
        "df_chatelet.head()"
      ],
      "execution_count": 0,
      "outputs": [
        {
          "output_type": "execute_result",
          "data": {
            "text/html": [
              "<div>\n",
              "<style scoped>\n",
              "    .dataframe tbody tr th:only-of-type {\n",
              "        vertical-align: middle;\n",
              "    }\n",
              "\n",
              "    .dataframe tbody tr th {\n",
              "        vertical-align: top;\n",
              "    }\n",
              "\n",
              "    .dataframe thead th {\n",
              "        text-align: right;\n",
              "    }\n",
              "</style>\n",
              "<table border=\"1\" class=\"dataframe\">\n",
              "  <thead>\n",
              "    <tr style=\"text-align: right;\">\n",
              "      <th></th>\n",
              "      <th>DATE/HEURE</th>\n",
              "      <th>NO</th>\n",
              "      <th>NO2</th>\n",
              "      <th>PM10</th>\n",
              "      <th>CO2</th>\n",
              "      <th>TEMP</th>\n",
              "      <th>HUMI</th>\n",
              "    </tr>\n",
              "  </thead>\n",
              "  <tbody>\n",
              "    <tr>\n",
              "      <th>0</th>\n",
              "      <td>2013-03-07T20:00:00+01:00</td>\n",
              "      <td>88.0</td>\n",
              "      <td>61.0</td>\n",
              "      <td>157.0</td>\n",
              "      <td>931.0</td>\n",
              "      <td>20.1</td>\n",
              "      <td>56.3</td>\n",
              "    </tr>\n",
              "    <tr>\n",
              "      <th>1</th>\n",
              "      <td>2013-03-10T11:00:00+01:00</td>\n",
              "      <td>6.0</td>\n",
              "      <td>34.0</td>\n",
              "      <td>53.0</td>\n",
              "      <td>546.0</td>\n",
              "      <td>17.2</td>\n",
              "      <td>47.9</td>\n",
              "    </tr>\n",
              "    <tr>\n",
              "      <th>2</th>\n",
              "      <td>2013-03-11T17:00:00+01:00</td>\n",
              "      <td>27.0</td>\n",
              "      <td>39.0</td>\n",
              "      <td>97.0</td>\n",
              "      <td>750.0</td>\n",
              "      <td>16.1</td>\n",
              "      <td>40.0</td>\n",
              "    </tr>\n",
              "    <tr>\n",
              "      <th>3</th>\n",
              "      <td>2013-03-12T04:00:00+01:00</td>\n",
              "      <td>NaN</td>\n",
              "      <td>30.0</td>\n",
              "      <td>NaN</td>\n",
              "      <td>455.0</td>\n",
              "      <td>13.3</td>\n",
              "      <td>36.5</td>\n",
              "    </tr>\n",
              "    <tr>\n",
              "      <th>4</th>\n",
              "      <td>2013-03-13T02:00:00+01:00</td>\n",
              "      <td>NaN</td>\n",
              "      <td>30.0</td>\n",
              "      <td>32.0</td>\n",
              "      <td>459.0</td>\n",
              "      <td>12.3</td>\n",
              "      <td>29.4</td>\n",
              "    </tr>\n",
              "  </tbody>\n",
              "</table>\n",
              "</div>"
            ],
            "text/plain": [
              "                  DATE/HEURE    NO   NO2   PM10    CO2  TEMP  HUMI\n",
              "0  2013-03-07T20:00:00+01:00  88.0  61.0  157.0  931.0  20.1  56.3\n",
              "1  2013-03-10T11:00:00+01:00   6.0  34.0   53.0  546.0  17.2  47.9\n",
              "2  2013-03-11T17:00:00+01:00  27.0  39.0   97.0  750.0  16.1  40.0\n",
              "3  2013-03-12T04:00:00+01:00   NaN  30.0    NaN  455.0  13.3  36.5\n",
              "4  2013-03-13T02:00:00+01:00   NaN  30.0   32.0  459.0  12.3  29.4"
            ]
          },
          "metadata": {
            "tags": []
          },
          "execution_count": 8
        }
      ]
    },
    {
      "cell_type": "code",
      "metadata": {
        "colab_type": "code",
        "id": "IEXN56QY5rCD",
        "outputId": "2ac1d483-5950-4210-ebf6-29ad00006523",
        "colab": {
          "base_uri": "https://localhost:8080/",
          "height": 390
        }
      },
      "source": [
        "df_chatelet.describe(include='all')"
      ],
      "execution_count": 0,
      "outputs": [
        {
          "output_type": "execute_result",
          "data": {
            "text/html": [
              "<div>\n",
              "<style scoped>\n",
              "    .dataframe tbody tr th:only-of-type {\n",
              "        vertical-align: middle;\n",
              "    }\n",
              "\n",
              "    .dataframe tbody tr th {\n",
              "        vertical-align: top;\n",
              "    }\n",
              "\n",
              "    .dataframe thead th {\n",
              "        text-align: right;\n",
              "    }\n",
              "</style>\n",
              "<table border=\"1\" class=\"dataframe\">\n",
              "  <thead>\n",
              "    <tr style=\"text-align: right;\">\n",
              "      <th></th>\n",
              "      <th>DATE/HEURE</th>\n",
              "      <th>NO</th>\n",
              "      <th>NO2</th>\n",
              "      <th>PM10</th>\n",
              "      <th>CO2</th>\n",
              "      <th>TEMP</th>\n",
              "      <th>HUMI</th>\n",
              "    </tr>\n",
              "  </thead>\n",
              "  <tbody>\n",
              "    <tr>\n",
              "      <th>count</th>\n",
              "      <td>59895</td>\n",
              "      <td>36507.000000</td>\n",
              "      <td>45299.000000</td>\n",
              "      <td>47066.000000</td>\n",
              "      <td>47091.000000</td>\n",
              "      <td>49355.000000</td>\n",
              "      <td>49366.000000</td>\n",
              "    </tr>\n",
              "    <tr>\n",
              "      <th>unique</th>\n",
              "      <td>59894</td>\n",
              "      <td>NaN</td>\n",
              "      <td>NaN</td>\n",
              "      <td>NaN</td>\n",
              "      <td>NaN</td>\n",
              "      <td>NaN</td>\n",
              "      <td>NaN</td>\n",
              "    </tr>\n",
              "    <tr>\n",
              "      <th>top</th>\n",
              "      <td>2019-10-27T03:00:00+01:00</td>\n",
              "      <td>NaN</td>\n",
              "      <td>NaN</td>\n",
              "      <td>NaN</td>\n",
              "      <td>NaN</td>\n",
              "      <td>NaN</td>\n",
              "      <td>NaN</td>\n",
              "    </tr>\n",
              "    <tr>\n",
              "      <th>freq</th>\n",
              "      <td>2</td>\n",
              "      <td>NaN</td>\n",
              "      <td>NaN</td>\n",
              "      <td>NaN</td>\n",
              "      <td>NaN</td>\n",
              "      <td>NaN</td>\n",
              "      <td>NaN</td>\n",
              "    </tr>\n",
              "    <tr>\n",
              "      <th>mean</th>\n",
              "      <td>NaN</td>\n",
              "      <td>28.855069</td>\n",
              "      <td>36.958785</td>\n",
              "      <td>142.336357</td>\n",
              "      <td>591.699709</td>\n",
              "      <td>21.990295</td>\n",
              "      <td>43.705435</td>\n",
              "    </tr>\n",
              "    <tr>\n",
              "      <th>std</th>\n",
              "      <td>NaN</td>\n",
              "      <td>38.133188</td>\n",
              "      <td>14.657478</td>\n",
              "      <td>93.746641</td>\n",
              "      <td>135.791538</td>\n",
              "      <td>3.589124</td>\n",
              "      <td>8.419199</td>\n",
              "    </tr>\n",
              "    <tr>\n",
              "      <th>min</th>\n",
              "      <td>NaN</td>\n",
              "      <td>2.000000</td>\n",
              "      <td>6.000000</td>\n",
              "      <td>5.000000</td>\n",
              "      <td>383.000000</td>\n",
              "      <td>10.800000</td>\n",
              "      <td>20.200000</td>\n",
              "    </tr>\n",
              "    <tr>\n",
              "      <th>25%</th>\n",
              "      <td>NaN</td>\n",
              "      <td>7.000000</td>\n",
              "      <td>27.000000</td>\n",
              "      <td>84.000000</td>\n",
              "      <td>479.000000</td>\n",
              "      <td>19.500000</td>\n",
              "      <td>38.000000</td>\n",
              "    </tr>\n",
              "    <tr>\n",
              "      <th>50%</th>\n",
              "      <td>NaN</td>\n",
              "      <td>15.000000</td>\n",
              "      <td>35.000000</td>\n",
              "      <td>130.000000</td>\n",
              "      <td>574.000000</td>\n",
              "      <td>21.700000</td>\n",
              "      <td>43.100000</td>\n",
              "    </tr>\n",
              "    <tr>\n",
              "      <th>75%</th>\n",
              "      <td>NaN</td>\n",
              "      <td>36.000000</td>\n",
              "      <td>45.000000</td>\n",
              "      <td>184.000000</td>\n",
              "      <td>676.000000</td>\n",
              "      <td>24.700000</td>\n",
              "      <td>48.800000</td>\n",
              "    </tr>\n",
              "    <tr>\n",
              "      <th>max</th>\n",
              "      <td>NaN</td>\n",
              "      <td>768.000000</td>\n",
              "      <td>360.000000</td>\n",
              "      <td>999.000000</td>\n",
              "      <td>2321.000000</td>\n",
              "      <td>31.700000</td>\n",
              "      <td>100.000000</td>\n",
              "    </tr>\n",
              "  </tbody>\n",
              "</table>\n",
              "</div>"
            ],
            "text/plain": [
              "                       DATE/HEURE            NO  ...          TEMP          HUMI\n",
              "count                       59895  36507.000000  ...  49355.000000  49366.000000\n",
              "unique                      59894           NaN  ...           NaN           NaN\n",
              "top     2019-10-27T03:00:00+01:00           NaN  ...           NaN           NaN\n",
              "freq                            2           NaN  ...           NaN           NaN\n",
              "mean                          NaN     28.855069  ...     21.990295     43.705435\n",
              "std                           NaN     38.133188  ...      3.589124      8.419199\n",
              "min                           NaN      2.000000  ...     10.800000     20.200000\n",
              "25%                           NaN      7.000000  ...     19.500000     38.000000\n",
              "50%                           NaN     15.000000  ...     21.700000     43.100000\n",
              "75%                           NaN     36.000000  ...     24.700000     48.800000\n",
              "max                           NaN    768.000000  ...     31.700000    100.000000\n",
              "\n",
              "[11 rows x 7 columns]"
            ]
          },
          "metadata": {
            "tags": []
          },
          "execution_count": 9
        }
      ]
    },
    {
      "cell_type": "code",
      "metadata": {
        "id": "-X1fk2Gg7wef",
        "colab_type": "code",
        "outputId": "e8a4f9f4-f8e4-455d-c041-99eef7e7c40e",
        "colab": {
          "base_uri": "https://localhost:8080/",
          "height": 204
        }
      },
      "source": [
        "df_surfChatelet.tail()"
      ],
      "execution_count": 0,
      "outputs": [
        {
          "output_type": "execute_result",
          "data": {
            "text/html": [
              "<div>\n",
              "<style scoped>\n",
              "    .dataframe tbody tr th:only-of-type {\n",
              "        vertical-align: middle;\n",
              "    }\n",
              "\n",
              "    .dataframe tbody tr th {\n",
              "        vertical-align: top;\n",
              "    }\n",
              "\n",
              "    .dataframe thead th {\n",
              "        text-align: right;\n",
              "    }\n",
              "</style>\n",
              "<table border=\"1\" class=\"dataframe\">\n",
              "  <thead>\n",
              "    <tr style=\"text-align: right;\">\n",
              "      <th></th>\n",
              "      <th>date</th>\n",
              "      <th>heure</th>\n",
              "      <th>PM25</th>\n",
              "      <th>CO</th>\n",
              "      <th>PM10</th>\n",
              "      <th>NO2</th>\n",
              "      <th>O3</th>\n",
              "    </tr>\n",
              "  </thead>\n",
              "  <tbody>\n",
              "    <tr>\n",
              "      <th>1220</th>\n",
              "      <td>17/11/2019</td>\n",
              "      <td>20.0</td>\n",
              "      <td>n/d</td>\n",
              "      <td>n/d</td>\n",
              "      <td>n/d</td>\n",
              "      <td>n/d</td>\n",
              "      <td>n/d</td>\n",
              "    </tr>\n",
              "    <tr>\n",
              "      <th>1221</th>\n",
              "      <td>17/11/2019</td>\n",
              "      <td>21.0</td>\n",
              "      <td>n/d</td>\n",
              "      <td>n/d</td>\n",
              "      <td>n/d</td>\n",
              "      <td>n/d</td>\n",
              "      <td>n/d</td>\n",
              "    </tr>\n",
              "    <tr>\n",
              "      <th>1222</th>\n",
              "      <td>17/11/2019</td>\n",
              "      <td>22.0</td>\n",
              "      <td>n/d</td>\n",
              "      <td>n/d</td>\n",
              "      <td>n/d</td>\n",
              "      <td>n/d</td>\n",
              "      <td>n/d</td>\n",
              "    </tr>\n",
              "    <tr>\n",
              "      <th>1223</th>\n",
              "      <td>17/11/2019</td>\n",
              "      <td>23.0</td>\n",
              "      <td>n/d</td>\n",
              "      <td>n/d</td>\n",
              "      <td>n/d</td>\n",
              "      <td>n/d</td>\n",
              "      <td>n/d</td>\n",
              "    </tr>\n",
              "    <tr>\n",
              "      <th>1224</th>\n",
              "      <td>17/11/2019</td>\n",
              "      <td>24.0</td>\n",
              "      <td>n/d</td>\n",
              "      <td>n/d</td>\n",
              "      <td>n/d</td>\n",
              "      <td>n/d</td>\n",
              "      <td>n/d</td>\n",
              "    </tr>\n",
              "  </tbody>\n",
              "</table>\n",
              "</div>"
            ],
            "text/plain": [
              "            date  heure PM25   CO PM10  NO2   O3\n",
              "1220  17/11/2019   20.0  n/d  n/d  n/d  n/d  n/d\n",
              "1221  17/11/2019   21.0  n/d  n/d  n/d  n/d  n/d\n",
              "1222  17/11/2019   22.0  n/d  n/d  n/d  n/d  n/d\n",
              "1223  17/11/2019   23.0  n/d  n/d  n/d  n/d  n/d\n",
              "1224  17/11/2019   24.0  n/d  n/d  n/d  n/d  n/d"
            ]
          },
          "metadata": {
            "tags": []
          },
          "execution_count": 10
        }
      ]
    },
    {
      "cell_type": "code",
      "metadata": {
        "id": "hTTKO7PJ7aBp",
        "colab_type": "code",
        "outputId": "d11beb19-1be8-4c07-a63a-d77c36db9839",
        "colab": {
          "base_uri": "https://localhost:8080/",
          "height": 390
        }
      },
      "source": [
        "df_surfChatelet.describe(include='all')"
      ],
      "execution_count": 0,
      "outputs": [
        {
          "output_type": "execute_result",
          "data": {
            "text/html": [
              "<div>\n",
              "<style scoped>\n",
              "    .dataframe tbody tr th:only-of-type {\n",
              "        vertical-align: middle;\n",
              "    }\n",
              "\n",
              "    .dataframe tbody tr th {\n",
              "        vertical-align: top;\n",
              "    }\n",
              "\n",
              "    .dataframe thead th {\n",
              "        text-align: right;\n",
              "    }\n",
              "</style>\n",
              "<table border=\"1\" class=\"dataframe\">\n",
              "  <thead>\n",
              "    <tr style=\"text-align: right;\">\n",
              "      <th></th>\n",
              "      <th>date</th>\n",
              "      <th>heure</th>\n",
              "      <th>PM25</th>\n",
              "      <th>CO</th>\n",
              "      <th>PM10</th>\n",
              "      <th>NO2</th>\n",
              "      <th>O3</th>\n",
              "    </tr>\n",
              "  </thead>\n",
              "  <tbody>\n",
              "    <tr>\n",
              "      <th>count</th>\n",
              "      <td>1224</td>\n",
              "      <td>1224.000000</td>\n",
              "      <td>1225</td>\n",
              "      <td>1225</td>\n",
              "      <td>1225</td>\n",
              "      <td>1225</td>\n",
              "      <td>1225</td>\n",
              "    </tr>\n",
              "    <tr>\n",
              "      <th>unique</th>\n",
              "      <td>51</td>\n",
              "      <td>NaN</td>\n",
              "      <td>31</td>\n",
              "      <td>4</td>\n",
              "      <td>48</td>\n",
              "      <td>74</td>\n",
              "      <td>69</td>\n",
              "    </tr>\n",
              "    <tr>\n",
              "      <th>top</th>\n",
              "      <td>12/11/2019</td>\n",
              "      <td>NaN</td>\n",
              "      <td>n/d</td>\n",
              "      <td>0</td>\n",
              "      <td>n/d</td>\n",
              "      <td>n/d</td>\n",
              "      <td>n/d</td>\n",
              "    </tr>\n",
              "    <tr>\n",
              "      <th>freq</th>\n",
              "      <td>24</td>\n",
              "      <td>NaN</td>\n",
              "      <td>872</td>\n",
              "      <td>732</td>\n",
              "      <td>338</td>\n",
              "      <td>322</td>\n",
              "      <td>224</td>\n",
              "    </tr>\n",
              "    <tr>\n",
              "      <th>mean</th>\n",
              "      <td>NaN</td>\n",
              "      <td>12.500000</td>\n",
              "      <td>NaN</td>\n",
              "      <td>NaN</td>\n",
              "      <td>NaN</td>\n",
              "      <td>NaN</td>\n",
              "      <td>NaN</td>\n",
              "    </tr>\n",
              "    <tr>\n",
              "      <th>std</th>\n",
              "      <td>NaN</td>\n",
              "      <td>6.925016</td>\n",
              "      <td>NaN</td>\n",
              "      <td>NaN</td>\n",
              "      <td>NaN</td>\n",
              "      <td>NaN</td>\n",
              "      <td>NaN</td>\n",
              "    </tr>\n",
              "    <tr>\n",
              "      <th>min</th>\n",
              "      <td>NaN</td>\n",
              "      <td>1.000000</td>\n",
              "      <td>NaN</td>\n",
              "      <td>NaN</td>\n",
              "      <td>NaN</td>\n",
              "      <td>NaN</td>\n",
              "      <td>NaN</td>\n",
              "    </tr>\n",
              "    <tr>\n",
              "      <th>25%</th>\n",
              "      <td>NaN</td>\n",
              "      <td>6.750000</td>\n",
              "      <td>NaN</td>\n",
              "      <td>NaN</td>\n",
              "      <td>NaN</td>\n",
              "      <td>NaN</td>\n",
              "      <td>NaN</td>\n",
              "    </tr>\n",
              "    <tr>\n",
              "      <th>50%</th>\n",
              "      <td>NaN</td>\n",
              "      <td>12.500000</td>\n",
              "      <td>NaN</td>\n",
              "      <td>NaN</td>\n",
              "      <td>NaN</td>\n",
              "      <td>NaN</td>\n",
              "      <td>NaN</td>\n",
              "    </tr>\n",
              "    <tr>\n",
              "      <th>75%</th>\n",
              "      <td>NaN</td>\n",
              "      <td>18.250000</td>\n",
              "      <td>NaN</td>\n",
              "      <td>NaN</td>\n",
              "      <td>NaN</td>\n",
              "      <td>NaN</td>\n",
              "      <td>NaN</td>\n",
              "    </tr>\n",
              "    <tr>\n",
              "      <th>max</th>\n",
              "      <td>NaN</td>\n",
              "      <td>24.000000</td>\n",
              "      <td>NaN</td>\n",
              "      <td>NaN</td>\n",
              "      <td>NaN</td>\n",
              "      <td>NaN</td>\n",
              "      <td>NaN</td>\n",
              "    </tr>\n",
              "  </tbody>\n",
              "</table>\n",
              "</div>"
            ],
            "text/plain": [
              "              date        heure  PM25    CO  PM10   NO2    O3\n",
              "count         1224  1224.000000  1225  1225  1225  1225  1225\n",
              "unique          51          NaN    31     4    48    74    69\n",
              "top     12/11/2019          NaN   n/d     0   n/d   n/d   n/d\n",
              "freq            24          NaN   872   732   338   322   224\n",
              "mean           NaN    12.500000   NaN   NaN   NaN   NaN   NaN\n",
              "std            NaN     6.925016   NaN   NaN   NaN   NaN   NaN\n",
              "min            NaN     1.000000   NaN   NaN   NaN   NaN   NaN\n",
              "25%            NaN     6.750000   NaN   NaN   NaN   NaN   NaN\n",
              "50%            NaN    12.500000   NaN   NaN   NaN   NaN   NaN\n",
              "75%            NaN    18.250000   NaN   NaN   NaN   NaN   NaN\n",
              "max            NaN    24.000000   NaN   NaN   NaN   NaN   NaN"
            ]
          },
          "metadata": {
            "tags": []
          },
          "execution_count": 11
        }
      ]
    },
    {
      "cell_type": "markdown",
      "metadata": {
        "colab_type": "text",
        "id": "tYMWeiPt6lQc"
      },
      "source": [
        "### Franklin Roosevelt"
      ]
    },
    {
      "cell_type": "code",
      "metadata": {
        "colab_type": "code",
        "id": "jt8HoflF6o6K",
        "outputId": "ea66b61f-8985-48e6-863a-50d38ee64d6c",
        "colab": {
          "base_uri": "https://localhost:8080/",
          "height": 204
        }
      },
      "source": [
        "df_fr = df_fr.rename(columns={'date/heure': 'DATE/HEURE'})\n",
        "df_fr.head()"
      ],
      "execution_count": 0,
      "outputs": [
        {
          "output_type": "execute_result",
          "data": {
            "text/html": [
              "<div>\n",
              "<style scoped>\n",
              "    .dataframe tbody tr th:only-of-type {\n",
              "        vertical-align: middle;\n",
              "    }\n",
              "\n",
              "    .dataframe tbody tr th {\n",
              "        vertical-align: top;\n",
              "    }\n",
              "\n",
              "    .dataframe thead th {\n",
              "        text-align: right;\n",
              "    }\n",
              "</style>\n",
              "<table border=\"1\" class=\"dataframe\">\n",
              "  <thead>\n",
              "    <tr style=\"text-align: right;\">\n",
              "      <th></th>\n",
              "      <th>DATE/HEURE</th>\n",
              "      <th>NO</th>\n",
              "      <th>NO2</th>\n",
              "      <th>PM10</th>\n",
              "      <th>CO2</th>\n",
              "      <th>TEMP</th>\n",
              "      <th>HUMI</th>\n",
              "    </tr>\n",
              "  </thead>\n",
              "  <tbody>\n",
              "    <tr>\n",
              "      <th>0</th>\n",
              "      <td>2013-06-30T23:00:00+02:00</td>\n",
              "      <td>NaN</td>\n",
              "      <td>NaN</td>\n",
              "      <td>NaN</td>\n",
              "      <td>NaN</td>\n",
              "      <td>NaN</td>\n",
              "      <td>NaN</td>\n",
              "    </tr>\n",
              "    <tr>\n",
              "      <th>1</th>\n",
              "      <td>2014-03-26T03:00:00+01:00</td>\n",
              "      <td>9.0</td>\n",
              "      <td>56.0</td>\n",
              "      <td>16.0</td>\n",
              "      <td>430.0</td>\n",
              "      <td>13.0</td>\n",
              "      <td>40.5</td>\n",
              "    </tr>\n",
              "    <tr>\n",
              "      <th>2</th>\n",
              "      <td>2013-07-06T09:00:00+02:00</td>\n",
              "      <td>NaN</td>\n",
              "      <td>NaN</td>\n",
              "      <td>NaN</td>\n",
              "      <td>NaN</td>\n",
              "      <td>NaN</td>\n",
              "      <td>NaN</td>\n",
              "    </tr>\n",
              "    <tr>\n",
              "      <th>3</th>\n",
              "      <td>2014-03-30T12:00:00+02:00</td>\n",
              "      <td>27.0</td>\n",
              "      <td>77.0</td>\n",
              "      <td>46.0</td>\n",
              "      <td>453.0</td>\n",
              "      <td>16.6</td>\n",
              "      <td>38.3</td>\n",
              "    </tr>\n",
              "    <tr>\n",
              "      <th>4</th>\n",
              "      <td>2013-07-07T13:00:00+02:00</td>\n",
              "      <td>NaN</td>\n",
              "      <td>NaN</td>\n",
              "      <td>NaN</td>\n",
              "      <td>NaN</td>\n",
              "      <td>NaN</td>\n",
              "      <td>NaN</td>\n",
              "    </tr>\n",
              "  </tbody>\n",
              "</table>\n",
              "</div>"
            ],
            "text/plain": [
              "                  DATE/HEURE    NO   NO2  PM10    CO2  TEMP  HUMI\n",
              "0  2013-06-30T23:00:00+02:00   NaN   NaN   NaN    NaN   NaN   NaN\n",
              "1  2014-03-26T03:00:00+01:00   9.0  56.0  16.0  430.0  13.0  40.5\n",
              "2  2013-07-06T09:00:00+02:00   NaN   NaN   NaN    NaN   NaN   NaN\n",
              "3  2014-03-30T12:00:00+02:00  27.0  77.0  46.0  453.0  16.6  38.3\n",
              "4  2013-07-07T13:00:00+02:00   NaN   NaN   NaN    NaN   NaN   NaN"
            ]
          },
          "metadata": {
            "tags": []
          },
          "execution_count": 12
        }
      ]
    },
    {
      "cell_type": "code",
      "metadata": {
        "colab_type": "code",
        "id": "H-RCvleB6rxj",
        "outputId": "399c41b1-eb64-42d5-cccb-0ff096ca3a99",
        "colab": {
          "base_uri": "https://localhost:8080/",
          "height": 390
        }
      },
      "source": [
        "df_fr.describe(include='all')"
      ],
      "execution_count": 0,
      "outputs": [
        {
          "output_type": "execute_result",
          "data": {
            "text/html": [
              "<div>\n",
              "<style scoped>\n",
              "    .dataframe tbody tr th:only-of-type {\n",
              "        vertical-align: middle;\n",
              "    }\n",
              "\n",
              "    .dataframe tbody tr th {\n",
              "        vertical-align: top;\n",
              "    }\n",
              "\n",
              "    .dataframe thead th {\n",
              "        text-align: right;\n",
              "    }\n",
              "</style>\n",
              "<table border=\"1\" class=\"dataframe\">\n",
              "  <thead>\n",
              "    <tr style=\"text-align: right;\">\n",
              "      <th></th>\n",
              "      <th>DATE/HEURE</th>\n",
              "      <th>NO</th>\n",
              "      <th>NO2</th>\n",
              "      <th>PM10</th>\n",
              "      <th>CO2</th>\n",
              "      <th>TEMP</th>\n",
              "      <th>HUMI</th>\n",
              "    </tr>\n",
              "  </thead>\n",
              "  <tbody>\n",
              "    <tr>\n",
              "      <th>count</th>\n",
              "      <td>59895</td>\n",
              "      <td>54352.000000</td>\n",
              "      <td>55023.000000</td>\n",
              "      <td>56407.000000</td>\n",
              "      <td>55264.000000</td>\n",
              "      <td>58000.000000</td>\n",
              "      <td>57993.000000</td>\n",
              "    </tr>\n",
              "    <tr>\n",
              "      <th>unique</th>\n",
              "      <td>59894</td>\n",
              "      <td>NaN</td>\n",
              "      <td>NaN</td>\n",
              "      <td>NaN</td>\n",
              "      <td>NaN</td>\n",
              "      <td>NaN</td>\n",
              "      <td>NaN</td>\n",
              "    </tr>\n",
              "    <tr>\n",
              "      <th>top</th>\n",
              "      <td>2019-10-27T03:00:00+01:00</td>\n",
              "      <td>NaN</td>\n",
              "      <td>NaN</td>\n",
              "      <td>NaN</td>\n",
              "      <td>NaN</td>\n",
              "      <td>NaN</td>\n",
              "      <td>NaN</td>\n",
              "    </tr>\n",
              "    <tr>\n",
              "      <th>freq</th>\n",
              "      <td>2</td>\n",
              "      <td>NaN</td>\n",
              "      <td>NaN</td>\n",
              "      <td>NaN</td>\n",
              "      <td>NaN</td>\n",
              "      <td>NaN</td>\n",
              "      <td>NaN</td>\n",
              "    </tr>\n",
              "    <tr>\n",
              "      <th>mean</th>\n",
              "      <td>NaN</td>\n",
              "      <td>39.854283</td>\n",
              "      <td>57.771041</td>\n",
              "      <td>47.071622</td>\n",
              "      <td>485.979263</td>\n",
              "      <td>19.110683</td>\n",
              "      <td>48.469569</td>\n",
              "    </tr>\n",
              "    <tr>\n",
              "      <th>std</th>\n",
              "      <td>NaN</td>\n",
              "      <td>44.243746</td>\n",
              "      <td>21.812968</td>\n",
              "      <td>43.782352</td>\n",
              "      <td>59.393362</td>\n",
              "      <td>5.045455</td>\n",
              "      <td>10.191480</td>\n",
              "    </tr>\n",
              "    <tr>\n",
              "      <th>min</th>\n",
              "      <td>NaN</td>\n",
              "      <td>1.000000</td>\n",
              "      <td>5.000000</td>\n",
              "      <td>5.000000</td>\n",
              "      <td>381.000000</td>\n",
              "      <td>3.800000</td>\n",
              "      <td>16.000000</td>\n",
              "    </tr>\n",
              "    <tr>\n",
              "      <th>25%</th>\n",
              "      <td>NaN</td>\n",
              "      <td>11.000000</td>\n",
              "      <td>43.000000</td>\n",
              "      <td>24.000000</td>\n",
              "      <td>443.000000</td>\n",
              "      <td>15.300000</td>\n",
              "      <td>41.300000</td>\n",
              "    </tr>\n",
              "    <tr>\n",
              "      <th>50%</th>\n",
              "      <td>NaN</td>\n",
              "      <td>26.000000</td>\n",
              "      <td>57.000000</td>\n",
              "      <td>36.000000</td>\n",
              "      <td>477.000000</td>\n",
              "      <td>18.700000</td>\n",
              "      <td>48.100000</td>\n",
              "    </tr>\n",
              "    <tr>\n",
              "      <th>75%</th>\n",
              "      <td>NaN</td>\n",
              "      <td>52.000000</td>\n",
              "      <td>71.000000</td>\n",
              "      <td>54.000000</td>\n",
              "      <td>516.000000</td>\n",
              "      <td>23.100000</td>\n",
              "      <td>55.300000</td>\n",
              "    </tr>\n",
              "    <tr>\n",
              "      <th>max</th>\n",
              "      <td>NaN</td>\n",
              "      <td>929.000000</td>\n",
              "      <td>265.000000</td>\n",
              "      <td>979.000000</td>\n",
              "      <td>1056.000000</td>\n",
              "      <td>35.200000</td>\n",
              "      <td>95.400000</td>\n",
              "    </tr>\n",
              "  </tbody>\n",
              "</table>\n",
              "</div>"
            ],
            "text/plain": [
              "                       DATE/HEURE            NO  ...          TEMP          HUMI\n",
              "count                       59895  54352.000000  ...  58000.000000  57993.000000\n",
              "unique                      59894           NaN  ...           NaN           NaN\n",
              "top     2019-10-27T03:00:00+01:00           NaN  ...           NaN           NaN\n",
              "freq                            2           NaN  ...           NaN           NaN\n",
              "mean                          NaN     39.854283  ...     19.110683     48.469569\n",
              "std                           NaN     44.243746  ...      5.045455     10.191480\n",
              "min                           NaN      1.000000  ...      3.800000     16.000000\n",
              "25%                           NaN     11.000000  ...     15.300000     41.300000\n",
              "50%                           NaN     26.000000  ...     18.700000     48.100000\n",
              "75%                           NaN     52.000000  ...     23.100000     55.300000\n",
              "max                           NaN    929.000000  ...     35.200000     95.400000\n",
              "\n",
              "[11 rows x 7 columns]"
            ]
          },
          "metadata": {
            "tags": []
          },
          "execution_count": 13
        }
      ]
    },
    {
      "cell_type": "markdown",
      "metadata": {
        "colab_type": "text",
        "id": "QXpEHwTH6uN4"
      },
      "source": [
        "### Auber"
      ]
    },
    {
      "cell_type": "code",
      "metadata": {
        "colab_type": "code",
        "id": "dj3kOXrT6vMA",
        "outputId": "48f337ff-d168-4ade-c2b2-2505b90c107d",
        "colab": {
          "base_uri": "https://localhost:8080/",
          "height": 204
        }
      },
      "source": [
        "df_auber.head()"
      ],
      "execution_count": 0,
      "outputs": [
        {
          "output_type": "execute_result",
          "data": {
            "text/html": [
              "<div>\n",
              "<style scoped>\n",
              "    .dataframe tbody tr th:only-of-type {\n",
              "        vertical-align: middle;\n",
              "    }\n",
              "\n",
              "    .dataframe tbody tr th {\n",
              "        vertical-align: top;\n",
              "    }\n",
              "\n",
              "    .dataframe thead th {\n",
              "        text-align: right;\n",
              "    }\n",
              "</style>\n",
              "<table border=\"1\" class=\"dataframe\">\n",
              "  <thead>\n",
              "    <tr style=\"text-align: right;\">\n",
              "      <th></th>\n",
              "      <th>DATE/HEURE</th>\n",
              "      <th>NO</th>\n",
              "      <th>NO2</th>\n",
              "      <th>PM10</th>\n",
              "      <th>PM2.5</th>\n",
              "      <th>CO2</th>\n",
              "      <th>TEMP</th>\n",
              "      <th>HUMI</th>\n",
              "    </tr>\n",
              "  </thead>\n",
              "  <tbody>\n",
              "    <tr>\n",
              "      <th>0</th>\n",
              "      <td>2013-07-08T07:00:00+02:00</td>\n",
              "      <td>NaN</td>\n",
              "      <td>NaN</td>\n",
              "      <td>175.0</td>\n",
              "      <td>69.0</td>\n",
              "      <td>449.0</td>\n",
              "      <td>27.0</td>\n",
              "      <td>53.2</td>\n",
              "    </tr>\n",
              "    <tr>\n",
              "      <th>1</th>\n",
              "      <td>2013-07-08T15:00:00+02:00</td>\n",
              "      <td>NaN</td>\n",
              "      <td>NaN</td>\n",
              "      <td>257.0</td>\n",
              "      <td>99.0</td>\n",
              "      <td>571.0</td>\n",
              "      <td>29.0</td>\n",
              "      <td>51.8</td>\n",
              "    </tr>\n",
              "    <tr>\n",
              "      <th>2</th>\n",
              "      <td>2013-07-12T14:00:00+02:00</td>\n",
              "      <td>NaN</td>\n",
              "      <td>NaN</td>\n",
              "      <td>272.0</td>\n",
              "      <td>94.0</td>\n",
              "      <td>528.0</td>\n",
              "      <td>27.8</td>\n",
              "      <td>49.0</td>\n",
              "    </tr>\n",
              "    <tr>\n",
              "      <th>3</th>\n",
              "      <td>2013-07-16T06:00:00+02:00</td>\n",
              "      <td>NaN</td>\n",
              "      <td>NaN</td>\n",
              "      <td>65.0</td>\n",
              "      <td>32.0</td>\n",
              "      <td>422.0</td>\n",
              "      <td>27.0</td>\n",
              "      <td>53.7</td>\n",
              "    </tr>\n",
              "    <tr>\n",
              "      <th>4</th>\n",
              "      <td>2013-07-16T07:00:00+02:00</td>\n",
              "      <td>NaN</td>\n",
              "      <td>NaN</td>\n",
              "      <td>97.0</td>\n",
              "      <td>38.0</td>\n",
              "      <td>454.0</td>\n",
              "      <td>27.4</td>\n",
              "      <td>53.5</td>\n",
              "    </tr>\n",
              "  </tbody>\n",
              "</table>\n",
              "</div>"
            ],
            "text/plain": [
              "                  DATE/HEURE  NO  NO2   PM10  PM2.5    CO2  TEMP  HUMI\n",
              "0  2013-07-08T07:00:00+02:00 NaN  NaN  175.0   69.0  449.0  27.0  53.2\n",
              "1  2013-07-08T15:00:00+02:00 NaN  NaN  257.0   99.0  571.0  29.0  51.8\n",
              "2  2013-07-12T14:00:00+02:00 NaN  NaN  272.0   94.0  528.0  27.8  49.0\n",
              "3  2013-07-16T06:00:00+02:00 NaN  NaN   65.0   32.0  422.0  27.0  53.7\n",
              "4  2013-07-16T07:00:00+02:00 NaN  NaN   97.0   38.0  454.0  27.4  53.5"
            ]
          },
          "metadata": {
            "tags": []
          },
          "execution_count": 14
        }
      ]
    },
    {
      "cell_type": "code",
      "metadata": {
        "colab_type": "code",
        "id": "z_TGc7SY6wkD",
        "outputId": "68280b7b-1ddb-4fcb-d880-48977e3cfc6f",
        "colab": {
          "base_uri": "https://localhost:8080/",
          "height": 390
        }
      },
      "source": [
        "df_auber.describe(include='all')"
      ],
      "execution_count": 0,
      "outputs": [
        {
          "output_type": "execute_result",
          "data": {
            "text/html": [
              "<div>\n",
              "<style scoped>\n",
              "    .dataframe tbody tr th:only-of-type {\n",
              "        vertical-align: middle;\n",
              "    }\n",
              "\n",
              "    .dataframe tbody tr th {\n",
              "        vertical-align: top;\n",
              "    }\n",
              "\n",
              "    .dataframe thead th {\n",
              "        text-align: right;\n",
              "    }\n",
              "</style>\n",
              "<table border=\"1\" class=\"dataframe\">\n",
              "  <thead>\n",
              "    <tr style=\"text-align: right;\">\n",
              "      <th></th>\n",
              "      <th>DATE/HEURE</th>\n",
              "      <th>NO</th>\n",
              "      <th>NO2</th>\n",
              "      <th>PM10</th>\n",
              "      <th>PM2.5</th>\n",
              "      <th>CO2</th>\n",
              "      <th>TEMP</th>\n",
              "      <th>HUMI</th>\n",
              "    </tr>\n",
              "  </thead>\n",
              "  <tbody>\n",
              "    <tr>\n",
              "      <th>count</th>\n",
              "      <td>59894</td>\n",
              "      <td>43502.000000</td>\n",
              "      <td>44122.000000</td>\n",
              "      <td>45962.000000</td>\n",
              "      <td>44744.000000</td>\n",
              "      <td>44158.000000</td>\n",
              "      <td>47255.000000</td>\n",
              "      <td>47266.000000</td>\n",
              "    </tr>\n",
              "    <tr>\n",
              "      <th>unique</th>\n",
              "      <td>59894</td>\n",
              "      <td>NaN</td>\n",
              "      <td>NaN</td>\n",
              "      <td>NaN</td>\n",
              "      <td>NaN</td>\n",
              "      <td>NaN</td>\n",
              "      <td>NaN</td>\n",
              "      <td>NaN</td>\n",
              "    </tr>\n",
              "    <tr>\n",
              "      <th>top</th>\n",
              "      <td>2015-08-15T02:00:00+02:00</td>\n",
              "      <td>NaN</td>\n",
              "      <td>NaN</td>\n",
              "      <td>NaN</td>\n",
              "      <td>NaN</td>\n",
              "      <td>NaN</td>\n",
              "      <td>NaN</td>\n",
              "      <td>NaN</td>\n",
              "    </tr>\n",
              "    <tr>\n",
              "      <th>freq</th>\n",
              "      <td>1</td>\n",
              "      <td>NaN</td>\n",
              "      <td>NaN</td>\n",
              "      <td>NaN</td>\n",
              "      <td>NaN</td>\n",
              "      <td>NaN</td>\n",
              "      <td>NaN</td>\n",
              "      <td>NaN</td>\n",
              "    </tr>\n",
              "    <tr>\n",
              "      <th>mean</th>\n",
              "      <td>NaN</td>\n",
              "      <td>56.052848</td>\n",
              "      <td>53.206518</td>\n",
              "      <td>143.257865</td>\n",
              "      <td>62.242848</td>\n",
              "      <td>535.925540</td>\n",
              "      <td>21.332767</td>\n",
              "      <td>44.201870</td>\n",
              "    </tr>\n",
              "    <tr>\n",
              "      <th>std</th>\n",
              "      <td>NaN</td>\n",
              "      <td>69.175808</td>\n",
              "      <td>29.529757</td>\n",
              "      <td>114.485244</td>\n",
              "      <td>49.227822</td>\n",
              "      <td>107.273196</td>\n",
              "      <td>3.851610</td>\n",
              "      <td>7.203966</td>\n",
              "    </tr>\n",
              "    <tr>\n",
              "      <th>min</th>\n",
              "      <td>NaN</td>\n",
              "      <td>2.000000</td>\n",
              "      <td>6.000000</td>\n",
              "      <td>5.000000</td>\n",
              "      <td>2.000000</td>\n",
              "      <td>390.000000</td>\n",
              "      <td>9.500000</td>\n",
              "      <td>19.000000</td>\n",
              "    </tr>\n",
              "    <tr>\n",
              "      <th>25%</th>\n",
              "      <td>NaN</td>\n",
              "      <td>16.000000</td>\n",
              "      <td>39.000000</td>\n",
              "      <td>72.000000</td>\n",
              "      <td>31.000000</td>\n",
              "      <td>451.000000</td>\n",
              "      <td>18.100000</td>\n",
              "      <td>39.200000</td>\n",
              "    </tr>\n",
              "    <tr>\n",
              "      <th>50%</th>\n",
              "      <td>NaN</td>\n",
              "      <td>38.000000</td>\n",
              "      <td>50.000000</td>\n",
              "      <td>114.000000</td>\n",
              "      <td>50.000000</td>\n",
              "      <td>514.000000</td>\n",
              "      <td>21.300000</td>\n",
              "      <td>44.200000</td>\n",
              "    </tr>\n",
              "    <tr>\n",
              "      <th>75%</th>\n",
              "      <td>NaN</td>\n",
              "      <td>73.000000</td>\n",
              "      <td>62.000000</td>\n",
              "      <td>182.000000</td>\n",
              "      <td>79.000000</td>\n",
              "      <td>591.000000</td>\n",
              "      <td>24.400000</td>\n",
              "      <td>49.200000</td>\n",
              "    </tr>\n",
              "    <tr>\n",
              "      <th>max</th>\n",
              "      <td>NaN</td>\n",
              "      <td>1263.000000</td>\n",
              "      <td>931.000000</td>\n",
              "      <td>2584.000000</td>\n",
              "      <td>970.000000</td>\n",
              "      <td>1250.000000</td>\n",
              "      <td>32.600000</td>\n",
              "      <td>68.600000</td>\n",
              "    </tr>\n",
              "  </tbody>\n",
              "</table>\n",
              "</div>"
            ],
            "text/plain": [
              "                       DATE/HEURE            NO  ...          TEMP          HUMI\n",
              "count                       59894  43502.000000  ...  47255.000000  47266.000000\n",
              "unique                      59894           NaN  ...           NaN           NaN\n",
              "top     2015-08-15T02:00:00+02:00           NaN  ...           NaN           NaN\n",
              "freq                            1           NaN  ...           NaN           NaN\n",
              "mean                          NaN     56.052848  ...     21.332767     44.201870\n",
              "std                           NaN     69.175808  ...      3.851610      7.203966\n",
              "min                           NaN      2.000000  ...      9.500000     19.000000\n",
              "25%                           NaN     16.000000  ...     18.100000     39.200000\n",
              "50%                           NaN     38.000000  ...     21.300000     44.200000\n",
              "75%                           NaN     73.000000  ...     24.400000     49.200000\n",
              "max                           NaN   1263.000000  ...     32.600000     68.600000\n",
              "\n",
              "[11 rows x 8 columns]"
            ]
          },
          "metadata": {
            "tags": []
          },
          "execution_count": 15
        }
      ]
    },
    {
      "cell_type": "markdown",
      "metadata": {
        "colab_type": "text",
        "id": "KyHT0qmn7J7e"
      },
      "source": [
        "### 2.1 Missing Values"
      ]
    },
    {
      "cell_type": "code",
      "metadata": {
        "colab_type": "code",
        "id": "khCv2uNi69RP",
        "outputId": "e5c8772f-ff43-4d73-99b4-5dafb35157aa",
        "colab": {
          "base_uri": "https://localhost:8080/",
          "height": 153
        }
      },
      "source": [
        "(df_chatelet.isnull().sum() / len(df_chatelet)) * 100"
      ],
      "execution_count": 0,
      "outputs": [
        {
          "output_type": "execute_result",
          "data": {
            "text/plain": [
              "DATE/HEURE     0.000000\n",
              "NO            39.048335\n",
              "NO2           24.369313\n",
              "PM10          21.419150\n",
              "CO2           21.377410\n",
              "TEMP          17.597462\n",
              "HUMI          17.579097\n",
              "dtype: float64"
            ]
          },
          "metadata": {
            "tags": []
          },
          "execution_count": 16
        }
      ]
    },
    {
      "cell_type": "code",
      "metadata": {
        "colab_type": "code",
        "id": "bF2Whoou7I2c",
        "outputId": "eea6df3f-45e7-4c3d-e38f-2de540237634",
        "colab": {
          "base_uri": "https://localhost:8080/",
          "height": 153
        }
      },
      "source": [
        "(df_fr.isnull().sum() / len(df_fr)) * 100"
      ],
      "execution_count": 0,
      "outputs": [
        {
          "output_type": "execute_result",
          "data": {
            "text/plain": [
              "DATE/HEURE    0.000000\n",
              "NO            9.254529\n",
              "NO2           8.134235\n",
              "PM10          5.823525\n",
              "CO2           7.731864\n",
              "TEMP          3.163870\n",
              "HUMI          3.175557\n",
              "dtype: float64"
            ]
          },
          "metadata": {
            "tags": []
          },
          "execution_count": 17
        }
      ]
    },
    {
      "cell_type": "code",
      "metadata": {
        "colab_type": "code",
        "id": "0hrnTaNI6-Ll",
        "outputId": "9af9a5f6-5240-4024-af70-91eccff34090",
        "colab": {
          "base_uri": "https://localhost:8080/",
          "height": 170
        }
      },
      "source": [
        "(df_auber.isnull().sum() / len(df_auber)) * 100"
      ],
      "execution_count": 0,
      "outputs": [
        {
          "output_type": "execute_result",
          "data": {
            "text/plain": [
              "DATE/HEURE     0.000000\n",
              "NO            27.368351\n",
              "NO2           26.333189\n",
              "PM10          23.261095\n",
              "PM2.5         25.294687\n",
              "CO2           26.273082\n",
              "TEMP          21.102281\n",
              "HUMI          21.083915\n",
              "dtype: float64"
            ]
          },
          "metadata": {
            "tags": []
          },
          "execution_count": 18
        }
      ]
    },
    {
      "cell_type": "markdown",
      "metadata": {
        "colab_type": "text",
        "id": "azE8hVku7lQ7"
      },
      "source": [
        "### 2.2 CO2 data exploration\n"
      ]
    },
    {
      "cell_type": "code",
      "metadata": {
        "id": "Kg-SueWj-pCH",
        "colab_type": "code",
        "outputId": "ebf6bc83-81c3-4442-b49e-2240b7b28140",
        "colab": {
          "base_uri": "https://localhost:8080/",
          "height": 204
        }
      },
      "source": [
        "df_co2 = pd.DataFrame()\n",
        "df_co2['Chatelet'] = df_chatelet['CO2']\n",
        "df_co2['FR'] = df_fr['CO2']\n",
        "df_co2['Auber'] = df_auber['CO2']\n",
        "df_co2['DATE/HEURE'] = df_chatelet['DATE/HEURE']\n",
        "df_co2['DATE/HEURE'] = pd.to_datetime(df_co2['DATE/HEURE'], format='%Y-%m-%dT%H:%M:%S%z')\n",
        "df_co2['Weekday'] = df_co2['DATE/HEURE'].apply(lambda x: x.weekday())\n",
        "df_co2['Month'] = df_co2['DATE/HEURE'].apply(lambda x: x.month)\n",
        "df_co2['Year'] = df_co2['DATE/HEURE'].apply(lambda x: x.year)\n",
        "df_co2['Hour'] = df_co2['DATE/HEURE'].apply(lambda x: x.hour)\n",
        "df_co2.head()"
      ],
      "execution_count": 0,
      "outputs": [
        {
          "output_type": "execute_result",
          "data": {
            "text/html": [
              "<div>\n",
              "<style scoped>\n",
              "    .dataframe tbody tr th:only-of-type {\n",
              "        vertical-align: middle;\n",
              "    }\n",
              "\n",
              "    .dataframe tbody tr th {\n",
              "        vertical-align: top;\n",
              "    }\n",
              "\n",
              "    .dataframe thead th {\n",
              "        text-align: right;\n",
              "    }\n",
              "</style>\n",
              "<table border=\"1\" class=\"dataframe\">\n",
              "  <thead>\n",
              "    <tr style=\"text-align: right;\">\n",
              "      <th></th>\n",
              "      <th>Chatelet</th>\n",
              "      <th>FR</th>\n",
              "      <th>Auber</th>\n",
              "      <th>DATE/HEURE</th>\n",
              "      <th>Weekday</th>\n",
              "      <th>Month</th>\n",
              "      <th>Year</th>\n",
              "      <th>Hour</th>\n",
              "    </tr>\n",
              "  </thead>\n",
              "  <tbody>\n",
              "    <tr>\n",
              "      <th>0</th>\n",
              "      <td>931.0</td>\n",
              "      <td>NaN</td>\n",
              "      <td>449.0</td>\n",
              "      <td>2013-03-07 20:00:00+01:00</td>\n",
              "      <td>3</td>\n",
              "      <td>3</td>\n",
              "      <td>2013</td>\n",
              "      <td>20</td>\n",
              "    </tr>\n",
              "    <tr>\n",
              "      <th>1</th>\n",
              "      <td>546.0</td>\n",
              "      <td>430.0</td>\n",
              "      <td>571.0</td>\n",
              "      <td>2013-03-10 11:00:00+01:00</td>\n",
              "      <td>6</td>\n",
              "      <td>3</td>\n",
              "      <td>2013</td>\n",
              "      <td>11</td>\n",
              "    </tr>\n",
              "    <tr>\n",
              "      <th>2</th>\n",
              "      <td>750.0</td>\n",
              "      <td>NaN</td>\n",
              "      <td>528.0</td>\n",
              "      <td>2013-03-11 17:00:00+01:00</td>\n",
              "      <td>0</td>\n",
              "      <td>3</td>\n",
              "      <td>2013</td>\n",
              "      <td>17</td>\n",
              "    </tr>\n",
              "    <tr>\n",
              "      <th>3</th>\n",
              "      <td>455.0</td>\n",
              "      <td>453.0</td>\n",
              "      <td>422.0</td>\n",
              "      <td>2013-03-12 04:00:00+01:00</td>\n",
              "      <td>1</td>\n",
              "      <td>3</td>\n",
              "      <td>2013</td>\n",
              "      <td>4</td>\n",
              "    </tr>\n",
              "    <tr>\n",
              "      <th>4</th>\n",
              "      <td>459.0</td>\n",
              "      <td>NaN</td>\n",
              "      <td>454.0</td>\n",
              "      <td>2013-03-13 02:00:00+01:00</td>\n",
              "      <td>2</td>\n",
              "      <td>3</td>\n",
              "      <td>2013</td>\n",
              "      <td>2</td>\n",
              "    </tr>\n",
              "  </tbody>\n",
              "</table>\n",
              "</div>"
            ],
            "text/plain": [
              "   Chatelet     FR  Auber  ... Month  Year  Hour\n",
              "0     931.0    NaN  449.0  ...     3  2013    20\n",
              "1     546.0  430.0  571.0  ...     3  2013    11\n",
              "2     750.0    NaN  528.0  ...     3  2013    17\n",
              "3     455.0  453.0  422.0  ...     3  2013     4\n",
              "4     459.0    NaN  454.0  ...     3  2013     2\n",
              "\n",
              "[5 rows x 8 columns]"
            ]
          },
          "metadata": {
            "tags": []
          },
          "execution_count": 19
        }
      ]
    },
    {
      "cell_type": "code",
      "metadata": {
        "id": "tDIRa9Dr_Obr",
        "colab_type": "code",
        "outputId": "e9dbec40-fb30-424b-fc43-6a51109ce7f3",
        "colab": {
          "base_uri": "https://localhost:8080/",
          "height": 709
        }
      },
      "source": [
        "plt.plot(df_co2['Chatelet'][0:100].tolist(), '.-')\n",
        "plt.plot(df_co2['Auber'][0:100].tolist(), '.-', figsize=(14,5))\n",
        "plt.plot(df_co2['FR'][0:100].tolist(), '.-', figsize=(14,5))\n",
        "plt.xlabel('Number of observations')\n",
        "plt.ylabel('CO2 emissions')\n",
        "plt.title('100 first CO2 emissions recorded at each station')\n",
        "plt.legend(['Chatelet', \"FR\", \"Auber\"])\n",
        "plt.show()\n",
        "#df_co2[0:100].plot.line(figsize=(14,5), style= '.-')"
      ],
      "execution_count": 0,
      "outputs": [
        {
          "output_type": "error",
          "ename": "AttributeError",
          "evalue": "ignored",
          "traceback": [
            "\u001b[0;31m---------------------------------------------------------------------------\u001b[0m",
            "\u001b[0;31mAttributeError\u001b[0m                            Traceback (most recent call last)",
            "\u001b[0;32m<ipython-input-37-4a31b5c0e782>\u001b[0m in \u001b[0;36m<module>\u001b[0;34m()\u001b[0m\n\u001b[0;32m----> 1\u001b[0;31m \u001b[0mplt\u001b[0m\u001b[0;34m.\u001b[0m\u001b[0mplot\u001b[0m\u001b[0;34m(\u001b[0m\u001b[0mdf_co2\u001b[0m\u001b[0;34m[\u001b[0m\u001b[0;34m'Chatelet'\u001b[0m\u001b[0;34m]\u001b[0m\u001b[0;34m[\u001b[0m\u001b[0;36m0\u001b[0m\u001b[0;34m:\u001b[0m\u001b[0;36m100\u001b[0m\u001b[0;34m]\u001b[0m\u001b[0;34m.\u001b[0m\u001b[0mtolist\u001b[0m\u001b[0;34m(\u001b[0m\u001b[0;34m)\u001b[0m\u001b[0;34m,\u001b[0m \u001b[0;34m'.-'\u001b[0m\u001b[0;34m,\u001b[0m \u001b[0mfigsize\u001b[0m\u001b[0;34m=\u001b[0m\u001b[0;34m(\u001b[0m\u001b[0;36m14\u001b[0m\u001b[0;34m,\u001b[0m\u001b[0;36m5\u001b[0m\u001b[0;34m)\u001b[0m\u001b[0;34m)\u001b[0m\u001b[0;34m\u001b[0m\u001b[0;34m\u001b[0m\u001b[0m\n\u001b[0m\u001b[1;32m      2\u001b[0m \u001b[0mplt\u001b[0m\u001b[0;34m.\u001b[0m\u001b[0mplot\u001b[0m\u001b[0;34m(\u001b[0m\u001b[0mdf_co2\u001b[0m\u001b[0;34m[\u001b[0m\u001b[0;34m'Auber'\u001b[0m\u001b[0;34m]\u001b[0m\u001b[0;34m[\u001b[0m\u001b[0;36m0\u001b[0m\u001b[0;34m:\u001b[0m\u001b[0;36m100\u001b[0m\u001b[0;34m]\u001b[0m\u001b[0;34m.\u001b[0m\u001b[0mtolist\u001b[0m\u001b[0;34m(\u001b[0m\u001b[0;34m)\u001b[0m\u001b[0;34m,\u001b[0m \u001b[0;34m'.-'\u001b[0m\u001b[0;34m,\u001b[0m \u001b[0mfigsize\u001b[0m\u001b[0;34m=\u001b[0m\u001b[0;34m(\u001b[0m\u001b[0;36m14\u001b[0m\u001b[0;34m,\u001b[0m\u001b[0;36m5\u001b[0m\u001b[0;34m)\u001b[0m\u001b[0;34m)\u001b[0m\u001b[0;34m\u001b[0m\u001b[0;34m\u001b[0m\u001b[0m\n\u001b[1;32m      3\u001b[0m \u001b[0mplt\u001b[0m\u001b[0;34m.\u001b[0m\u001b[0mplot\u001b[0m\u001b[0;34m(\u001b[0m\u001b[0mdf_co2\u001b[0m\u001b[0;34m[\u001b[0m\u001b[0;34m'FR'\u001b[0m\u001b[0;34m]\u001b[0m\u001b[0;34m[\u001b[0m\u001b[0;36m0\u001b[0m\u001b[0;34m:\u001b[0m\u001b[0;36m100\u001b[0m\u001b[0;34m]\u001b[0m\u001b[0;34m.\u001b[0m\u001b[0mtolist\u001b[0m\u001b[0;34m(\u001b[0m\u001b[0;34m)\u001b[0m\u001b[0;34m,\u001b[0m \u001b[0;34m'.-'\u001b[0m\u001b[0;34m,\u001b[0m \u001b[0mfigsize\u001b[0m\u001b[0;34m=\u001b[0m\u001b[0;34m(\u001b[0m\u001b[0;36m14\u001b[0m\u001b[0;34m,\u001b[0m\u001b[0;36m5\u001b[0m\u001b[0;34m)\u001b[0m\u001b[0;34m)\u001b[0m\u001b[0;34m\u001b[0m\u001b[0;34m\u001b[0m\u001b[0m\n\u001b[1;32m      4\u001b[0m \u001b[0mplt\u001b[0m\u001b[0;34m.\u001b[0m\u001b[0mxlabel\u001b[0m\u001b[0;34m(\u001b[0m\u001b[0;34m'Number of observations'\u001b[0m\u001b[0;34m)\u001b[0m\u001b[0;34m\u001b[0m\u001b[0;34m\u001b[0m\u001b[0m\n\u001b[1;32m      5\u001b[0m \u001b[0mplt\u001b[0m\u001b[0;34m.\u001b[0m\u001b[0mylabel\u001b[0m\u001b[0;34m(\u001b[0m\u001b[0;34m'CO2 emissions'\u001b[0m\u001b[0;34m)\u001b[0m\u001b[0;34m\u001b[0m\u001b[0;34m\u001b[0m\u001b[0m\n",
            "\u001b[0;32m/usr/local/lib/python3.6/dist-packages/matplotlib/pyplot.py\u001b[0m in \u001b[0;36mplot\u001b[0;34m(scalex, scaley, data, *args, **kwargs)\u001b[0m\n\u001b[1;32m   2793\u001b[0m     return gca().plot(\n\u001b[1;32m   2794\u001b[0m         *args, scalex=scalex, scaley=scaley, **({\"data\": data} if data\n\u001b[0;32m-> 2795\u001b[0;31m         is not None else {}), **kwargs)\n\u001b[0m\u001b[1;32m   2796\u001b[0m \u001b[0;34m\u001b[0m\u001b[0m\n\u001b[1;32m   2797\u001b[0m \u001b[0;34m\u001b[0m\u001b[0m\n",
            "\u001b[0;32m/usr/local/lib/python3.6/dist-packages/matplotlib/axes/_axes.py\u001b[0m in \u001b[0;36mplot\u001b[0;34m(self, scalex, scaley, data, *args, **kwargs)\u001b[0m\n\u001b[1;32m   1664\u001b[0m         \"\"\"\n\u001b[1;32m   1665\u001b[0m         \u001b[0mkwargs\u001b[0m \u001b[0;34m=\u001b[0m \u001b[0mcbook\u001b[0m\u001b[0;34m.\u001b[0m\u001b[0mnormalize_kwargs\u001b[0m\u001b[0;34m(\u001b[0m\u001b[0mkwargs\u001b[0m\u001b[0;34m,\u001b[0m \u001b[0mmlines\u001b[0m\u001b[0;34m.\u001b[0m\u001b[0mLine2D\u001b[0m\u001b[0;34m.\u001b[0m\u001b[0m_alias_map\u001b[0m\u001b[0;34m)\u001b[0m\u001b[0;34m\u001b[0m\u001b[0;34m\u001b[0m\u001b[0m\n\u001b[0;32m-> 1666\u001b[0;31m         \u001b[0mlines\u001b[0m \u001b[0;34m=\u001b[0m \u001b[0;34m[\u001b[0m\u001b[0;34m*\u001b[0m\u001b[0mself\u001b[0m\u001b[0;34m.\u001b[0m\u001b[0m_get_lines\u001b[0m\u001b[0;34m(\u001b[0m\u001b[0;34m*\u001b[0m\u001b[0margs\u001b[0m\u001b[0;34m,\u001b[0m \u001b[0mdata\u001b[0m\u001b[0;34m=\u001b[0m\u001b[0mdata\u001b[0m\u001b[0;34m,\u001b[0m \u001b[0;34m**\u001b[0m\u001b[0mkwargs\u001b[0m\u001b[0;34m)\u001b[0m\u001b[0;34m]\u001b[0m\u001b[0;34m\u001b[0m\u001b[0;34m\u001b[0m\u001b[0m\n\u001b[0m\u001b[1;32m   1667\u001b[0m         \u001b[0;32mfor\u001b[0m \u001b[0mline\u001b[0m \u001b[0;32min\u001b[0m \u001b[0mlines\u001b[0m\u001b[0;34m:\u001b[0m\u001b[0;34m\u001b[0m\u001b[0;34m\u001b[0m\u001b[0m\n\u001b[1;32m   1668\u001b[0m             \u001b[0mself\u001b[0m\u001b[0;34m.\u001b[0m\u001b[0madd_line\u001b[0m\u001b[0;34m(\u001b[0m\u001b[0mline\u001b[0m\u001b[0;34m)\u001b[0m\u001b[0;34m\u001b[0m\u001b[0;34m\u001b[0m\u001b[0m\n",
            "\u001b[0;32m/usr/local/lib/python3.6/dist-packages/matplotlib/axes/_base.py\u001b[0m in \u001b[0;36m__call__\u001b[0;34m(self, *args, **kwargs)\u001b[0m\n\u001b[1;32m    223\u001b[0m                 \u001b[0mthis\u001b[0m \u001b[0;34m+=\u001b[0m \u001b[0margs\u001b[0m\u001b[0;34m[\u001b[0m\u001b[0;36m0\u001b[0m\u001b[0;34m]\u001b[0m\u001b[0;34m,\u001b[0m\u001b[0;34m\u001b[0m\u001b[0;34m\u001b[0m\u001b[0m\n\u001b[1;32m    224\u001b[0m                 \u001b[0margs\u001b[0m \u001b[0;34m=\u001b[0m \u001b[0margs\u001b[0m\u001b[0;34m[\u001b[0m\u001b[0;36m1\u001b[0m\u001b[0;34m:\u001b[0m\u001b[0;34m]\u001b[0m\u001b[0;34m\u001b[0m\u001b[0;34m\u001b[0m\u001b[0m\n\u001b[0;32m--> 225\u001b[0;31m             \u001b[0;32myield\u001b[0m \u001b[0;32mfrom\u001b[0m \u001b[0mself\u001b[0m\u001b[0;34m.\u001b[0m\u001b[0m_plot_args\u001b[0m\u001b[0;34m(\u001b[0m\u001b[0mthis\u001b[0m\u001b[0;34m,\u001b[0m \u001b[0mkwargs\u001b[0m\u001b[0;34m)\u001b[0m\u001b[0;34m\u001b[0m\u001b[0;34m\u001b[0m\u001b[0m\n\u001b[0m\u001b[1;32m    226\u001b[0m \u001b[0;34m\u001b[0m\u001b[0m\n\u001b[1;32m    227\u001b[0m     \u001b[0;32mdef\u001b[0m \u001b[0mget_next_color\u001b[0m\u001b[0;34m(\u001b[0m\u001b[0mself\u001b[0m\u001b[0;34m)\u001b[0m\u001b[0;34m:\u001b[0m\u001b[0;34m\u001b[0m\u001b[0;34m\u001b[0m\u001b[0m\n",
            "\u001b[0;32m/usr/local/lib/python3.6/dist-packages/matplotlib/axes/_base.py\u001b[0m in \u001b[0;36m_plot_args\u001b[0;34m(self, tup, kwargs)\u001b[0m\n\u001b[1;32m    403\u001b[0m                 \"non-matching shapes is deprecated.\")\n\u001b[1;32m    404\u001b[0m         \u001b[0;32mfor\u001b[0m \u001b[0mj\u001b[0m \u001b[0;32min\u001b[0m \u001b[0mrange\u001b[0m\u001b[0;34m(\u001b[0m\u001b[0mmax\u001b[0m\u001b[0;34m(\u001b[0m\u001b[0mncx\u001b[0m\u001b[0;34m,\u001b[0m \u001b[0mncy\u001b[0m\u001b[0;34m)\u001b[0m\u001b[0;34m)\u001b[0m\u001b[0;34m:\u001b[0m\u001b[0;34m\u001b[0m\u001b[0;34m\u001b[0m\u001b[0m\n\u001b[0;32m--> 405\u001b[0;31m             \u001b[0mseg\u001b[0m \u001b[0;34m=\u001b[0m \u001b[0mfunc\u001b[0m\u001b[0;34m(\u001b[0m\u001b[0mx\u001b[0m\u001b[0;34m[\u001b[0m\u001b[0;34m:\u001b[0m\u001b[0;34m,\u001b[0m \u001b[0mj\u001b[0m \u001b[0;34m%\u001b[0m \u001b[0mncx\u001b[0m\u001b[0;34m]\u001b[0m\u001b[0;34m,\u001b[0m \u001b[0my\u001b[0m\u001b[0;34m[\u001b[0m\u001b[0;34m:\u001b[0m\u001b[0;34m,\u001b[0m \u001b[0mj\u001b[0m \u001b[0;34m%\u001b[0m \u001b[0mncy\u001b[0m\u001b[0;34m]\u001b[0m\u001b[0;34m,\u001b[0m \u001b[0mkw\u001b[0m\u001b[0;34m,\u001b[0m \u001b[0mkwargs\u001b[0m\u001b[0;34m)\u001b[0m\u001b[0;34m\u001b[0m\u001b[0;34m\u001b[0m\u001b[0m\n\u001b[0m\u001b[1;32m    406\u001b[0m             \u001b[0mret\u001b[0m\u001b[0;34m.\u001b[0m\u001b[0mappend\u001b[0m\u001b[0;34m(\u001b[0m\u001b[0mseg\u001b[0m\u001b[0;34m)\u001b[0m\u001b[0;34m\u001b[0m\u001b[0;34m\u001b[0m\u001b[0m\n\u001b[1;32m    407\u001b[0m         \u001b[0;32mreturn\u001b[0m \u001b[0mret\u001b[0m\u001b[0;34m\u001b[0m\u001b[0;34m\u001b[0m\u001b[0m\n",
            "\u001b[0;32m/usr/local/lib/python3.6/dist-packages/matplotlib/axes/_base.py\u001b[0m in \u001b[0;36m_makeline\u001b[0;34m(self, x, y, kw, kwargs)\u001b[0m\n\u001b[1;32m    310\u001b[0m         \u001b[0mdefault_dict\u001b[0m \u001b[0;34m=\u001b[0m \u001b[0mself\u001b[0m\u001b[0;34m.\u001b[0m\u001b[0m_getdefaults\u001b[0m\u001b[0;34m(\u001b[0m\u001b[0mset\u001b[0m\u001b[0;34m(\u001b[0m\u001b[0;34m)\u001b[0m\u001b[0;34m,\u001b[0m \u001b[0mkw\u001b[0m\u001b[0;34m)\u001b[0m\u001b[0;34m\u001b[0m\u001b[0;34m\u001b[0m\u001b[0m\n\u001b[1;32m    311\u001b[0m         \u001b[0mself\u001b[0m\u001b[0;34m.\u001b[0m\u001b[0m_setdefaults\u001b[0m\u001b[0;34m(\u001b[0m\u001b[0mdefault_dict\u001b[0m\u001b[0;34m,\u001b[0m \u001b[0mkw\u001b[0m\u001b[0;34m)\u001b[0m\u001b[0;34m\u001b[0m\u001b[0;34m\u001b[0m\u001b[0m\n\u001b[0;32m--> 312\u001b[0;31m         \u001b[0mseg\u001b[0m \u001b[0;34m=\u001b[0m \u001b[0mmlines\u001b[0m\u001b[0;34m.\u001b[0m\u001b[0mLine2D\u001b[0m\u001b[0;34m(\u001b[0m\u001b[0mx\u001b[0m\u001b[0;34m,\u001b[0m \u001b[0my\u001b[0m\u001b[0;34m,\u001b[0m \u001b[0;34m**\u001b[0m\u001b[0mkw\u001b[0m\u001b[0;34m)\u001b[0m\u001b[0;34m\u001b[0m\u001b[0;34m\u001b[0m\u001b[0m\n\u001b[0m\u001b[1;32m    313\u001b[0m         \u001b[0;32mreturn\u001b[0m \u001b[0mseg\u001b[0m\u001b[0;34m\u001b[0m\u001b[0;34m\u001b[0m\u001b[0m\n\u001b[1;32m    314\u001b[0m \u001b[0;34m\u001b[0m\u001b[0m\n",
            "\u001b[0;32m/usr/local/lib/python3.6/dist-packages/matplotlib/lines.py\u001b[0m in \u001b[0;36m__init__\u001b[0;34m(self, xdata, ydata, linewidth, linestyle, color, marker, markersize, markeredgewidth, markeredgecolor, markerfacecolor, markerfacecoloralt, fillstyle, antialiased, dash_capstyle, solid_capstyle, dash_joinstyle, solid_joinstyle, pickradius, drawstyle, markevery, **kwargs)\u001b[0m\n\u001b[1;32m    402\u001b[0m         \u001b[0;31m# update kwargs before updating data to give the caller a\u001b[0m\u001b[0;34m\u001b[0m\u001b[0;34m\u001b[0m\u001b[0;34m\u001b[0m\u001b[0m\n\u001b[1;32m    403\u001b[0m         \u001b[0;31m# chance to init axes (and hence unit support)\u001b[0m\u001b[0;34m\u001b[0m\u001b[0;34m\u001b[0m\u001b[0;34m\u001b[0m\u001b[0m\n\u001b[0;32m--> 404\u001b[0;31m         \u001b[0mself\u001b[0m\u001b[0;34m.\u001b[0m\u001b[0mupdate\u001b[0m\u001b[0;34m(\u001b[0m\u001b[0mkwargs\u001b[0m\u001b[0;34m)\u001b[0m\u001b[0;34m\u001b[0m\u001b[0;34m\u001b[0m\u001b[0m\n\u001b[0m\u001b[1;32m    405\u001b[0m         \u001b[0mself\u001b[0m\u001b[0;34m.\u001b[0m\u001b[0mpickradius\u001b[0m \u001b[0;34m=\u001b[0m \u001b[0mpickradius\u001b[0m\u001b[0;34m\u001b[0m\u001b[0;34m\u001b[0m\u001b[0m\n\u001b[1;32m    406\u001b[0m         \u001b[0mself\u001b[0m\u001b[0;34m.\u001b[0m\u001b[0mind_offset\u001b[0m \u001b[0;34m=\u001b[0m \u001b[0;36m0\u001b[0m\u001b[0;34m\u001b[0m\u001b[0;34m\u001b[0m\u001b[0m\n",
            "\u001b[0;32m/usr/local/lib/python3.6/dist-packages/matplotlib/artist.py\u001b[0m in \u001b[0;36mupdate\u001b[0;34m(self, props)\u001b[0m\n\u001b[1;32m    972\u001b[0m \u001b[0;34m\u001b[0m\u001b[0m\n\u001b[1;32m    973\u001b[0m         \u001b[0;32mwith\u001b[0m \u001b[0mcbook\u001b[0m\u001b[0;34m.\u001b[0m\u001b[0m_setattr_cm\u001b[0m\u001b[0;34m(\u001b[0m\u001b[0mself\u001b[0m\u001b[0;34m,\u001b[0m \u001b[0meventson\u001b[0m\u001b[0;34m=\u001b[0m\u001b[0;32mFalse\u001b[0m\u001b[0;34m)\u001b[0m\u001b[0;34m:\u001b[0m\u001b[0;34m\u001b[0m\u001b[0;34m\u001b[0m\u001b[0m\n\u001b[0;32m--> 974\u001b[0;31m             \u001b[0mret\u001b[0m \u001b[0;34m=\u001b[0m \u001b[0;34m[\u001b[0m\u001b[0m_update_property\u001b[0m\u001b[0;34m(\u001b[0m\u001b[0mself\u001b[0m\u001b[0;34m,\u001b[0m \u001b[0mk\u001b[0m\u001b[0;34m,\u001b[0m \u001b[0mv\u001b[0m\u001b[0;34m)\u001b[0m \u001b[0;32mfor\u001b[0m \u001b[0mk\u001b[0m\u001b[0;34m,\u001b[0m \u001b[0mv\u001b[0m \u001b[0;32min\u001b[0m \u001b[0mprops\u001b[0m\u001b[0;34m.\u001b[0m\u001b[0mitems\u001b[0m\u001b[0;34m(\u001b[0m\u001b[0;34m)\u001b[0m\u001b[0;34m]\u001b[0m\u001b[0;34m\u001b[0m\u001b[0;34m\u001b[0m\u001b[0m\n\u001b[0m\u001b[1;32m    975\u001b[0m \u001b[0;34m\u001b[0m\u001b[0m\n\u001b[1;32m    976\u001b[0m         \u001b[0;32mif\u001b[0m \u001b[0mlen\u001b[0m\u001b[0;34m(\u001b[0m\u001b[0mret\u001b[0m\u001b[0;34m)\u001b[0m\u001b[0;34m:\u001b[0m\u001b[0;34m\u001b[0m\u001b[0;34m\u001b[0m\u001b[0m\n",
            "\u001b[0;32m/usr/local/lib/python3.6/dist-packages/matplotlib/artist.py\u001b[0m in \u001b[0;36m<listcomp>\u001b[0;34m(.0)\u001b[0m\n\u001b[1;32m    972\u001b[0m \u001b[0;34m\u001b[0m\u001b[0m\n\u001b[1;32m    973\u001b[0m         \u001b[0;32mwith\u001b[0m \u001b[0mcbook\u001b[0m\u001b[0;34m.\u001b[0m\u001b[0m_setattr_cm\u001b[0m\u001b[0;34m(\u001b[0m\u001b[0mself\u001b[0m\u001b[0;34m,\u001b[0m \u001b[0meventson\u001b[0m\u001b[0;34m=\u001b[0m\u001b[0;32mFalse\u001b[0m\u001b[0;34m)\u001b[0m\u001b[0;34m:\u001b[0m\u001b[0;34m\u001b[0m\u001b[0;34m\u001b[0m\u001b[0m\n\u001b[0;32m--> 974\u001b[0;31m             \u001b[0mret\u001b[0m \u001b[0;34m=\u001b[0m \u001b[0;34m[\u001b[0m\u001b[0m_update_property\u001b[0m\u001b[0;34m(\u001b[0m\u001b[0mself\u001b[0m\u001b[0;34m,\u001b[0m \u001b[0mk\u001b[0m\u001b[0;34m,\u001b[0m \u001b[0mv\u001b[0m\u001b[0;34m)\u001b[0m \u001b[0;32mfor\u001b[0m \u001b[0mk\u001b[0m\u001b[0;34m,\u001b[0m \u001b[0mv\u001b[0m \u001b[0;32min\u001b[0m \u001b[0mprops\u001b[0m\u001b[0;34m.\u001b[0m\u001b[0mitems\u001b[0m\u001b[0;34m(\u001b[0m\u001b[0;34m)\u001b[0m\u001b[0;34m]\u001b[0m\u001b[0;34m\u001b[0m\u001b[0;34m\u001b[0m\u001b[0m\n\u001b[0m\u001b[1;32m    975\u001b[0m \u001b[0;34m\u001b[0m\u001b[0m\n\u001b[1;32m    976\u001b[0m         \u001b[0;32mif\u001b[0m \u001b[0mlen\u001b[0m\u001b[0;34m(\u001b[0m\u001b[0mret\u001b[0m\u001b[0;34m)\u001b[0m\u001b[0;34m:\u001b[0m\u001b[0;34m\u001b[0m\u001b[0;34m\u001b[0m\u001b[0m\n",
            "\u001b[0;32m/usr/local/lib/python3.6/dist-packages/matplotlib/artist.py\u001b[0m in \u001b[0;36m_update_property\u001b[0;34m(self, k, v)\u001b[0m\n\u001b[1;32m    968\u001b[0m                 \u001b[0;32mif\u001b[0m \u001b[0;32mnot\u001b[0m \u001b[0mcallable\u001b[0m\u001b[0;34m(\u001b[0m\u001b[0mfunc\u001b[0m\u001b[0;34m)\u001b[0m\u001b[0;34m:\u001b[0m\u001b[0;34m\u001b[0m\u001b[0;34m\u001b[0m\u001b[0m\n\u001b[1;32m    969\u001b[0m                     raise AttributeError('{!r} object has no property {!r}'\n\u001b[0;32m--> 970\u001b[0;31m                                          .format(type(self).__name__, k))\n\u001b[0m\u001b[1;32m    971\u001b[0m                 \u001b[0;32mreturn\u001b[0m \u001b[0mfunc\u001b[0m\u001b[0;34m(\u001b[0m\u001b[0mv\u001b[0m\u001b[0;34m)\u001b[0m\u001b[0;34m\u001b[0m\u001b[0;34m\u001b[0m\u001b[0m\n\u001b[1;32m    972\u001b[0m \u001b[0;34m\u001b[0m\u001b[0m\n",
            "\u001b[0;31mAttributeError\u001b[0m: 'Line2D' object has no property 'figsize'"
          ]
        },
        {
          "output_type": "display_data",
          "data": {
            "image/png": "[encoded data removed]",
            "text/plain": [
              "<Figure size 576x396 with 1 Axes>"
            ]
          },
          "metadata": {
            "tags": []
          }
        }
      ]
    },
    {
      "cell_type": "code",
      "metadata": {
        "id": "9zTgYwARrSLG",
        "colab_type": "code",
        "outputId": "83d0518b-24dd-43a6-f0e0-9d50aab6c76b",
        "colab": {
          "base_uri": "https://localhost:8080/",
          "height": 376
        }
      },
      "source": [
        "weekdays_emissions = pd.DataFrame([0,1,2,3,4,5,6,7,8,9,10,11,12,13,14,15,16,17,18,19,20,21,22,23], columns=['Hour'])\n",
        "weekdays_emissions['Daily_CO2_Mean_Chatelet'] = df_co2.groupby('Hour')['Chatelet'].mean()\n",
        "#weekdays_emissions['Daily_CO2_STD_Chatelet'] = df_co2.groupby('Weekday')['Chatelet'].std()\n",
        "weekdays_emissions['Daily_CO2_Mean_Auber'] = df_co2.groupby('Hour')['Auber'].mean()\n",
        "#weekdays_emissions['Daily_CO2_STD_Auber'] = df_co2.groupby('Weekday')['Auber'].std()\n",
        "weekdays_emissions['Daily_CO2_Mean_FR'] = df_co2.groupby('Hour')['FR'].mean()\n",
        "#weekdays_emissions['Daily_CO2_STD_FR'] = df_co2.groupby('Weekday')['FR'].std()\n",
        "weekdays_emissions\n",
        "\n",
        "plt.plot(weekdays_emissions['Hour'].tolist(), weekdays_emissions['Daily_CO2_Mean_Chatelet'].tolist(), '.-')\n",
        "plt.plot(weekdays_emissions['Hour'].tolist(), weekdays_emissions['Daily_CO2_Mean_FR'].tolist(),'.-')\n",
        "plt.plot(weekdays_emissions['Hour'].tolist(), weekdays_emissions['Daily_CO2_Mean_Auber'].tolist(),'.-')\n",
        "plt.xlabel('Hours')\n",
        "plt.ylabel('CO2 emissions')\n",
        "plt.title('Mean CO2 emmision for each hour of the day for each subway station')\n",
        "plt.legend(['Chatelet', \"FR\", \"Auber\"])\n",
        "plt.show()"
      ],
      "execution_count": 0,
      "outputs": [
        {
          "output_type": "display_data",
          "data": {
            "image/png": "[encoded data removed]",
            "text/plain": [
              "<Figure size 576x396 with 1 Axes>"
            ]
          },
          "metadata": {
            "tags": []
          }
        }
      ]
    },
    {
      "cell_type": "code",
      "metadata": {
        "id": "IApjEd23_SUw",
        "colab_type": "code",
        "outputId": "7b786fba-a370-4a32-83b0-982b49cbdd92",
        "colab": {
          "base_uri": "https://localhost:8080/",
          "height": 376
        }
      },
      "source": [
        "weekdays_emissions = pd.DataFrame([0,1,2,3,4,5,6], columns=['Weekday'])\n",
        "weekdays_emissions['Daily_CO2_Mean_Chatelet'] = df_co2.groupby('Weekday')['Chatelet'].mean()\n",
        "#weekdays_emissions['Daily_CO2_STD_Chatelet'] = df_co2.groupby('Weekday')['Chatelet'].std()\n",
        "weekdays_emissions['Daily_CO2_Mean_Auber'] = df_co2.groupby('Weekday')['Auber'].mean()\n",
        "#weekdays_emissions['Daily_CO2_STD_Auber'] = df_co2.groupby('Weekday')['Auber'].std()\n",
        "weekdays_emissions['Daily_CO2_Mean_FR'] = df_co2.groupby('Weekday')['FR'].mean()\n",
        "#weekdays_emissions['Daily_CO2_STD_FR'] = df_co2.groupby('Weekday')['FR'].std()\n",
        "weekdays_emissions\n",
        "\n",
        "plt.plot(weekdays_emissions['Weekday'].tolist(), weekdays_emissions['Daily_CO2_Mean_Chatelet'].tolist(), '.-')\n",
        "plt.plot(weekdays_emissions['Weekday'].tolist(), weekdays_emissions['Daily_CO2_Mean_FR'].tolist(),'.-')\n",
        "plt.plot(weekdays_emissions['Weekday'].tolist(), weekdays_emissions['Daily_CO2_Mean_Auber'].tolist(),'.-')\n",
        "plt.xlabel('Weekdays')\n",
        "plt.ylabel('CO2 emissions')\n",
        "plt.title('Mean CO2 emmision for each day for each subway station')\n",
        "plt.legend(['Chatelet', \"FR\", \"Auber\"])\n",
        "plt.show()"
      ],
      "execution_count": 0,
      "outputs": [
        {
          "output_type": "display_data",
          "data": {
            "image/png": "[encoded data removed]",
            "text/plain": [
              "<Figure size 576x396 with 1 Axes>"
            ]
          },
          "metadata": {
            "tags": []
          }
        }
      ]
    },
    {
      "cell_type": "code",
      "metadata": {
        "id": "glU1cnIn_VCM",
        "colab_type": "code",
        "outputId": "4efd892b-fa53-4a75-e2b0-e3dc8a00170e",
        "colab": {
          "base_uri": "https://localhost:8080/",
          "height": 376
        }
      },
      "source": [
        "month_emissions = pd.DataFrame([0,1,2,3,4,5,6,7,8,9,10,11], columns=['Month'])\n",
        "month_emissions['Monthly_CO2_Mean_Chatelet'] = df_co2.groupby('Month')['Chatelet'].mean()\n",
        "month_emissions['Monthly_CO2_STD_Chatelet'] = df_co2.groupby('Month')['Chatelet'].std()\n",
        "month_emissions['Monthly_CO2_Mean_FR'] = df_co2.groupby('Month')['FR'].mean()\n",
        "month_emissions['Monthly_CO2_STD_FR'] = df_co2.groupby('Month')['FR'].std()\n",
        "month_emissions['Monthly_CO2_Mean_Auber'] = df_co2.groupby('Month')['Auber'].mean()\n",
        "month_emissions['Monthly_CO2_STD_Auber'] = df_co2.groupby('Month')['Auber'].std()\n",
        "\n",
        "plt.plot(month_emissions['Month'].tolist(), month_emissions['Monthly_CO2_Mean_Chatelet'].tolist(), y '.-')\n",
        "plt.plot(month_emissions['Month'].tolist(), month_emissions['Monthly_CO2_Mean_FR'].tolist(),'.-')\n",
        "plt.plot(month_emissions['Month'].tolist(), month_emissions['Monthly_CO2_Mean_Auber'].tolist(),'.-')\n",
        "plt.xlabel('Months')\n",
        "plt.ylabel('CO2 emissions')\n",
        "plt.title('Mean CO2 emmision for each month for each subway station')\n",
        "plt.legend(['Chaletel', \"FR\", \"Auber\"])\n",
        "plt.show()"
      ],
      "execution_count": 0,
      "outputs": [
        {
          "output_type": "display_data",
          "data": {
            "image/png": "[encoded data removed]",
            "text/plain": [
              "<Figure size 576x396 with 1 Axes>"
            ]
          },
          "metadata": {
            "tags": []
          }
        }
      ]
    },
    {
      "cell_type": "markdown",
      "metadata": {
        "id": "AZvNU9EY-pCK",
        "colab_type": "text"
      },
      "source": [
        "## 3. Models"
      ]
    },
    {
      "cell_type": "markdown",
      "metadata": {
        "id": "RWub9iBf-pCL",
        "colab_type": "text"
      },
      "source": [
        "Autoregression models assume that we have equally time spaced observations. Which we do not.\n",
        "Maybe a solution here -> https://www.aanda.org/articles/aa/pdf/2019/07/aa35560-19.pdf ie Irregular Autoregressive (IAR) model or CARMA.\n",
        "\n",
        "Update : No"
      ]
    },
    {
      "cell_type": "markdown",
      "metadata": {
        "id": "5HHwGq_W-pCM",
        "colab_type": "text"
      },
      "source": [
        "Instead, as we do not have regular observations, we will focus on multivariate models to consider datetime as an attribute."
      ]
    },
    {
      "cell_type": "markdown",
      "metadata": {
        "id": "j5Ahlo8Q-pCN",
        "colab_type": "text"
      },
      "source": [
        "Explainations : https://machinelearningmastery.com/time-series-forecasting-methods-in-python-cheat-sheet/"
      ]
    },
    {
      "cell_type": "markdown",
      "metadata": {
        "id": "4RaTRvuQ-pCO",
        "colab_type": "text"
      },
      "source": [
        "### Predict CO2 level in a selected station from time of day, past values, temperature and humidity."
      ]
    },
    {
      "cell_type": "markdown",
      "metadata": {
        "id": "fGirTofYCps9",
        "colab_type": "text"
      },
      "source": [
        "## 3.1 Linear regression"
      ]
    },
    {
      "cell_type": "markdown",
      "metadata": {
        "id": "4HV_O-cJ6Sts",
        "colab_type": "text"
      },
      "source": [
        "### 3.1.1 Linear Regression Simple Attribute"
      ]
    },
    {
      "cell_type": "code",
      "metadata": {
        "id": "fkZXzQASDU74",
        "colab_type": "code",
        "outputId": "81515516-659c-4b80-dd76-98670a7789ea",
        "colab": {
          "base_uri": "https://localhost:8080/",
          "height": 402
        }
      },
      "source": [
        "co2_time = df_chatelet[['DATE/HEURE', 'CO2']]\n",
        "co2_time['DATE/HEURE'] = pd.to_datetime(co2_time['DATE/HEURE'], format='%Y-%m-%dT%H:%M:%S%z')\n",
        "co2_time['DATE/HEURE'] = co2_time['DATE/HEURE'].apply(lambda x: x.astimezone(tz='utc'))\n",
        "co2_time['HEURE'] = co2_time['DATE/HEURE'].apply(lambda x: x.hour)\n",
        "co2_time = co2_time.drop(columns = ['DATE/HEURE'])\n",
        "co2_time = co2_time.sort_values(by=['HEURE'])\n",
        "co2_time = co2_time.dropna()\n",
        "co2_time"
      ],
      "execution_count": 0,
      "outputs": [
        {
          "output_type": "execute_result",
          "data": {
            "text/html": [
              "<div>\n",
              "<style scoped>\n",
              "    .dataframe tbody tr th:only-of-type {\n",
              "        vertical-align: middle;\n",
              "    }\n",
              "\n",
              "    .dataframe tbody tr th {\n",
              "        vertical-align: top;\n",
              "    }\n",
              "\n",
              "    .dataframe thead th {\n",
              "        text-align: right;\n",
              "    }\n",
              "</style>\n",
              "<table border=\"1\" class=\"dataframe\">\n",
              "  <thead>\n",
              "    <tr style=\"text-align: right;\">\n",
              "      <th></th>\n",
              "      <th>CO2</th>\n",
              "      <th>HEURE</th>\n",
              "    </tr>\n",
              "  </thead>\n",
              "  <tbody>\n",
              "    <tr>\n",
              "      <th>49523</th>\n",
              "      <td>419.0</td>\n",
              "      <td>0</td>\n",
              "    </tr>\n",
              "    <tr>\n",
              "      <th>2421</th>\n",
              "      <td>454.0</td>\n",
              "      <td>0</td>\n",
              "    </tr>\n",
              "    <tr>\n",
              "      <th>36272</th>\n",
              "      <td>557.0</td>\n",
              "      <td>0</td>\n",
              "    </tr>\n",
              "    <tr>\n",
              "      <th>56809</th>\n",
              "      <td>519.0</td>\n",
              "      <td>0</td>\n",
              "    </tr>\n",
              "    <tr>\n",
              "      <th>56807</th>\n",
              "      <td>476.0</td>\n",
              "      <td>0</td>\n",
              "    </tr>\n",
              "    <tr>\n",
              "      <th>...</th>\n",
              "      <td>...</td>\n",
              "      <td>...</td>\n",
              "    </tr>\n",
              "    <tr>\n",
              "      <th>18206</th>\n",
              "      <td>483.0</td>\n",
              "      <td>23</td>\n",
              "    </tr>\n",
              "    <tr>\n",
              "      <th>18200</th>\n",
              "      <td>598.0</td>\n",
              "      <td>23</td>\n",
              "    </tr>\n",
              "    <tr>\n",
              "      <th>18198</th>\n",
              "      <td>427.0</td>\n",
              "      <td>23</td>\n",
              "    </tr>\n",
              "    <tr>\n",
              "      <th>49305</th>\n",
              "      <td>461.0</td>\n",
              "      <td>23</td>\n",
              "    </tr>\n",
              "    <tr>\n",
              "      <th>55789</th>\n",
              "      <td>487.0</td>\n",
              "      <td>23</td>\n",
              "    </tr>\n",
              "  </tbody>\n",
              "</table>\n",
              "<p>47091 rows × 2 columns</p>\n",
              "</div>"
            ],
            "text/plain": [
              "         CO2  HEURE\n",
              "49523  419.0      0\n",
              "2421   454.0      0\n",
              "36272  557.0      0\n",
              "56809  519.0      0\n",
              "56807  476.0      0\n",
              "...      ...    ...\n",
              "18206  483.0     23\n",
              "18200  598.0     23\n",
              "18198  427.0     23\n",
              "49305  461.0     23\n",
              "55789  487.0     23\n",
              "\n",
              "[47091 rows x 2 columns]"
            ]
          },
          "metadata": {
            "tags": []
          },
          "execution_count": 20
        }
      ]
    },
    {
      "cell_type": "code",
      "metadata": {
        "id": "_x9LPCCnhRmt",
        "colab_type": "code",
        "colab": {}
      },
      "source": [
        "X = co2_time['HEURE']\n",
        "X = np.array(X).reshape(-1, 1)\n",
        "standardizer = StandardScaler()\n",
        "X_std = standardizer.fit_transform(X)\n",
        "y = co2_time['CO2']\n",
        "y = np.array(y).reshape(-1, 1)\n",
        "standardizer = StandardScaler()\n",
        "y_std = standardizer.fit_transform(y)"
      ],
      "execution_count": 0,
      "outputs": []
    },
    {
      "cell_type": "code",
      "metadata": {
        "id": "TTfmx0FJ6Jk8",
        "colab_type": "code",
        "outputId": "535ac12c-a286-43f9-a3d6-351cb9475844",
        "colab": {
          "base_uri": "https://localhost:8080/",
          "height": 366
        }
      },
      "source": [
        "# Create the train and test data\n",
        "X_train, X_test, y_train, y_test = train_test_split(X_std, y_std, test_size=0.2, random_state=42)\n",
        "X_train = np.array(X_train).reshape(-1, 1)\n",
        "y_train = np.array(y_train).reshape(-1, 1)\n",
        "X_test = np.array(X_test).reshape(-1, 1)\n",
        "y_test = np.array(y_test).reshape(-1, 1)\n",
        "\n",
        "# Instantiate the linear model and visualizer\n",
        "model = LinearRegression()\n",
        "visualizer = ResidualsPlot(model)\n",
        "\n",
        "visualizer.fit(X_train, y_train)  # Fit the training data to the visualizer\n",
        "visualizer.score(X_test, y_test)  # Evaluate the model on the test data\n",
        "# visualizer.show()                 # Finalize and render the figure"
      ],
      "execution_count": 0,
      "outputs": [
        {
          "output_type": "execute_result",
          "data": {
            "text/plain": [
              "0.2446011899427639"
            ]
          },
          "metadata": {
            "tags": []
          },
          "execution_count": 22
        },
        {
          "output_type": "display_data",
          "data": {
            "image/png": "[encoded data removed]",
            "text/plain": [
              "<Figure size 576x396 with 2 Axes>"
            ]
          },
          "metadata": {
            "tags": []
          }
        }
      ]
    },
    {
      "cell_type": "code",
      "metadata": {
        "id": "rHx21TjRidKm",
        "colab_type": "code",
        "colab": {}
      },
      "source": [
        "#model.predict(np.array([4]).reshape(-1, 1))"
      ],
      "execution_count": 0,
      "outputs": []
    },
    {
      "cell_type": "code",
      "metadata": {
        "id": "dwfgyxH_6O4J",
        "colab_type": "code",
        "outputId": "8a749f14-972b-48e2-986b-d2de821b4f30",
        "colab": {
          "base_uri": "https://localhost:8080/",
          "height": 35
        }
      },
      "source": [
        "model = LinearRegression()\n",
        "model.fit(X_train, y_train)\n",
        "y_pred = model.predict(X_test)\n",
        "mean_squared_error(y_test, y_pred)"
      ],
      "execution_count": 0,
      "outputs": [
        {
          "output_type": "execute_result",
          "data": {
            "text/plain": [
              "0.7580263824859605"
            ]
          },
          "metadata": {
            "tags": []
          },
          "execution_count": 24
        }
      ]
    },
    {
      "cell_type": "markdown",
      "metadata": {
        "id": "qxZnxMms6ZKW",
        "colab_type": "text"
      },
      "source": [
        "### 3.1.2 Linear Regression multiple attributes"
      ]
    },
    {
      "cell_type": "code",
      "metadata": {
        "id": "m5TuZg8l1LMk",
        "colab_type": "code",
        "colab": {}
      },
      "source": [
        "#Create dataframe for gaz, temperature, humidity and time depending on station\n",
        "def get_TrainTestSets(df_station, gaz_name):\n",
        "  if gaz_name == 'pm25':\n",
        "    gaz = 'PM2.5'\n",
        "  else:\n",
        "    gaz = gaz_name.upper()\n",
        "  co2_thh = df_station[['DATE/HEURE', gaz, 'TEMP', 'HUMI']]\n",
        "  co2_thh['DATE/HEURE'] = pd.to_datetime(co2_thh['DATE/HEURE'], format='%Y-%m-%dT%H:%M:%S%z')\n",
        "  co2_thh['DATE/HEURE'] = co2_thh['DATE/HEURE'].apply(lambda x: x.astimezone(tz='utc'))\n",
        "  co2_thh['HEURE'] = co2_thh['DATE/HEURE'].apply(lambda x: x.hour)\n",
        "  co2_thh = co2_thh.drop(columns = ['DATE/HEURE'])\n",
        "  co2_thh = co2_thh.sort_values(by=['HEURE'])\n",
        "  co2_thh = co2_thh.dropna()\n",
        "  X = co2_thh[['HEURE','TEMP', 'HUMI']]\n",
        "  standardizer = StandardScaler()\n",
        "  X_std = standardizer.fit_transform(X)\n",
        "  y = co2_thh[gaz]\n",
        "  y = np.array(y).reshape(-1, 1)\n",
        "  standardizer = StandardScaler()\n",
        "  y_std = standardizer.fit_transform(y)\n",
        "  X_train, X_test, y_train, y_test = train_test_split(X_std, y_std, test_size=0.2, random_state=42)\n",
        "  return X_train, X_test, y_train, y_test"
      ],
      "execution_count": 0,
      "outputs": []
    },
    {
      "cell_type": "code",
      "metadata": {
        "id": "YiYnmO3W1QEA",
        "colab_type": "code",
        "colab": {}
      },
      "source": [
        "X_train, X_test, y_train, y_test = get_TrainTestSets(df_chatelet, 'co2')"
      ],
      "execution_count": 0,
      "outputs": []
    },
    {
      "cell_type": "code",
      "metadata": {
        "id": "nawNm90x6gvt",
        "colab_type": "code",
        "outputId": "40fe6963-8b71-4965-cb81-d8a6bbdfdd6c",
        "colab": {
          "base_uri": "https://localhost:8080/",
          "height": 366
        }
      },
      "source": [
        "# Instantiate the linear model and visualizer\n",
        "model = LinearRegression()\n",
        "visualizer = ResidualsPlot(model)\n",
        "\n",
        "visualizer.fit(X_train, y_train)  # Fit the training data to the visualizer\n",
        "visualizer.score(X_test, y_test)  # Evaluate the model on the test data\n",
        "#visualizer.show()    "
      ],
      "execution_count": 0,
      "outputs": [
        {
          "output_type": "execute_result",
          "data": {
            "text/plain": [
              "0.24829322240005158"
            ]
          },
          "metadata": {
            "tags": []
          },
          "execution_count": 67
        },
        {
          "output_type": "display_data",
          "data": {
            "image/png": "[encoded data removed]",
            "text/plain": [
              "<Figure size 576x396 with 2 Axes>"
            ]
          },
          "metadata": {
            "tags": []
          }
        }
      ]
    },
    {
      "cell_type": "code",
      "metadata": {
        "id": "do_6HbrU6i_2",
        "colab_type": "code",
        "colab": {}
      },
      "source": [
        "def get_lr_mse(X_train, X_test, y_train, y_test):\n",
        "  model = LinearRegression()\n",
        "  model.fit(X_train, y_train)\n",
        "  y_pred = model.predict(X_test)\n",
        "  return mean_squared_error(y_test, y_pred)"
      ],
      "execution_count": 0,
      "outputs": []
    },
    {
      "cell_type": "code",
      "metadata": {
        "id": "qvMdHEK32B9m",
        "colab_type": "code",
        "outputId": "25963ab3-993b-4e83-97c0-03ea1a417900",
        "colab": {
          "base_uri": "https://localhost:8080/",
          "height": 35
        }
      },
      "source": [
        "get_lr_mse(X_train, X_test, y_train, y_test)"
      ],
      "execution_count": 0,
      "outputs": [
        {
          "output_type": "execute_result",
          "data": {
            "text/plain": [
              "0.7576635250806963"
            ]
          },
          "metadata": {
            "tags": []
          },
          "execution_count": 29
        }
      ]
    },
    {
      "cell_type": "markdown",
      "metadata": {
        "id": "CRY0cmhBw5a4",
        "colab_type": "text"
      },
      "source": [
        "### 3.2 Ridge Regularizer"
      ]
    },
    {
      "cell_type": "code",
      "metadata": {
        "id": "_KIp-wZj7gAR",
        "colab_type": "code",
        "outputId": "650044af-7381-4618-a02d-e7dd24ffcfc5",
        "colab": {
          "base_uri": "https://localhost:8080/",
          "height": 394
        }
      },
      "source": [
        "result_test = []\n",
        "result_train = []\n",
        "\n",
        "for alpha in range(1000):\n",
        "    ridge = Ridge(alpha=alpha)\n",
        "    ridge.fit(X_train, y_train)\n",
        "    test_pred = ridge.predict(X_test)\n",
        "    train_pred = ridge.predict(X_train)\n",
        "    result_test.append(mean_squared_error(y_test, test_pred))\n",
        "    result_train.append(mean_squared_error(y_train, train_pred))\n",
        "\n",
        "plt.plot(result_test)\n",
        "plt.title('Ridge, test set')\n",
        "plt.ylabel(\"Mean Squared error\")\n",
        "plt.xlabel('alpha')"
      ],
      "execution_count": 0,
      "outputs": [
        {
          "output_type": "execute_result",
          "data": {
            "text/plain": [
              "Text(0.5, 0, 'alpha')"
            ]
          },
          "metadata": {
            "tags": []
          },
          "execution_count": 54
        },
        {
          "output_type": "display_data",
          "data": {
            "image/png": "[encoded data removed]",
            "text/plain": [
              "<Figure size 576x396 with 1 Axes>"
            ]
          },
          "metadata": {
            "tags": []
          }
        }
      ]
    },
    {
      "cell_type": "code",
      "metadata": {
        "id": "NegTDaTL7n93",
        "colab_type": "code",
        "outputId": "9835a02e-8e9c-43f7-819e-8866a637a8ad",
        "colab": {
          "base_uri": "https://localhost:8080/",
          "height": 394
        }
      },
      "source": [
        "plt.plot(result_train)\n",
        "plt.title('Rigde, train set')\n",
        "plt.ylabel(\"Mean Squared error\")\n",
        "plt.xlabel('alpha')"
      ],
      "execution_count": 0,
      "outputs": [
        {
          "output_type": "execute_result",
          "data": {
            "text/plain": [
              "Text(0.5, 0, 'alpha')"
            ]
          },
          "metadata": {
            "tags": []
          },
          "execution_count": 53
        },
        {
          "output_type": "display_data",
          "data": {
            "image/png": "[encoded data removed]",
            "text/plain": [
              "<Figure size 576x396 with 1 Axes>"
            ]
          },
          "metadata": {
            "tags": []
          }
        }
      ]
    },
    {
      "cell_type": "code",
      "metadata": {
        "id": "NcFSLrYe8bJL",
        "colab_type": "code",
        "colab": {}
      },
      "source": [
        "def get_ridge_mse(X_train, X_test, y_train, y_test):\n",
        "  ridge = Ridge(alpha=500)\n",
        "  ridge.fit(X_train, y_train)\n",
        "  test_pred = ridge.predict(X_test)\n",
        "  return mean_squared_error(y_test, test_pred)"
      ],
      "execution_count": 0,
      "outputs": []
    },
    {
      "cell_type": "code",
      "metadata": {
        "id": "UP4b-KhV8gEk",
        "colab_type": "code",
        "outputId": "3df19e32-13c4-4394-a0b2-fe332e25b411",
        "colab": {
          "base_uri": "https://localhost:8080/",
          "height": 35
        }
      },
      "source": [
        "get_ridge_mse(X_train, X_test, y_train, y_test)"
      ],
      "execution_count": 0,
      "outputs": [
        {
          "output_type": "execute_result",
          "data": {
            "text/plain": [
              "0.7576635250806963"
            ]
          },
          "metadata": {
            "tags": []
          },
          "execution_count": 33
        }
      ]
    },
    {
      "cell_type": "markdown",
      "metadata": {
        "id": "yQHIu82XwKDZ",
        "colab_type": "text"
      },
      "source": [
        "### 3.3 Lasso Regularizer"
      ]
    },
    {
      "cell_type": "code",
      "metadata": {
        "id": "GJpxGBUt9Tov",
        "colab_type": "code",
        "colab": {}
      },
      "source": [
        "def get_lasso_mse(X_train, X_test, y_train, y_test):\n",
        "  clf = linear_model.Lasso()\n",
        "  clf.fit(X_train, y_train)\n",
        "  y_pred = clf.predict(X_test)\n",
        "  return mean_squared_error(y_test, y_pred)"
      ],
      "execution_count": 0,
      "outputs": []
    },
    {
      "cell_type": "code",
      "metadata": {
        "id": "rirXw0BQ2LPq",
        "colab_type": "code",
        "outputId": "28c3d192-68aa-4e4f-99c7-9cceb1abd5da",
        "colab": {
          "base_uri": "https://localhost:8080/",
          "height": 35
        }
      },
      "source": [
        "get_lasso_mse(X_train, X_test, y_train, y_test)"
      ],
      "execution_count": 0,
      "outputs": [
        {
          "output_type": "execute_result",
          "data": {
            "text/plain": [
              "1.0079243944360523"
            ]
          },
          "metadata": {
            "tags": []
          },
          "execution_count": 35
        }
      ]
    },
    {
      "cell_type": "code",
      "metadata": {
        "id": "rmNYTKzc9Wnb",
        "colab_type": "code",
        "outputId": "8e877266-d32e-4099-9786-c3de5ef7c06e",
        "colab": {
          "base_uri": "https://localhost:8080/",
          "height": 394
        }
      },
      "source": [
        "al = []\n",
        "for i in range(0,10):\n",
        "    clf = linear_model.Lasso(alpha = i)\n",
        "    clf = clf.fit(X_train, y_train)\n",
        "    y_pred = clf.predict(X_test)\n",
        "    al.append(mean_squared_error(y_test, y_pred))\n",
        "\n",
        "X = [_ for _ in range(0,10)]\n",
        "plt.plot(X, al)\n",
        "plt.ylabel(\"Mean Squared error\")\n",
        "plt.xlabel('alpha')\n",
        "plt.title('Lasso')"
      ],
      "execution_count": 0,
      "outputs": [
        {
          "output_type": "execute_result",
          "data": {
            "text/plain": [
              "Text(0.5, 1.0, 'Lasso')"
            ]
          },
          "metadata": {
            "tags": []
          },
          "execution_count": 51
        },
        {
          "output_type": "display_data",
          "data": {
            "image/png": "[encoded data removed]",
            "text/plain": [
              "<Figure size 576x396 with 1 Axes>"
            ]
          },
          "metadata": {
            "tags": []
          }
        }
      ]
    },
    {
      "cell_type": "markdown",
      "metadata": {
        "id": "2TQiW95axBLz",
        "colab_type": "text"
      },
      "source": [
        "### 3.4 Elastic Net Regularizer"
      ]
    },
    {
      "cell_type": "code",
      "metadata": {
        "id": "0cNF8OJOxFCh",
        "colab_type": "code",
        "colab": {}
      },
      "source": [
        "def get_elnet_mse(X_train, X_test, y_train, y_test):\n",
        "  elNet = ElasticNet()\n",
        "  elNet.fit(X_train,y_train)\n",
        "  y_predEN = elNet.predict(X_test)\n",
        "  return mean_squared_error(y_test,y_predEN)"
      ],
      "execution_count": 0,
      "outputs": []
    },
    {
      "cell_type": "code",
      "metadata": {
        "id": "zwWCPvkp2zPh",
        "colab_type": "code",
        "outputId": "ccc7fa21-61a9-4aaa-8993-77dbe19f8261",
        "colab": {
          "base_uri": "https://localhost:8080/",
          "height": 35
        }
      },
      "source": [
        "get_elnet_mse(X_train, X_test, y_train, y_test)"
      ],
      "execution_count": 0,
      "outputs": [
        {
          "output_type": "execute_result",
          "data": {
            "text/plain": [
              "1.0051912687744657"
            ]
          },
          "metadata": {
            "tags": []
          },
          "execution_count": 38
        }
      ]
    },
    {
      "cell_type": "markdown",
      "metadata": {
        "id": "o-YlJE5I8kMe",
        "colab_type": "text"
      },
      "source": [
        "### 3.5 CART (tree)"
      ]
    },
    {
      "cell_type": "code",
      "metadata": {
        "id": "8ysm7iOX8kcL",
        "colab_type": "code",
        "colab": {}
      },
      "source": [
        "def get_cart_mse(X_train, X_test, y_train, y_test, max_depth=None, min_samples_split=2):\n",
        "  tree = DecisionTreeRegressor(max_depth=max_depth, min_samples_split=min_samples_split)\n",
        "  tree = tree.fit(X_train, y_train)\n",
        "  test_pred = tree.predict(X_test)\n",
        "  return mean_squared_error(y_test, test_pred)"
      ],
      "execution_count": 0,
      "outputs": []
    },
    {
      "cell_type": "code",
      "metadata": {
        "id": "KAHpHjCrJ2Yk",
        "colab_type": "code",
        "colab": {}
      },
      "source": [
        "def show_prepruning(df_station, gaz):\n",
        "\n",
        "    X_train, X_test, y_train, y_test = get_TrainTestSets(df_station, gaz)\n",
        "    result_test = []\n",
        "    result_train = []\n",
        "    for depth in range(1, 30):\n",
        "        tree = DecisionTreeRegressor(max_depth=depth)\n",
        "        tree = tree.fit(X_train, y_train)\n",
        "        test_pred = tree.predict(X_test)\n",
        "        result_test.append(mean_squared_error(y_test, test_pred))\n",
        "        train_pred = tree.predict(X_train)\n",
        "        result_train.append(mean_squared_error(y_train, train_pred))\n",
        "    plt.figure(1)   \n",
        "    plt.plot(range(1,30), result_test, label='test')\n",
        "    plt.plot(range(1,30), result_train, label='train')\n",
        "    plt.legend(frameon=True)\n",
        "    plt.xlabel('Mean Squared Error')\n",
        "    plt.ylabel('Maximum depth')\n",
        "    \n",
        "#     intersect_depth = np.nonzero(np.diff(np.sign(np.array(result_test) - np.array(result_train))))[0][0] + 1\n",
        "\n",
        "    result_test = []\n",
        "    result_train = []\n",
        "    for num in range(2, 500):\n",
        "        tree = DecisionTreeRegressor(min_samples_split=num)\n",
        "        tree = tree.fit(X_train, y_train)\n",
        "        test_pred = tree.predict(X_test)\n",
        "        result_test.append(mean_squared_error(y_test, test_pred))\n",
        "        train_pred = tree.predict(X_train)\n",
        "        result_train.append(mean_squared_error(y_train, train_pred))\n",
        "    plt.figure(2)\n",
        "    plt.plot(range(2,500), result_test, label='test')\n",
        "    plt.plot(range(2,500), result_train, label='train')\n",
        "    plt.legend(frameon=True)\n",
        "    plt.xlabel('Mean Squared Error')\n",
        "    plt.ylabel('Minimum samples per split')\n",
        "#     intersect_min_sample = np.nonzero(np.diff(np.sign(np.array(result_test) - np.array(result_train))))[0][0] + 2\n",
        "#     print('Intersection for max_depth {}'.format(intersect_depth))\n",
        "#     print('Intersection for min_samples {}'.format(intersect_min_sample))    "
      ],
      "execution_count": 0,
      "outputs": []
    },
    {
      "cell_type": "code",
      "metadata": {
        "id": "YGlZ_xfjLJ7d",
        "colab_type": "code",
        "outputId": "c42faf51-1bc0-4274-fc0c-c06f1e4c9bb9",
        "colab": {
          "base_uri": "https://localhost:8080/",
          "height": 705
        }
      },
      "source": [
        "show_prepruning(df_chatelet, 'no')"
      ],
      "execution_count": 0,
      "outputs": [
        {
          "output_type": "display_data",
          "data": {
            "image/png": "[encoded data removed]",
            "text/plain": [
              "<Figure size 576x396 with 1 Axes>"
            ]
          },
          "metadata": {
            "tags": []
          }
        },
        {
          "output_type": "display_data",
          "data": {
            "image/png": "[encoded data removed]",
            "text/plain": [
              "<Figure size 576x396 with 1 Axes>"
            ]
          },
          "metadata": {
            "tags": []
          }
        }
      ]
    },
    {
      "cell_type": "code",
      "metadata": {
        "id": "38wV113Szku5",
        "colab_type": "code",
        "outputId": "2fa417ae-734b-4a1e-9531-0ef36931187b",
        "colab": {
          "base_uri": "https://localhost:8080/",
          "height": 35
        }
      },
      "source": [
        "get_cart_mse(X_train, X_test, y_train, y_test)"
      ],
      "execution_count": 0,
      "outputs": [
        {
          "output_type": "execute_result",
          "data": {
            "text/plain": [
              "0.6997313188434657"
            ]
          },
          "metadata": {
            "tags": []
          },
          "execution_count": 42
        }
      ]
    },
    {
      "cell_type": "markdown",
      "metadata": {
        "id": "O6C-6RaOyKqX",
        "colab_type": "text"
      },
      "source": [
        "### 3.6 Comparing models for gaz at each station"
      ]
    },
    {
      "cell_type": "code",
      "metadata": {
        "id": "hTarVZdOy-u6",
        "colab_type": "code",
        "colab": {}
      },
      "source": [
        "def draw_graph_model_comparaison(gaz, pruning):\n",
        "    if len(pruning) == 2:\n",
        "        depth, num_samples = pruning\n",
        "    else:\n",
        "        depth_c, num_c, depth_fr, num_fr, depth_a, num_a = pruning\n",
        "    models_name = ['Linear Regression', 'Ridge', 'Lasso', 'Elastic Net Regulazier', 'CART']\n",
        "\n",
        "    if gaz == 'pm25':\n",
        "        models_auber = []\n",
        "        X_train, X_test, y_train, y_test = get_TrainTestSets(df_auber, gaz)\n",
        "        models_auber.append(get_lr_mse(X_train, X_test, y_train, y_test))\n",
        "        models_auber.append(get_ridge_mse(X_train, X_test, y_train, y_test))\n",
        "        models_auber.append(get_lasso_mse(X_train, X_test, y_train, y_test))\n",
        "        models_auber.append(get_elnet_mse(X_train, X_test, y_train, y_test))\n",
        "        models_auber.append(get_cart_mse(X_train, X_test, y_train, y_test, max_depth=depth, min_samples_split=num_samples))\n",
        "        plt.plot(models_name, models_auber, 'o')\n",
        "        plt.xlabel('Models')\n",
        "        plt.ylabel('Mean Squared Error')\n",
        "        plt.title('Mean Squared Error for each Model predicting ' + gaz.upper() )\n",
        "        plt.show()\n",
        "    else :\n",
        "        models_chatelet = []\n",
        "        if len(pruning) > 2:\n",
        "            depth = depth_c\n",
        "            num_samples = num_c\n",
        "        X_train, X_test, y_train, y_test = get_TrainTestSets(df_chatelet, gaz)\n",
        "        models_chatelet.append(get_lr_mse(X_train, X_test, y_train, y_test))\n",
        "        models_chatelet.append(get_ridge_mse(X_train, X_test, y_train, y_test))\n",
        "        models_chatelet.append(get_lasso_mse(X_train, X_test, y_train, y_test))\n",
        "        models_chatelet.append(get_elnet_mse(X_train, X_test, y_train, y_test))\n",
        "        models_chatelet.append(get_cart_mse(X_train, X_test, y_train, y_test, max_depth=depth, min_samples_split=num_samples))\n",
        "\n",
        "        models_fr = []\n",
        "        if len(pruning) > 2:\n",
        "            depth = depth_fr\n",
        "            num_samples = num_fr\n",
        "        X_train, X_test, y_train, y_test = get_TrainTestSets(df_fr, gaz)\n",
        "        models_fr.append(get_lr_mse(X_train, X_test, y_train, y_test))\n",
        "        models_fr.append(get_ridge_mse(X_train, X_test, y_train, y_test))\n",
        "        models_fr.append(get_lasso_mse(X_train, X_test, y_train, y_test))\n",
        "        models_fr.append(get_elnet_mse(X_train, X_test, y_train, y_test))\n",
        "        models_fr.append(get_cart_mse(X_train, X_test, y_train, y_test, max_depth=depth, min_samples_split=num_samples))\n",
        "\n",
        "        models_auber = []\n",
        "        if len(pruning) > 2:\n",
        "            depth = depth_a\n",
        "            num_samples = num_a\n",
        "        X_train, X_test, y_train, y_test = get_TrainTestSets(df_auber, gaz)\n",
        "        models_auber.append(get_lr_mse(X_train, X_test, y_train, y_test))\n",
        "        models_auber.append(get_ridge_mse(X_train, X_test, y_train, y_test))\n",
        "        models_auber.append(get_lasso_mse(X_train, X_test, y_train, y_test))\n",
        "        models_auber.append(get_elnet_mse(X_train, X_test, y_train, y_test))\n",
        "        models_auber.append(get_cart_mse(X_train, X_test, y_train, y_test, max_depth=depth, min_samples_split=num_samples))\n",
        "\n",
        "        plt.plot(models_name, models_chatelet, 'o', label='Chatelet')\n",
        "        plt.plot(models_name, models_fr, 'o', label='Franklin Roosevelt')\n",
        "        plt.plot(models_name, models_auber, 'o', label='Auber')\n",
        "        plt.legend(frameon=True, loc='upper center', bbox_to_anchor=(1.45, 0.8), shadow=True, ncol=1)\n",
        "        plt.xlabel('Models')\n",
        "        plt.ylabel('Mean Squared Error')\n",
        "        plt.title('Mean Squared Error for each Model predicting ' + gaz.upper() + ' levels, for each station')\n",
        "        plt.show()"
      ],
      "execution_count": 0,
      "outputs": []
    },
    {
      "cell_type": "markdown",
      "metadata": {
        "id": "z4C4AcVIAxPk",
        "colab_type": "text"
      },
      "source": [
        "### 3.7 Comparing MSE if CO2 or no CO2"
      ]
    },
    {
      "cell_type": "code",
      "metadata": {
        "id": "usPz8LXmdByK",
        "colab_type": "code",
        "colab": {}
      },
      "source": [
        "def get_TrainTestSets_co2(df_station, gaz):\n",
        "  if gaz == 'pm25':\n",
        "    gaz = 'PM2.5'\n",
        "  else:\n",
        "    gaz = gaz.upper()\n",
        "  co2_thh = df_station[['DATE/HEURE', gaz, 'TEMP', 'HUMI', 'CO2']]\n",
        "  co2_thh['DATE/HEURE'] = pd.to_datetime(co2_thh['DATE/HEURE'], format='%Y-%m-%dT%H:%M:%S%z')\n",
        "  co2_thh['DATE/HEURE'] = co2_thh['DATE/HEURE'].apply(lambda x: x.astimezone(tz='utc'))\n",
        "  co2_thh['HEURE'] = co2_thh['DATE/HEURE'].apply(lambda x: x.hour)\n",
        "  co2_thh = co2_thh.drop(columns = ['DATE/HEURE'])\n",
        "  co2_thh = co2_thh.sort_values(by=['HEURE'])\n",
        "  co2_thh = co2_thh.dropna()\n",
        "  X = co2_thh[['HEURE','TEMP', 'HUMI']]\n",
        "  standardizer = StandardScaler()\n",
        "  X_std = standardizer.fit_transform(X)\n",
        "  y = co2_thh[gaz]\n",
        "  y = np.array(y).reshape(-1, 1)\n",
        "  standardizer = StandardScaler()\n",
        "  y_std = standardizer.fit_transform(y)\n",
        "  X_train, X_test, y_train, y_test = train_test_split(X_std, y_std, test_size=0.2, random_state=42)\n",
        "  return X_train, X_test, y_train, y_test"
      ],
      "execution_count": 0,
      "outputs": []
    },
    {
      "cell_type": "code",
      "metadata": {
        "id": "VHRHREP1A-Nv",
        "colab_type": "code",
        "colab": {}
      },
      "source": [
        "def With_or_without_co2(model, gaz):\n",
        "  With_co2 = []\n",
        "  Without_co2 = []\n",
        "  if gaz == 'pm25':\n",
        "    df_stations = [df_auber]\n",
        "    Stations = [ 'Auber']\n",
        "  else:\n",
        "    df_stations = [df_chatelet, df_fr, df_auber]\n",
        "    Stations = ['Chatelet', 'Franklin Roosevelt', 'Auber']\n",
        "  for df in df_stations:\n",
        "    X_train, X_test, y_train, y_test = get_TrainTestSets(df, gaz)\n",
        "    X_train_co2, X_test_co2, y_train_co2, y_test_co2 = get_TrainTestSets_co2(df, gaz)\n",
        "    if model == 'lr':\n",
        "      Without_co2.append(get_lr_mse(X_train, X_test, y_train, y_test))\n",
        "      With_co2.append(get_lr_mse(X_train_co2, X_test_co2, y_train_co2, y_test_co2))  \n",
        "    elif model == 'CART':\n",
        "      Without_co2.append(get_cart_mse(X_train, X_test, y_train, y_test))\n",
        "      With_co2.append(get_cart_mse(X_train_co2, X_test_co2, y_train_co2, y_test_co2))  \n",
        "  plt.plot(Stations, With_co2, 'o')\n",
        "  plt.plot(Stations, Without_co2, 'o')\n",
        "  plt.legend(labels = ['With CO2', 'Without CO2'])\n",
        "  plt.xlabel('Stations')\n",
        "  plt.ylabel('Mean Squared Error')\n",
        "  plt.title('Mean Squared Error for each Station depending on if CO2 was used as an attribute or not')\n",
        "  plt.show()"
      ],
      "execution_count": 0,
      "outputs": []
    },
    {
      "cell_type": "markdown",
      "metadata": {
        "id": "lJI1ABhipTA9",
        "colab_type": "text"
      },
      "source": [
        "### 3.8 Predict level of gaz depending on two other stations"
      ]
    },
    {
      "cell_type": "code",
      "metadata": {
        "id": "EQtGWlJzp6cG",
        "colab_type": "code",
        "colab": {}
      },
      "source": [
        "def other_stations_VS_attributes(model, gaz, with_co2 = False ):\n",
        "  Stat = []\n",
        "  Attr = []\n",
        "  stations = [df_chatelet, df_fr, df_auber]\n",
        "  for df in stations:\n",
        "    X_train_stat, X_test_stat, y_train_stat, y_test_stat = get_TrainTestSets_OtherStations(df, gaz)\n",
        "    if with_co2:\n",
        "      X_train, X_test, y_train, y_test = get_TrainTestSets_co2(df, gaz)\n",
        "    else:\n",
        "      X_train, X_test, y_train, y_test = get_TrainTestSets(df, gaz)\n",
        "    if model == 'lr':\n",
        "      Stat.append(get_lr_mse(X_train_stat, X_test_stat, y_train_stat, y_test_stat))\n",
        "      Attr.append(get_lr_mse(X_train, X_test, y_train, y_test)) \n",
        "    elif model == 'CART':\n",
        "      Stat.append(get_lr_mse(X_train_stat, X_test_stat, y_train_stat, y_test_stat))\n",
        "      Attr.append(get_lr_mse(X_train, X_test, y_train, y_test)) \n",
        "  Stations = ['Chatelet', 'Franklin Roosevelt', 'Auber']\n",
        "  plt.plot(Stations, Stat, 'o')\n",
        "  plt.plot(Stations, Attr, 'o')\n",
        "  plt.legend(labels = ['Other two stations', 'Station attributes'])\n",
        "  plt.xlabel('Stations')\n",
        "  plt.ylabel('Mean Squared Error')\n",
        "  plt.title('Mean Squared Error for each Station depending on other two stations or in station attributes')\n",
        "  plt.show()\n",
        "\n",
        "#Plot predict with two other stations \n",
        "#plot with other attributes "
      ],
      "execution_count": 0,
      "outputs": []
    },
    {
      "cell_type": "code",
      "metadata": {
        "id": "9hppGg0W9utP",
        "colab_type": "code",
        "colab": {}
      },
      "source": [
        "def get_TrainTestSets_OtherStations(df_station, gaz):\n",
        "  gaz = gaz.upper() \n",
        "  stations = [df_chatelet, df_fr, df_auber]\n",
        "  for i in range(len(stations)):\n",
        "    print(i)\n",
        "    print(df_station)\n",
        "    #print(stations[i])\n",
        "    if df_station.equals(stations[i]):\n",
        "      stations.remove(df_station)\n",
        "  print(\"done\")\n",
        "\n",
        "  co2_thh = df_station[['DATE/HEURE', gaz]]\n",
        "  co2_thh['DATE/HEURE'] = pd.to_datetime(co2_thh['DATE/HEURE'], format='%Y-%m-%dT%H:%M:%S%z')\n",
        "  co2_thh['DATE/HEURE'] = co2_thh['DATE/HEURE'].apply(lambda x: x.astimezone(tz='utc'))\n",
        "  co2_thh['HEURE'] = co2_thh['DATE/HEURE'].apply(lambda x: x.hour)\n",
        "  co2_thh = co2_thh.drop(columns = ['DATE/HEURE'])\n",
        "  co2_thh = co2_thh.sort_values(by=['HEURE'])\n",
        "\n",
        "  #print(str(stations[0]))\n",
        "  co2_2 = stations[0][['DATE/HEURE', gaz]]\n",
        "  co2_2['DATE/HEURE'] = pd.to_datetime(co2_2['DATE/HEURE'], format='%Y-%m-%dT%H:%M:%S%z')\n",
        "  co2_2['DATE/HEURE'] = co2_2['DATE/HEURE'].apply(lambda x: x.astimezone(tz='utc'))\n",
        "  co2_2['HEURE'] = co2_2['DATE/HEURE'].apply(lambda x: x.hour)\n",
        "  co2_2 = co2_2.drop(columns = ['DATE/HEURE'])\n",
        "  co2_2 = co2_2.sort_values(by=['HEURE'])\n",
        "  co2_thh['CO2_2'] = co2_2['CO2']\n",
        "\n",
        "  #print(str(stations[1]))\n",
        "  co2_3 = stations[1][['DATE/HEURE', gaz]]\n",
        "  co2_3['DATE/HEURE'] = pd.to_datetime(co2_3['DATE/HEURE'], format='%Y-%m-%dT%H:%M:%S%z')\n",
        "  co2_3['DATE/HEURE'] = co2_3['DATE/HEURE'].apply(lambda x: x.astimezone(tz='utc'))\n",
        "  co2_3['HEURE'] = co2_3['DATE/HEURE'].apply(lambda x: x.hour)\n",
        "  co2_3 = co2_3.drop(columns = ['DATE/HEURE'])\n",
        "  co2_3 = co2_3.sort_values(by=['HEURE'])\n",
        "  co2_thh['CO2_3'] = co2_3['CO2']\n",
        "\n",
        "  co2_thh = co2_thh.dropna()\n",
        "\n",
        "  X = co2_thh[['HEURE','CO2_2', 'CO2_3']]\n",
        "  standardizer = StandardScaler()\n",
        "  X_std = standardizer.fit_transform(X)\n",
        "  y = co2_thh[gaz]\n",
        "  y = np.array(y).reshape(-1, 1)\n",
        "  standardizer = StandardScaler()\n",
        "  y_std = standardizer.fit_transform(y)\n",
        "  X_train, X_test, y_train, y_test = train_test_split(X_std, y_std, test_size=0.2, random_state=42)\n",
        "  return X_train, X_test, y_train, y_test"
      ],
      "execution_count": 0,
      "outputs": []
    },
    {
      "cell_type": "markdown",
      "metadata": {
        "id": "iJazOFfh-mf4",
        "colab_type": "text"
      },
      "source": [
        "## 4. CO2 "
      ]
    },
    {
      "cell_type": "code",
      "metadata": {
        "id": "L0tHqZob_BGF",
        "colab_type": "code",
        "outputId": "1134eb60-d183-4dbf-d6d1-45fbf9e9f481",
        "colab": {
          "base_uri": "https://localhost:8080/",
          "height": 376
        }
      },
      "source": [
        "draw_graph_model_comparaison('co2', (7, 300))"
      ],
      "execution_count": 0,
      "outputs": [
        {
          "output_type": "display_data",
          "data": {
            "image/png": "[encoded data removed]",
            "text/plain": [
              "<Figure size 576x396 with 1 Axes>"
            ]
          },
          "metadata": {
            "tags": []
          }
        }
      ]
    },
    {
      "cell_type": "code",
      "metadata": {
        "id": "OnVmV1W6OXR-",
        "colab_type": "code",
        "outputId": "8d921b96-e7a2-4751-913f-1d8a6a5d7804",
        "colab": {
          "base_uri": "https://localhost:8080/",
          "height": 1000
        }
      },
      "source": [
        "other_stations_VS_attributes('CART', 'co2')"
      ],
      "execution_count": 0,
      "outputs": [
        {
          "output_type": "stream",
          "text": [
            "0\n",
            "                      DATE/HEURE    NO   NO2   PM10    CO2  TEMP  HUMI\n",
            "0      2013-03-07T20:00:00+01:00  88.0  61.0  157.0  931.0  20.1  56.3\n",
            "1      2013-03-10T11:00:00+01:00   6.0  34.0   53.0  546.0  17.2  47.9\n",
            "2      2013-03-11T17:00:00+01:00  27.0  39.0   97.0  750.0  16.1  40.0\n",
            "3      2013-03-12T04:00:00+01:00   NaN  30.0    NaN  455.0  13.3  36.5\n",
            "4      2013-03-13T02:00:00+01:00   NaN  30.0   32.0  459.0  12.3  29.4\n",
            "...                          ...   ...   ...    ...    ...   ...   ...\n",
            "59890  2019-11-02T12:00:00+01:00   6.0  21.0   60.0  591.0  19.6  52.2\n",
            "59891  2019-11-02T16:00:00+01:00  13.0  25.0   92.0  649.0  19.8  49.0\n",
            "59892  2019-11-03T01:00:00+01:00  10.0  25.0   36.0  539.0  19.1  50.5\n",
            "59893  2019-11-03T05:00:00+01:00   4.0  23.0    NaN  429.0  19.0  51.3\n",
            "59894  2019-11-03T11:00:00+01:00   7.0  28.0   34.0  462.0  19.8  54.6\n",
            "\n",
            "[59895 rows x 7 columns]\n",
            "1\n",
            "                      DATE/HEURE    NO   NO2   PM10    CO2  TEMP  HUMI\n",
            "0      2013-03-07T20:00:00+01:00  88.0  61.0  157.0  931.0  20.1  56.3\n",
            "1      2013-03-10T11:00:00+01:00   6.0  34.0   53.0  546.0  17.2  47.9\n",
            "2      2013-03-11T17:00:00+01:00  27.0  39.0   97.0  750.0  16.1  40.0\n",
            "3      2013-03-12T04:00:00+01:00   NaN  30.0    NaN  455.0  13.3  36.5\n",
            "4      2013-03-13T02:00:00+01:00   NaN  30.0   32.0  459.0  12.3  29.4\n",
            "...                          ...   ...   ...    ...    ...   ...   ...\n",
            "59890  2019-11-02T12:00:00+01:00   6.0  21.0   60.0  591.0  19.6  52.2\n",
            "59891  2019-11-02T16:00:00+01:00  13.0  25.0   92.0  649.0  19.8  49.0\n",
            "59892  2019-11-03T01:00:00+01:00  10.0  25.0   36.0  539.0  19.1  50.5\n",
            "59893  2019-11-03T05:00:00+01:00   4.0  23.0    NaN  429.0  19.0  51.3\n",
            "59894  2019-11-03T11:00:00+01:00   7.0  28.0   34.0  462.0  19.8  54.6\n",
            "\n",
            "[59895 rows x 7 columns]\n",
            "2\n",
            "                      DATE/HEURE    NO   NO2   PM10    CO2  TEMP  HUMI\n",
            "0      2013-03-07T20:00:00+01:00  88.0  61.0  157.0  931.0  20.1  56.3\n",
            "1      2013-03-10T11:00:00+01:00   6.0  34.0   53.0  546.0  17.2  47.9\n",
            "2      2013-03-11T17:00:00+01:00  27.0  39.0   97.0  750.0  16.1  40.0\n",
            "3      2013-03-12T04:00:00+01:00   NaN  30.0    NaN  455.0  13.3  36.5\n",
            "4      2013-03-13T02:00:00+01:00   NaN  30.0   32.0  459.0  12.3  29.4\n",
            "...                          ...   ...   ...    ...    ...   ...   ...\n",
            "59890  2019-11-02T12:00:00+01:00   6.0  21.0   60.0  591.0  19.6  52.2\n",
            "59891  2019-11-02T16:00:00+01:00  13.0  25.0   92.0  649.0  19.8  49.0\n",
            "59892  2019-11-03T01:00:00+01:00  10.0  25.0   36.0  539.0  19.1  50.5\n",
            "59893  2019-11-03T05:00:00+01:00   4.0  23.0    NaN  429.0  19.0  51.3\n",
            "59894  2019-11-03T11:00:00+01:00   7.0  28.0   34.0  462.0  19.8  54.6\n",
            "\n",
            "[59895 rows x 7 columns]\n"
          ],
          "name": "stdout"
        },
        {
          "output_type": "error",
          "ename": "IndexError",
          "evalue": "ignored",
          "traceback": [
            "\u001b[0;31m---------------------------------------------------------------------------\u001b[0m",
            "\u001b[0;31mIndexError\u001b[0m                                Traceback (most recent call last)",
            "\u001b[0;32m<ipython-input-49-dc32d597b944>\u001b[0m in \u001b[0;36m<module>\u001b[0;34m()\u001b[0m\n\u001b[0;32m----> 1\u001b[0;31m \u001b[0mother_stations_VS_attributes\u001b[0m\u001b[0;34m(\u001b[0m\u001b[0;34m'CART'\u001b[0m\u001b[0;34m,\u001b[0m \u001b[0;34m'co2'\u001b[0m\u001b[0;34m)\u001b[0m\u001b[0;34m\u001b[0m\u001b[0;34m\u001b[0m\u001b[0m\n\u001b[0m",
            "\u001b[0;32m<ipython-input-46-c7706ff4c290>\u001b[0m in \u001b[0;36mother_stations_VS_attributes\u001b[0;34m(model, gaz, with_co2)\u001b[0m\n\u001b[1;32m      4\u001b[0m   \u001b[0mstations\u001b[0m \u001b[0;34m=\u001b[0m \u001b[0;34m[\u001b[0m\u001b[0mdf_chatelet\u001b[0m\u001b[0;34m,\u001b[0m \u001b[0mdf_fr\u001b[0m\u001b[0;34m,\u001b[0m \u001b[0mdf_auber\u001b[0m\u001b[0;34m]\u001b[0m\u001b[0;34m\u001b[0m\u001b[0;34m\u001b[0m\u001b[0m\n\u001b[1;32m      5\u001b[0m   \u001b[0;32mfor\u001b[0m \u001b[0mdf\u001b[0m \u001b[0;32min\u001b[0m \u001b[0mstations\u001b[0m\u001b[0;34m:\u001b[0m\u001b[0;34m\u001b[0m\u001b[0;34m\u001b[0m\u001b[0m\n\u001b[0;32m----> 6\u001b[0;31m     \u001b[0mX_train_stat\u001b[0m\u001b[0;34m,\u001b[0m \u001b[0mX_test_stat\u001b[0m\u001b[0;34m,\u001b[0m \u001b[0my_train_stat\u001b[0m\u001b[0;34m,\u001b[0m \u001b[0my_test_stat\u001b[0m \u001b[0;34m=\u001b[0m \u001b[0mget_TrainTestSets_OtherStations\u001b[0m\u001b[0;34m(\u001b[0m\u001b[0mdf\u001b[0m\u001b[0;34m,\u001b[0m \u001b[0mgaz\u001b[0m\u001b[0;34m)\u001b[0m\u001b[0;34m\u001b[0m\u001b[0;34m\u001b[0m\u001b[0m\n\u001b[0m\u001b[1;32m      7\u001b[0m     \u001b[0;32mif\u001b[0m \u001b[0mwith_co2\u001b[0m\u001b[0;34m:\u001b[0m\u001b[0;34m\u001b[0m\u001b[0;34m\u001b[0m\u001b[0m\n\u001b[1;32m      8\u001b[0m       \u001b[0mX_train\u001b[0m\u001b[0;34m,\u001b[0m \u001b[0mX_test\u001b[0m\u001b[0;34m,\u001b[0m \u001b[0my_train\u001b[0m\u001b[0;34m,\u001b[0m \u001b[0my_test\u001b[0m \u001b[0;34m=\u001b[0m \u001b[0mget_TrainTestSets_co2\u001b[0m\u001b[0;34m(\u001b[0m\u001b[0mdf\u001b[0m\u001b[0;34m,\u001b[0m \u001b[0mgaz\u001b[0m\u001b[0;34m)\u001b[0m\u001b[0;34m\u001b[0m\u001b[0;34m\u001b[0m\u001b[0m\n",
            "\u001b[0;32m<ipython-input-47-e9d51a12b26e>\u001b[0m in \u001b[0;36mget_TrainTestSets_OtherStations\u001b[0;34m(df_station, gaz)\u001b[0m\n\u001b[1;32m      6\u001b[0m     \u001b[0mprint\u001b[0m\u001b[0;34m(\u001b[0m\u001b[0mdf_station\u001b[0m\u001b[0;34m)\u001b[0m\u001b[0;34m\u001b[0m\u001b[0;34m\u001b[0m\u001b[0m\n\u001b[1;32m      7\u001b[0m     \u001b[0;31m#print(stations[i])\u001b[0m\u001b[0;34m\u001b[0m\u001b[0;34m\u001b[0m\u001b[0;34m\u001b[0m\u001b[0m\n\u001b[0;32m----> 8\u001b[0;31m     \u001b[0;32mif\u001b[0m \u001b[0mdf_station\u001b[0m\u001b[0;34m.\u001b[0m\u001b[0mequals\u001b[0m\u001b[0;34m(\u001b[0m\u001b[0mstations\u001b[0m\u001b[0;34m[\u001b[0m\u001b[0mi\u001b[0m\u001b[0;34m]\u001b[0m\u001b[0;34m)\u001b[0m\u001b[0;34m:\u001b[0m\u001b[0;34m\u001b[0m\u001b[0;34m\u001b[0m\u001b[0m\n\u001b[0m\u001b[1;32m      9\u001b[0m       \u001b[0mstations\u001b[0m\u001b[0;34m.\u001b[0m\u001b[0mremove\u001b[0m\u001b[0;34m(\u001b[0m\u001b[0mdf_station\u001b[0m\u001b[0;34m)\u001b[0m\u001b[0;34m\u001b[0m\u001b[0;34m\u001b[0m\u001b[0m\n\u001b[1;32m     10\u001b[0m   \u001b[0mprint\u001b[0m\u001b[0;34m(\u001b[0m\u001b[0;34m\"done\"\u001b[0m\u001b[0;34m)\u001b[0m\u001b[0;34m\u001b[0m\u001b[0;34m\u001b[0m\u001b[0m\n",
            "\u001b[0;31mIndexError\u001b[0m: list index out of range"
          ]
        }
      ]
    },
    {
      "cell_type": "markdown",
      "metadata": {
        "id": "XqYFkZyq-x7A",
        "colab_type": "text"
      },
      "source": [
        "## 5. NO"
      ]
    },
    {
      "cell_type": "code",
      "metadata": {
        "id": "W1j5KF6j_E5u",
        "colab_type": "code",
        "outputId": "2027c40f-c389-4923-a1c4-556ab0222644",
        "colab": {
          "base_uri": "https://localhost:8080/",
          "height": 376
        }
      },
      "source": [
        "draw_graph_model_comparaison('no', (6, 300))"
      ],
      "execution_count": 0,
      "outputs": [
        {
          "output_type": "display_data",
          "data": {
            "image/png": "[encoded data removed]",
            "text/plain": [
              "<Figure size 576x396 with 1 Axes>"
            ]
          },
          "metadata": {
            "tags": []
          }
        }
      ]
    },
    {
      "cell_type": "code",
      "metadata": {
        "id": "Sb4JHAn5JlOM",
        "colab_type": "code",
        "outputId": "f07f2ffc-7741-49d0-87a7-77f92415481e",
        "colab": {
          "base_uri": "https://localhost:8080/",
          "height": 376
        }
      },
      "source": [
        "With_or_without_co2('lr', 'no')"
      ],
      "execution_count": 0,
      "outputs": [
        {
          "output_type": "display_data",
          "data": {
            "image/png": "[encoded data removed]",
            "text/plain": [
              "<Figure size 576x396 with 1 Axes>"
            ]
          },
          "metadata": {
            "tags": []
          }
        }
      ]
    },
    {
      "cell_type": "markdown",
      "metadata": {
        "id": "-cRt2Dz_-yf-",
        "colab_type": "text"
      },
      "source": [
        "## 6. NO2"
      ]
    },
    {
      "cell_type": "code",
      "metadata": {
        "id": "JL2P7FEh_Frr",
        "colab_type": "code",
        "outputId": "71bfa190-3cdf-42ef-922f-c4caf192ac96",
        "colab": {
          "base_uri": "https://localhost:8080/",
          "height": 376
        }
      },
      "source": [
        "draw_graph_model_comparaison('no2', (3, 300, 5, 300, 8, 300))"
      ],
      "execution_count": 0,
      "outputs": [
        {
          "output_type": "display_data",
          "data": {
            "image/png": "[encoded data removed]",
            "text/plain": [
              "<Figure size 576x396 with 1 Axes>"
            ]
          },
          "metadata": {
            "tags": []
          }
        }
      ]
    },
    {
      "cell_type": "code",
      "metadata": {
        "id": "y0vxioTvkfDa",
        "colab_type": "code",
        "outputId": "925faf1e-452f-43ec-9437-432daf74c12b",
        "colab": {
          "base_uri": "https://localhost:8080/",
          "height": 376
        }
      },
      "source": [
        "With_or_without_co2('lr', 'no2')"
      ],
      "execution_count": 0,
      "outputs": [
        {
          "output_type": "display_data",
          "data": {
            "image/png": "[encoded data removed]",
            "text/plain": [
              "<Figure size 576x396 with 1 Axes>"
            ]
          },
          "metadata": {
            "tags": []
          }
        }
      ]
    },
    {
      "cell_type": "markdown",
      "metadata": {
        "id": "kXOvWRam-51S",
        "colab_type": "text"
      },
      "source": [
        "## 7. PM10"
      ]
    },
    {
      "cell_type": "code",
      "metadata": {
        "id": "FCUbqHof-4jl",
        "colab_type": "code",
        "outputId": "c9f6a3a3-a12c-489f-81c3-8f287b8858f1",
        "colab": {
          "base_uri": "https://localhost:8080/",
          "height": 376
        }
      },
      "source": [
        "draw_graph_model_comparaison('pm10', (6, 300, 9, 300, 5, 300))"
      ],
      "execution_count": 0,
      "outputs": [
        {
          "output_type": "display_data",
          "data": {
            "image/png": "[encoded data removed]",
            "text/plain": [
              "<Figure size 576x396 with 1 Axes>"
            ]
          },
          "metadata": {
            "tags": []
          }
        }
      ]
    },
    {
      "cell_type": "code",
      "metadata": {
        "id": "2xH_kJR-k2dL",
        "colab_type": "code",
        "outputId": "900d460d-39e0-4c1c-db30-159f94026c5e",
        "colab": {
          "base_uri": "https://localhost:8080/",
          "height": 376
        }
      },
      "source": [
        "With_or_without_co2('lr', 'pm10')"
      ],
      "execution_count": 0,
      "outputs": [
        {
          "output_type": "display_data",
          "data": {
            "image/png": "[encoded data removed]",
            "text/plain": [
              "<Figure size 576x396 with 1 Axes>"
            ]
          },
          "metadata": {
            "tags": []
          }
        }
      ]
    },
    {
      "cell_type": "markdown",
      "metadata": {
        "id": "Whlcv04d-93d",
        "colab_type": "text"
      },
      "source": [
        "## 8. PM2.5"
      ]
    },
    {
      "cell_type": "code",
      "metadata": {
        "id": "Pcq0iS-R_IXo",
        "colab_type": "code",
        "colab": {}
      },
      "source": [
        "draw_graph_model_comparaison('pm25', (6,300))"
      ],
      "execution_count": 0,
      "outputs": []
    },
    {
      "cell_type": "code",
      "metadata": {
        "id": "SnAj-Dp-ohgL",
        "colab_type": "code",
        "colab": {}
      },
      "source": [
        "With_or_without_co2('lr', 'pm25')"
      ],
      "execution_count": 0,
      "outputs": []
    },
    {
      "cell_type": "markdown",
      "metadata": {
        "id": "535V1BOg_M1I",
        "colab_type": "text"
      },
      "source": [
        "## 9. Additional stuff / To clean ?"
      ]
    },
    {
      "cell_type": "markdown",
      "metadata": {
        "id": "dF2uZEu0-pCP",
        "colab_type": "text"
      },
      "source": [
        "Multivariate and linear = VAR, VMA, VARMA"
      ]
    },
    {
      "cell_type": "markdown",
      "metadata": {
        "id": "KS1WP2Hy-pCQ",
        "colab_type": "text"
      },
      "source": [
        "### Vector Autoregression (VAR)\n",
        "\n",
        "Source : https://www.analyticsvidhya.com/blog/2018/09/multivariate-time-series-guide-forecasting-modeling-python-codes/"
      ]
    },
    {
      "cell_type": "code",
      "metadata": {
        "id": "wIEzW2zh-pCR",
        "colab_type": "code",
        "colab": {}
      },
      "source": [
        "from statsmodels.tsa.vector_ar.var_model import VAR\n",
        "from random import random\n",
        "# contrived dataset with dependency\n",
        "data = list()\n",
        "for i in range(100):\n",
        "    v1 = i + random()\n",
        "    v2 = v1 + random()\n",
        "    row = [v1, v2]\n",
        "    data.append(row)\n",
        "# fit model\n",
        "model = VAR(data)\n",
        "model_fit = model.fit()\n",
        "# make prediction\n",
        "yhat = model_fit.forecast(model_fit.y, steps=1)\n",
        "print(yhat)"
      ],
      "execution_count": 0,
      "outputs": []
    },
    {
      "cell_type": "markdown",
      "metadata": {
        "id": "YNDGrPw6-pCY",
        "colab_type": "text"
      },
      "source": [
        "********************"
      ]
    },
    {
      "cell_type": "code",
      "metadata": {
        "id": "2fCmbjae-pCa",
        "colab_type": "code",
        "colab": {}
      },
      "source": [
        "def pred_co2(station, date):\n",
        "    co2 = station[['DATE/HEURE', 'CO2', 'TEMP', 'HUMI']]\n",
        "    co2['DATE/HEURE'] = pd.to_datetime(co2['DATE/HEURE'], format='%Y-%m-%dT%H:%M:%S%z')\n",
        "    co2['DATE/HEURE'] = co2['DATE/HEURE'].apply(lambda x: x.astimezone(tz='utc'))\n",
        "    "
      ],
      "execution_count": 0,
      "outputs": []
    },
    {
      "cell_type": "code",
      "metadata": {
        "id": "SBlzABdJ-pCe",
        "colab_type": "code",
        "colab": {}
      },
      "source": [
        "df_chatelet.head()"
      ],
      "execution_count": 0,
      "outputs": []
    },
    {
      "cell_type": "code",
      "metadata": {
        "id": "mxQCEjzJ-pCh",
        "colab_type": "code",
        "colab": {}
      },
      "source": [
        "co2 = df_chatelet[['DATE/HEURE', 'CO2', 'TEMP', 'HUMI']]"
      ],
      "execution_count": 0,
      "outputs": []
    },
    {
      "cell_type": "code",
      "metadata": {
        "id": "o6FlUzmE-pCk",
        "colab_type": "code",
        "colab": {}
      },
      "source": [
        "type(co2['DATE/HEURE'][0])"
      ],
      "execution_count": 0,
      "outputs": []
    },
    {
      "cell_type": "code",
      "metadata": {
        "id": "G_HIwzTl-pCn",
        "colab_type": "code",
        "colab": {}
      },
      "source": [
        "co2['DATE/HEURE'] = pd.to_datetime(co2['DATE/HEURE'], format='%Y-%m-%dT%H:%M:%S%z')\n",
        "co2['DATE/HEURE'] = co2['DATE/HEURE'].apply(lambda x: x.astimezone(tz='utc'))\n",
        "co2['HEURE'] = co2['DATE/HEURE'].apply(lambda x: x.hour)"
      ],
      "execution_count": 0,
      "outputs": []
    },
    {
      "cell_type": "code",
      "metadata": {
        "id": "zpuQNCzP-pCs",
        "colab_type": "code",
        "colab": {}
      },
      "source": [
        "co2.dtypes"
      ],
      "execution_count": 0,
      "outputs": []
    },
    {
      "cell_type": "code",
      "metadata": {
        "id": "8ucXu4H2-pCw",
        "colab_type": "code",
        "colab": {}
      },
      "source": [
        "# date = dt.datetime(2013, 3, 7, hour=19, tzinfo=dt.timezone.utc)\n",
        "date = np.datetime64('2013-03-07T19:00:00.000000000')"
      ],
      "execution_count": 0,
      "outputs": []
    },
    {
      "cell_type": "code",
      "metadata": {
        "id": "h1aihDg9-pCz",
        "colab_type": "code",
        "colab": {}
      },
      "source": [
        "# Predict the co2 level based on the co2 level of the day before\n",
        "def simple_co2(data, date):\n",
        "    return data['CO2'][data['DATE/HEURE'] == date - dt.timedelta(days=1)].values"
      ],
      "execution_count": 0,
      "outputs": []
    },
    {
      "cell_type": "code",
      "metadata": {
        "id": "Dqm_sdF--pC2",
        "colab_type": "code",
        "colab": {}
      },
      "source": [
        "print(simple_co2(co2, date))"
      ],
      "execution_count": 0,
      "outputs": []
    },
    {
      "cell_type": "markdown",
      "metadata": {
        "id": "Xen9DVsw-pC5",
        "colab_type": "text"
      },
      "source": [
        "### Showing autocorrelation (non)"
      ]
    },
    {
      "cell_type": "code",
      "metadata": {
        "id": "mTbm7bfD-pC6",
        "colab_type": "code",
        "colab": {}
      },
      "source": [
        "pd.plotting.lag_plot(co2[['CO2']])"
      ],
      "execution_count": 0,
      "outputs": []
    },
    {
      "cell_type": "code",
      "metadata": {
        "id": "sAtmO1lwBXmk",
        "colab_type": "code",
        "colab": {}
      },
      "source": [
        ""
      ],
      "execution_count": 0,
      "outputs": []
    }
  ]
}
