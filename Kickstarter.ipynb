{
  "nbformat": 4,
  "nbformat_minor": 0,
  "metadata": {
    "accelerator": "GPU",
    "colab": {
      "name": "1_presentation_kickstarter_dataset.ipynb",
      "provenance": [],
      "collapsed_sections": []
    },
    "kernelspec": {
      "name": "python3",
      "display_name": "Python 3"
    },
    "language_info": {
      "codemirror_mode": {
        "name": "ipython",
        "version": 3
      },
      "file_extension": ".py",
      "mimetype": "text/x-python",
      "name": "python",
      "nbconvert_exporter": "python",
      "pygments_lexer": "ipython3",
      "version": "3.7.3"
    }
  },
  "cells": [
    {
      "cell_type": "markdown",
      "metadata": {
        "colab_type": "text",
        "id": "ylai3nyx5ntZ"
      },
      "source": [
        "# Project Kickstarter Kaggle"
      ]
    },
    {
      "cell_type": "markdown",
      "metadata": {
        "colab_type": "text",
        "id": "qYwYwIPb53SI"
      },
      "source": [
        "*Camille, Chetan, Nina, Selim*"
      ]
    },
    {
      "cell_type": "markdown",
      "metadata": {
        "colab_type": "text",
        "id": "orblSx8O6IdM"
      },
      "source": [
        "************************"
      ]
    },
    {
      "cell_type": "markdown",
      "metadata": {
        "colab_type": "text",
        "id": "NDZyP5IhPyqP"
      },
      "source": [
        "TODO \n",
        "- Chose if we want to use one or both data files\n",
        "- Finish data exploration\n",
        "- Define what are the training attributes and that is class\n",
        "- Clean data (should we hot-encode everything?)\n",
        "- Chose best models\n",
        "- Bootstrap\n",
        "- confidence interval 95%"
      ]
    },
    {
      "cell_type": "code",
      "metadata": {
        "colab_type": "code",
        "id": "YLaQT8Zb5G9E",
        "colab": {}
      },
      "source": [
        "import pandas as pd\n",
        "import numpy as np\n",
        "import csv\n",
        "\n",
        "import matplotlib.pyplot as plt\n",
        "import matplotlib.image as mpimg\n",
        "import seaborn as sns\n",
        "import pydot\n",
        "\n",
        "from sklearn import tree\n",
        "from sklearn.discriminant_analysis import LinearDiscriminantAnalysis, QuadraticDiscriminantAnalysis\n",
        "from sklearn.linear_model import LogisticRegression\n",
        "from sklearn.metrics import confusion_matrix, accuracy_score\n",
        "from sklearn.model_selection import train_test_split, cross_val_score\n",
        "from sklearn.naive_bayes import MultinomialNB, GaussianNB\n",
        "from sklearn.neighbors import KNeighborsClassifier\n",
        "from sklearn.preprocessing import StandardScaler\n",
        "from sklearn.utils import resample\n",
        "from sklearn.tree._tree import TREE_LEAF"
      ],
      "execution_count": 0,
      "outputs": []
    },
    {
      "cell_type": "markdown",
      "metadata": {
        "colab_type": "text",
        "id": "2EpJFUuM6MUl"
      },
      "source": [
        "## Part 1 - Load & EDA"
      ]
    },
    {
      "cell_type": "code",
      "metadata": {
        "colab_type": "code",
        "id": "rxKX5A-f5ykb",
        "outputId": "5b76573f-ab00-44ba-bcd7-11649e9206f8",
        "colab": {
          "base_uri": "https://localhost:8080/",
          "height": 169
        }
      },
      "source": [
        "#Access data from Drive\n",
        "from google.colab import drive\n",
        "drive.mount('/content/drive')"
      ],
      "execution_count": 0,
      "outputs": [
        {
          "output_type": "stream",
          "text": [
            "Go to this URL in a browser: https://accounts.google.com/o/oauth2/auth?client_id=947318989803-6bn6qk8qdgf4n4g3pfee6491hc0brc4i.apps.googleusercontent.com&redirect_uri=urn%3Aietf%3Awg%3Aoauth%3A2.0%3Aoob&scope=email%20https%3A%2F%2Fwww.googleapis.com%2Fauth%2Fdocs.test%20https%3A%2F%2Fwww.googleapis.com%2Fauth%2Fdrive%20https%3A%2F%2Fwww.googleapis.com%2Fauth%2Fdrive.photos.readonly%20https%3A%2F%2Fwww.googleapis.com%2Fauth%2Fpeopleapi.readonly&response_type=code\n",
            "\n",
            "Enter your authorization code:\n",
            "··········\n",
            "Mounted at /content/drive\n"
          ],
          "name": "stdout"
        }
      ]
    },
    {
      "cell_type": "markdown",
      "metadata": {
        "colab_type": "text",
        "id": "sE1GPggeTjoS"
      },
      "source": [
        "ks-projects-201801 -> train\n",
        "\n",
        "ks-projects-201612 -> test"
      ]
    },
    {
      "cell_type": "code",
      "metadata": {
        "colab_type": "code",
        "id": "jZ4BY98g6GVQ",
        "colab": {}
      },
      "source": [
        "# Load Kaggle train dataset\n",
        "df_2018 = pd.read_csv('/content/drive/My Drive/Artificial Intelligence Team/Week 4 - Kickstarter dataset/ks-projects-201801.csv')\n",
        "df_train, df_test = train_test_split(df_2018, test_size=0.2)\n",
        "# Load Kaggle test dataset\n",
        "#df_train_to_explore = pd.read_csv('/content/drive/My Drive/M1/Artificial Intelligence Team/Week 4 - Kickstarter dataset/ks-test.csv')\n"
      ],
      "execution_count": 0,
      "outputs": []
    },
    {
      "cell_type": "code",
      "metadata": {
        "colab_type": "code",
        "id": "caa6NX14UHuU",
        "outputId": "b6c9b98e-5e9f-4b9a-a4bd-35f8c95e0ce7",
        "colab": {
          "base_uri": "https://localhost:8080/",
          "height": 516
        }
      },
      "source": [
        "df_train.head()"
      ],
      "execution_count": 0,
      "outputs": [
        {
          "output_type": "execute_result",
          "data": {
            "text/html": [
              "<div>\n",
              "<style scoped>\n",
              "    .dataframe tbody tr th:only-of-type {\n",
              "        vertical-align: middle;\n",
              "    }\n",
              "\n",
              "    .dataframe tbody tr th {\n",
              "        vertical-align: top;\n",
              "    }\n",
              "\n",
              "    .dataframe thead th {\n",
              "        text-align: right;\n",
              "    }\n",
              "</style>\n",
              "<table border=\"1\" class=\"dataframe\">\n",
              "  <thead>\n",
              "    <tr style=\"text-align: right;\">\n",
              "      <th></th>\n",
              "      <th>ID</th>\n",
              "      <th>name</th>\n",
              "      <th>category</th>\n",
              "      <th>main_category</th>\n",
              "      <th>currency</th>\n",
              "      <th>deadline</th>\n",
              "      <th>goal</th>\n",
              "      <th>launched</th>\n",
              "      <th>pledged</th>\n",
              "      <th>state</th>\n",
              "      <th>backers</th>\n",
              "      <th>country</th>\n",
              "      <th>usd pledged</th>\n",
              "      <th>usd_pledged_real</th>\n",
              "      <th>usd_goal_real</th>\n",
              "    </tr>\n",
              "  </thead>\n",
              "  <tbody>\n",
              "    <tr>\n",
              "      <th>292934</th>\n",
              "      <td>561028009</td>\n",
              "      <td>Kob Knobs : Corn Holders.</td>\n",
              "      <td>Design</td>\n",
              "      <td>Design</td>\n",
              "      <td>USD</td>\n",
              "      <td>2016-05-26</td>\n",
              "      <td>100000.0</td>\n",
              "      <td>2016-04-26 22:07:06</td>\n",
              "      <td>109.0</td>\n",
              "      <td>failed</td>\n",
              "      <td>3</td>\n",
              "      <td>US</td>\n",
              "      <td>109.0</td>\n",
              "      <td>109.0</td>\n",
              "      <td>100000.0</td>\n",
              "    </tr>\n",
              "    <tr>\n",
              "      <th>229754</th>\n",
              "      <td>238073904</td>\n",
              "      <td>Yono: A Collaborative Pixel-Art Project</td>\n",
              "      <td>Digital Art</td>\n",
              "      <td>Art</td>\n",
              "      <td>USD</td>\n",
              "      <td>2012-10-11</td>\n",
              "      <td>6000.0</td>\n",
              "      <td>2012-09-11 23:53:05</td>\n",
              "      <td>3096.0</td>\n",
              "      <td>failed</td>\n",
              "      <td>68</td>\n",
              "      <td>US</td>\n",
              "      <td>3096.0</td>\n",
              "      <td>3096.0</td>\n",
              "      <td>6000.0</td>\n",
              "    </tr>\n",
              "    <tr>\n",
              "      <th>288883</th>\n",
              "      <td>539930682</td>\n",
              "      <td>Tokens for Magic: The Gathering - Ixalan</td>\n",
              "      <td>Playing Cards</td>\n",
              "      <td>Games</td>\n",
              "      <td>USD</td>\n",
              "      <td>2017-10-19</td>\n",
              "      <td>500.0</td>\n",
              "      <td>2017-09-19 05:38:48</td>\n",
              "      <td>82.0</td>\n",
              "      <td>failed</td>\n",
              "      <td>6</td>\n",
              "      <td>US</td>\n",
              "      <td>1.0</td>\n",
              "      <td>82.0</td>\n",
              "      <td>500.0</td>\n",
              "    </tr>\n",
              "    <tr>\n",
              "      <th>207782</th>\n",
              "      <td>2058916858</td>\n",
              "      <td>\"Running Wild\" Wild Horses Documentary</td>\n",
              "      <td>Film &amp; Video</td>\n",
              "      <td>Film &amp; Video</td>\n",
              "      <td>USD</td>\n",
              "      <td>2013-05-18</td>\n",
              "      <td>7000.0</td>\n",
              "      <td>2013-03-29 22:32:37</td>\n",
              "      <td>260.0</td>\n",
              "      <td>failed</td>\n",
              "      <td>7</td>\n",
              "      <td>US</td>\n",
              "      <td>260.0</td>\n",
              "      <td>260.0</td>\n",
              "      <td>7000.0</td>\n",
              "    </tr>\n",
              "    <tr>\n",
              "      <th>28109</th>\n",
              "      <td>1142635672</td>\n",
              "      <td>A Musical Anthology, Photobook &amp; Wall Calendar</td>\n",
              "      <td>Photobooks</td>\n",
              "      <td>Photography</td>\n",
              "      <td>USD</td>\n",
              "      <td>2017-08-10</td>\n",
              "      <td>5500.0</td>\n",
              "      <td>2017-07-10 22:44:00</td>\n",
              "      <td>40.0</td>\n",
              "      <td>failed</td>\n",
              "      <td>2</td>\n",
              "      <td>US</td>\n",
              "      <td>0.0</td>\n",
              "      <td>40.0</td>\n",
              "      <td>5500.0</td>\n",
              "    </tr>\n",
              "  </tbody>\n",
              "</table>\n",
              "</div>"
            ],
            "text/plain": [
              "                ID  ... usd_goal_real\n",
              "292934   561028009  ...      100000.0\n",
              "229754   238073904  ...        6000.0\n",
              "288883   539930682  ...         500.0\n",
              "207782  2058916858  ...        7000.0\n",
              "28109   1142635672  ...        5500.0\n",
              "\n",
              "[5 rows x 15 columns]"
            ]
          },
          "metadata": {
            "tags": []
          },
          "execution_count": 7
        }
      ]
    },
    {
      "cell_type": "code",
      "metadata": {
        "colab_type": "code",
        "id": "DtO_8jQ7VXjW",
        "outputId": "ef638197-f81b-47d0-8647-665d703817b8",
        "colab": {
          "base_uri": "https://localhost:8080/",
          "height": 481
        }
      },
      "source": [
        "df_train.describe(include='all')"
      ],
      "execution_count": 0,
      "outputs": [
        {
          "output_type": "execute_result",
          "data": {
            "text/html": [
              "<div>\n",
              "<style scoped>\n",
              "    .dataframe tbody tr th:only-of-type {\n",
              "        vertical-align: middle;\n",
              "    }\n",
              "\n",
              "    .dataframe tbody tr th {\n",
              "        vertical-align: top;\n",
              "    }\n",
              "\n",
              "    .dataframe thead th {\n",
              "        text-align: right;\n",
              "    }\n",
              "</style>\n",
              "<table border=\"1\" class=\"dataframe\">\n",
              "  <thead>\n",
              "    <tr style=\"text-align: right;\">\n",
              "      <th></th>\n",
              "      <th>ID</th>\n",
              "      <th>name</th>\n",
              "      <th>category</th>\n",
              "      <th>main_category</th>\n",
              "      <th>currency</th>\n",
              "      <th>deadline</th>\n",
              "      <th>goal</th>\n",
              "      <th>launched</th>\n",
              "      <th>pledged</th>\n",
              "      <th>state</th>\n",
              "      <th>backers</th>\n",
              "      <th>country</th>\n",
              "      <th>usd pledged</th>\n",
              "      <th>usd_pledged_real</th>\n",
              "      <th>usd_goal_real</th>\n",
              "    </tr>\n",
              "  </thead>\n",
              "  <tbody>\n",
              "    <tr>\n",
              "      <th>count</th>\n",
              "      <td>3.029280e+05</td>\n",
              "      <td>302925</td>\n",
              "      <td>302928</td>\n",
              "      <td>302928</td>\n",
              "      <td>302928</td>\n",
              "      <td>302928</td>\n",
              "      <td>3.029280e+05</td>\n",
              "      <td>302928</td>\n",
              "      <td>3.029280e+05</td>\n",
              "      <td>302928</td>\n",
              "      <td>302928.000000</td>\n",
              "      <td>302928</td>\n",
              "      <td>2.999020e+05</td>\n",
              "      <td>3.029280e+05</td>\n",
              "      <td>3.029280e+05</td>\n",
              "    </tr>\n",
              "    <tr>\n",
              "      <th>unique</th>\n",
              "      <td>NaN</td>\n",
              "      <td>300983</td>\n",
              "      <td>159</td>\n",
              "      <td>15</td>\n",
              "      <td>14</td>\n",
              "      <td>3153</td>\n",
              "      <td>NaN</td>\n",
              "      <td>302575</td>\n",
              "      <td>NaN</td>\n",
              "      <td>6</td>\n",
              "      <td>NaN</td>\n",
              "      <td>23</td>\n",
              "      <td>NaN</td>\n",
              "      <td>NaN</td>\n",
              "      <td>NaN</td>\n",
              "    </tr>\n",
              "    <tr>\n",
              "      <th>top</th>\n",
              "      <td>NaN</td>\n",
              "      <td>New EP/Music Development</td>\n",
              "      <td>Product Design</td>\n",
              "      <td>Film &amp; Video</td>\n",
              "      <td>USD</td>\n",
              "      <td>2014-08-08</td>\n",
              "      <td>NaN</td>\n",
              "      <td>1970-01-01 01:00:00</td>\n",
              "      <td>NaN</td>\n",
              "      <td>failed</td>\n",
              "      <td>NaN</td>\n",
              "      <td>US</td>\n",
              "      <td>NaN</td>\n",
              "      <td>NaN</td>\n",
              "      <td>NaN</td>\n",
              "    </tr>\n",
              "    <tr>\n",
              "      <th>freq</th>\n",
              "      <td>NaN</td>\n",
              "      <td>33</td>\n",
              "      <td>17936</td>\n",
              "      <td>50798</td>\n",
              "      <td>236328</td>\n",
              "      <td>563</td>\n",
              "      <td>NaN</td>\n",
              "      <td>3</td>\n",
              "      <td>NaN</td>\n",
              "      <td>158349</td>\n",
              "      <td>NaN</td>\n",
              "      <td>234132</td>\n",
              "      <td>NaN</td>\n",
              "      <td>NaN</td>\n",
              "      <td>NaN</td>\n",
              "    </tr>\n",
              "    <tr>\n",
              "      <th>mean</th>\n",
              "      <td>1.074297e+09</td>\n",
              "      <td>NaN</td>\n",
              "      <td>NaN</td>\n",
              "      <td>NaN</td>\n",
              "      <td>NaN</td>\n",
              "      <td>NaN</td>\n",
              "      <td>4.922128e+04</td>\n",
              "      <td>NaN</td>\n",
              "      <td>9.734076e+03</td>\n",
              "      <td>NaN</td>\n",
              "      <td>104.865077</td>\n",
              "      <td>NaN</td>\n",
              "      <td>7.071451e+03</td>\n",
              "      <td>9.107876e+03</td>\n",
              "      <td>4.575300e+04</td>\n",
              "    </tr>\n",
              "    <tr>\n",
              "      <th>std</th>\n",
              "      <td>6.189432e+08</td>\n",
              "      <td>NaN</td>\n",
              "      <td>NaN</td>\n",
              "      <td>NaN</td>\n",
              "      <td>NaN</td>\n",
              "      <td>NaN</td>\n",
              "      <td>1.193161e+06</td>\n",
              "      <td>NaN</td>\n",
              "      <td>9.869791e+04</td>\n",
              "      <td>NaN</td>\n",
              "      <td>843.253462</td>\n",
              "      <td>NaN</td>\n",
              "      <td>8.121598e+04</td>\n",
              "      <td>9.355846e+04</td>\n",
              "      <td>1.164302e+06</td>\n",
              "    </tr>\n",
              "    <tr>\n",
              "      <th>min</th>\n",
              "      <td>5.971000e+03</td>\n",
              "      <td>NaN</td>\n",
              "      <td>NaN</td>\n",
              "      <td>NaN</td>\n",
              "      <td>NaN</td>\n",
              "      <td>NaN</td>\n",
              "      <td>1.000000e-02</td>\n",
              "      <td>NaN</td>\n",
              "      <td>0.000000e+00</td>\n",
              "      <td>NaN</td>\n",
              "      <td>0.000000</td>\n",
              "      <td>NaN</td>\n",
              "      <td>0.000000e+00</td>\n",
              "      <td>0.000000e+00</td>\n",
              "      <td>1.000000e-02</td>\n",
              "    </tr>\n",
              "    <tr>\n",
              "      <th>25%</th>\n",
              "      <td>5.380573e+08</td>\n",
              "      <td>NaN</td>\n",
              "      <td>NaN</td>\n",
              "      <td>NaN</td>\n",
              "      <td>NaN</td>\n",
              "      <td>NaN</td>\n",
              "      <td>2.000000e+03</td>\n",
              "      <td>NaN</td>\n",
              "      <td>3.000000e+01</td>\n",
              "      <td>NaN</td>\n",
              "      <td>2.000000</td>\n",
              "      <td>NaN</td>\n",
              "      <td>1.655000e+01</td>\n",
              "      <td>3.039250e+01</td>\n",
              "      <td>2.000000e+03</td>\n",
              "    </tr>\n",
              "    <tr>\n",
              "      <th>50%</th>\n",
              "      <td>1.074836e+09</td>\n",
              "      <td>NaN</td>\n",
              "      <td>NaN</td>\n",
              "      <td>NaN</td>\n",
              "      <td>NaN</td>\n",
              "      <td>NaN</td>\n",
              "      <td>5.300000e+03</td>\n",
              "      <td>NaN</td>\n",
              "      <td>6.190000e+02</td>\n",
              "      <td>NaN</td>\n",
              "      <td>12.000000</td>\n",
              "      <td>NaN</td>\n",
              "      <td>3.930000e+02</td>\n",
              "      <td>6.210000e+02</td>\n",
              "      <td>5.500000e+03</td>\n",
              "    </tr>\n",
              "    <tr>\n",
              "      <th>75%</th>\n",
              "      <td>1.609463e+09</td>\n",
              "      <td>NaN</td>\n",
              "      <td>NaN</td>\n",
              "      <td>NaN</td>\n",
              "      <td>NaN</td>\n",
              "      <td>NaN</td>\n",
              "      <td>1.600000e+04</td>\n",
              "      <td>NaN</td>\n",
              "      <td>4.080000e+03</td>\n",
              "      <td>NaN</td>\n",
              "      <td>56.000000</td>\n",
              "      <td>NaN</td>\n",
              "      <td>3.031000e+03</td>\n",
              "      <td>4.051050e+03</td>\n",
              "      <td>1.559603e+04</td>\n",
              "    </tr>\n",
              "    <tr>\n",
              "      <th>max</th>\n",
              "      <td>2.147476e+09</td>\n",
              "      <td>NaN</td>\n",
              "      <td>NaN</td>\n",
              "      <td>NaN</td>\n",
              "      <td>NaN</td>\n",
              "      <td>NaN</td>\n",
              "      <td>1.000000e+08</td>\n",
              "      <td>NaN</td>\n",
              "      <td>2.033899e+07</td>\n",
              "      <td>NaN</td>\n",
              "      <td>154926.000000</td>\n",
              "      <td>NaN</td>\n",
              "      <td>2.033899e+07</td>\n",
              "      <td>2.033899e+07</td>\n",
              "      <td>1.513959e+08</td>\n",
              "    </tr>\n",
              "  </tbody>\n",
              "</table>\n",
              "</div>"
            ],
            "text/plain": [
              "                  ID                      name  ... usd_pledged_real usd_goal_real\n",
              "count   3.029280e+05                    302925  ...     3.029280e+05  3.029280e+05\n",
              "unique           NaN                    300983  ...              NaN           NaN\n",
              "top              NaN  New EP/Music Development  ...              NaN           NaN\n",
              "freq             NaN                        33  ...              NaN           NaN\n",
              "mean    1.074297e+09                       NaN  ...     9.107876e+03  4.575300e+04\n",
              "std     6.189432e+08                       NaN  ...     9.355846e+04  1.164302e+06\n",
              "min     5.971000e+03                       NaN  ...     0.000000e+00  1.000000e-02\n",
              "25%     5.380573e+08                       NaN  ...     3.039250e+01  2.000000e+03\n",
              "50%     1.074836e+09                       NaN  ...     6.210000e+02  5.500000e+03\n",
              "75%     1.609463e+09                       NaN  ...     4.051050e+03  1.559603e+04\n",
              "max     2.147476e+09                       NaN  ...     2.033899e+07  1.513959e+08\n",
              "\n",
              "[11 rows x 15 columns]"
            ]
          },
          "metadata": {
            "tags": []
          },
          "execution_count": 8
        }
      ]
    },
    {
      "cell_type": "markdown",
      "metadata": {
        "colab_type": "text",
        "id": "vKqn8a65Vexa"
      },
      "source": [
        "## 1.1 Missing values"
      ]
    },
    {
      "cell_type": "code",
      "metadata": {
        "colab_type": "code",
        "id": "1zga5El_VbhA",
        "outputId": "a3df2122-4a38-47fe-8455-04ccb0f13cfd",
        "colab": {
          "base_uri": "https://localhost:8080/",
          "height": 289
        }
      },
      "source": [
        "#Percentage of NaN values for each column \n",
        "(df_train.isnull().sum() / len(df_train)) * 100"
      ],
      "execution_count": 0,
      "outputs": [
        {
          "output_type": "execute_result",
          "data": {
            "text/plain": [
              "ID                  0.000000\n",
              "name                0.000990\n",
              "category            0.000000\n",
              "main_category       0.000000\n",
              "currency            0.000000\n",
              "deadline            0.000000\n",
              "goal                0.000000\n",
              "launched            0.000000\n",
              "pledged             0.000000\n",
              "state               0.000000\n",
              "backers             0.000000\n",
              "country             0.000000\n",
              "usd pledged         0.998917\n",
              "usd_pledged_real    0.000000\n",
              "usd_goal_real       0.000000\n",
              "dtype: float64"
            ]
          },
          "metadata": {
            "tags": []
          },
          "execution_count": 9
        }
      ]
    },
    {
      "cell_type": "markdown",
      "metadata": {
        "colab_type": "text",
        "id": "TyU7CDJ2c96e"
      },
      "source": [
        "## 1.2 Exploratory analysis of data set"
      ]
    },
    {
      "cell_type": "markdown",
      "metadata": {
        "colab_type": "text",
        "id": "o1Qpv3uxdA9r"
      },
      "source": [
        "### 1.2.1 Categories"
      ]
    },
    {
      "cell_type": "markdown",
      "metadata": {
        "colab_type": "text",
        "id": "64q2d2QQgfsq"
      },
      "source": [
        "#### Top 10 categories"
      ]
    },
    {
      "cell_type": "code",
      "metadata": {
        "colab_type": "code",
        "id": "kJkie3ksVqcq",
        "outputId": "15053183-c500-4751-809a-d534135171a9",
        "colab": {
          "base_uri": "https://localhost:8080/",
          "height": 238
        }
      },
      "source": [
        "total_size = len(df_train)\n",
        "top_cat = df_train.groupby(['category']).count()['ID'].sort_values(ascending=False)[0:10]\n",
        "print(\"Top 10 categories reprensent {0:.1f}% of the dataset.\".format((top_cat.sum()/total_size)*100))\n",
        "top_cat"
      ],
      "execution_count": 0,
      "outputs": [
        {
          "output_type": "stream",
          "text": [
            "Top 10 categories reprensent 34.8% of the dataset.\n"
          ],
          "name": "stdout"
        },
        {
          "output_type": "execute_result",
          "data": {
            "text/plain": [
              "category\n",
              "Product Design    17936\n",
              "Documentary       12970\n",
              "Music             12635\n",
              "Tabletop Games    11237\n",
              "Shorts             9869\n",
              "Video Games        9442\n",
              "Food               9144\n",
              "Film & Video       8014\n",
              "Fiction            7340\n",
              "Fashion            6795\n",
              "Name: ID, dtype: int64"
            ]
          },
          "metadata": {
            "tags": []
          },
          "execution_count": 10
        }
      ]
    },
    {
      "cell_type": "markdown",
      "metadata": {
        "colab_type": "text",
        "id": "hd32N_TlhIZj"
      },
      "source": [
        "### 1.2.2 Main categories"
      ]
    },
    {
      "cell_type": "code",
      "metadata": {
        "colab_type": "code",
        "id": "4Jg1CjhPhQRh",
        "outputId": "896bc5f3-a7fc-4ed8-9e25-5ab7388844c2",
        "colab": {
          "base_uri": "https://localhost:8080/",
          "height": 841
        }
      },
      "source": [
        "main_cat = df_train.groupby(['main_category']).count()['ID'].sort_values(ascending=False)\n",
        "main_cat.plot.bar(figsize=(18,7), fontsize=16, title='Number of projects per main category')\n",
        "(main_cat / total_size) * 100"
      ],
      "execution_count": 0,
      "outputs": [
        {
          "output_type": "execute_result",
          "data": {
            "text/plain": [
              "main_category\n",
              "Film & Video    16.769001\n",
              "Music           13.722403\n",
              "Publishing      10.552673\n",
              "Games            9.291647\n",
              "Technology       8.625152\n",
              "Design           7.975493\n",
              "Art              7.431139\n",
              "Food             6.478107\n",
              "Fashion          6.015621\n",
              "Theater          2.892106\n",
              "Comics           2.850512\n",
              "Photography      2.841269\n",
              "Crafts           2.325305\n",
              "Journalism       1.248151\n",
              "Dance            0.981421\n",
              "Name: ID, dtype: float64"
            ]
          },
          "metadata": {
            "tags": []
          },
          "execution_count": 12
        },
        {
          "output_type": "display_data",
          "data": {
            "image/png": "[encoded data removed]",
            "text/plain": [
              "<Figure size 1296x504 with 1 Axes>"
            ]
          },
          "metadata": {
            "tags": []
          }
        }
      ]
    },
    {
      "cell_type": "markdown",
      "metadata": {
        "colab_type": "text",
        "id": "q1QjVuS_lhrM"
      },
      "source": [
        "### 1.2.3 Currencies"
      ]
    },
    {
      "cell_type": "code",
      "metadata": {
        "colab_type": "code",
        "id": "2eVcV6P8l-F_",
        "outputId": "0d65e56e-97c9-48e6-b0a9-189e1afe39db",
        "colab": {
          "base_uri": "https://localhost:8080/",
          "height": 649
        }
      },
      "source": [
        "currencies = df_train.groupby(['currency']).count()['ID'].sort_values(ascending=False)\n",
        "currencies.plot.bar(figsize=(14,5), fontsize=16, title='Number of projects per currency')\n",
        "(currencies / total_size) * 100"
      ],
      "execution_count": 0,
      "outputs": [
        {
          "output_type": "execute_result",
          "data": {
            "text/plain": [
              "currency\n",
              "USD    78.014578\n",
              "GBP     9.004120\n",
              "EUR     4.588879\n",
              "CAD     3.964969\n",
              "AUD     2.117005\n",
              "SEK     0.471729\n",
              "MXN     0.458195\n",
              "NZD     0.381279\n",
              "DKK     0.296440\n",
              "CHF     0.194106\n",
              "NOK     0.186513\n",
              "HKD     0.165056\n",
              "SGD     0.144919\n",
              "JPY     0.012214\n",
              "Name: ID, dtype: float64"
            ]
          },
          "metadata": {
            "tags": []
          },
          "execution_count": 13
        },
        {
          "output_type": "display_data",
          "data": {
            "image/png": "[encoded data removed]",
            "text/plain": [
              "<Figure size 1008x360 with 1 Axes>"
            ]
          },
          "metadata": {
            "tags": []
          }
        }
      ]
    },
    {
      "cell_type": "code",
      "metadata": {
        "colab_type": "code",
        "id": "gvxI1hhqndN4",
        "colab": {}
      },
      "source": [
        ""
      ],
      "execution_count": 0,
      "outputs": []
    },
    {
      "cell_type": "markdown",
      "metadata": {
        "colab_type": "text",
        "id": "hLf5JRfTofdN"
      },
      "source": [
        "### 1.2.4 Deadlines & Launchs"
      ]
    },
    {
      "cell_type": "code",
      "metadata": {
        "colab_type": "code",
        "id": "wIJPzB-qokAJ",
        "colab": {}
      },
      "source": [
        ""
      ],
      "execution_count": 0,
      "outputs": []
    },
    {
      "cell_type": "markdown",
      "metadata": {
        "colab_type": "text",
        "id": "vhtfqpRaorZd"
      },
      "source": [
        "### 1.2.5 Goals"
      ]
    },
    {
      "cell_type": "code",
      "metadata": {
        "colab_type": "code",
        "id": "su2K7LR2otSy",
        "outputId": "a6c71659-ae4c-4fcd-9091-b86e5c1ae269",
        "colab": {
          "base_uri": "https://localhost:8080/",
          "height": 555
        }
      },
      "source": [
        "goal = df_train.groupby(['goal']).count()['ID']\n",
        "goal[0:100000].plot(figsize=(14,5))\n",
        "goal"
      ],
      "execution_count": 0,
      "outputs": [
        {
          "output_type": "execute_result",
          "data": {
            "text/plain": [
              "goal\n",
              "1.000000e-02      1\n",
              "1.500000e-01      1\n",
              "5.000000e-01      1\n",
              "1.000000e+00    361\n",
              "1.850000e+00      1\n",
              "               ... \n",
              "7.300000e+07      1\n",
              "7.500000e+07      1\n",
              "8.000000e+07      1\n",
              "9.900000e+07      1\n",
              "1.000000e+08     30\n",
              "Name: ID, Length: 7233, dtype: int64"
            ]
          },
          "metadata": {
            "tags": []
          },
          "execution_count": 14
        },
        {
          "output_type": "display_data",
          "data": {
            "image/png": "[encoded data removed]",
            "text/plain": [
              "<Figure size 1008x360 with 1 Axes>"
            ]
          },
          "metadata": {
            "tags": []
          }
        }
      ]
    },
    {
      "cell_type": "markdown",
      "metadata": {
        "colab_type": "text",
        "id": "JqzUVpeUeaBv"
      },
      "source": [
        "### State"
      ]
    },
    {
      "cell_type": "code",
      "metadata": {
        "colab_type": "code",
        "id": "O7n6uUoMecoH",
        "outputId": "c80bdcf3-4c3e-406a-c01a-bc4345da934f",
        "colab": {
          "base_uri": "https://localhost:8080/",
          "height": 563
        }
      },
      "source": [
        "state = df_train.groupby(['state']).count()['ID'].sort_values(ascending=False)\n",
        "state.plot.bar(figsize=(14,5), fontsize=16, title='States of the projects')\n",
        "(state / total_size) * 100"
      ],
      "execution_count": 0,
      "outputs": [
        {
          "output_type": "execute_result",
          "data": {
            "text/plain": [
              "state\n",
              "failed        52.272817\n",
              "successful    35.306740\n",
              "canceled      10.244679\n",
              "undefined      0.936526\n",
              "live           0.747372\n",
              "suspended      0.491866\n",
              "Name: ID, dtype: float64"
            ]
          },
          "metadata": {
            "tags": []
          },
          "execution_count": 15
        },
        {
          "output_type": "display_data",
          "data": {
            "image/png": "[encoded data removed]",
            "text/plain": [
              "<Figure size 1008x360 with 1 Axes>"
            ]
          },
          "metadata": {
            "tags": []
          }
        }
      ]
    },
    {
      "cell_type": "markdown",
      "metadata": {
        "colab_type": "text",
        "id": "jw_cCZQggSmm"
      },
      "source": [
        "### Backers\n",
        "\n",
        "\n"
      ]
    },
    {
      "cell_type": "code",
      "metadata": {
        "colab_type": "code",
        "id": "VbW6iawAfT_W",
        "outputId": "4bfb2f40-a521-45a9-bec1-4d5b3a0f0764",
        "colab": {
          "base_uri": "https://localhost:8080/",
          "height": 581
        }
      },
      "source": [
        "backers = df_train.groupby(['backers']).count()['ID']\n",
        "backers[0:100].plot.bar(figsize=(14,5), fontsize=16, title='Number of projects backed up by a certain number of backers')\n",
        "(backers / total_size) * 100"
      ],
      "execution_count": 0,
      "outputs": [
        {
          "output_type": "execute_result",
          "data": {
            "text/plain": [
              "backers\n",
              "0         14.728912\n",
              "1          9.179079\n",
              "2          6.133471\n",
              "3          4.264050\n",
              "4          3.179964\n",
              "            ...    \n",
              "78471      0.000330\n",
              "85581      0.000330\n",
              "87142      0.000330\n",
              "91585      0.000330\n",
              "154926     0.000330\n",
              "Name: ID, Length: 3585, dtype: float64"
            ]
          },
          "metadata": {
            "tags": []
          },
          "execution_count": 17
        },
        {
          "output_type": "display_data",
          "data": {
            "image/png": "[encoded data removed]",
            "text/plain": [
              "<Figure size 1008x360 with 1 Axes>"
            ]
          },
          "metadata": {
            "tags": []
          }
        }
      ]
    },
    {
      "cell_type": "markdown",
      "metadata": {
        "colab_type": "text",
        "id": "MbQCVqQ7fSCi"
      },
      "source": [
        "### Country "
      ]
    },
    {
      "cell_type": "code",
      "metadata": {
        "colab_type": "code",
        "id": "Nd5pxFN1gULI",
        "outputId": "5c7a29bf-870c-4054-d63f-b4a9eaa7b891",
        "colab": {
          "base_uri": "https://localhost:8080/",
          "height": 799
        }
      },
      "source": [
        "country = df_train.groupby(['country']).count()['ID'].sort_values(ascending=False)\n",
        "country.plot.bar(figsize=(14,5), fontsize=16, title='countries of the projects')\n",
        "(country / total_size) * 100"
      ],
      "execution_count": 0,
      "outputs": [
        {
          "output_type": "execute_result",
          "data": {
            "text/plain": [
              "country\n",
              "US      77.289653\n",
              "GB       8.886930\n",
              "CA       3.909510\n",
              "AU       2.089275\n",
              "DE       1.097621\n",
              "N,0\"     0.998917\n",
              "FR       0.773121\n",
              "IT       0.761237\n",
              "NL       0.756285\n",
              "ES       0.600143\n",
              "SE       0.463146\n",
              "MX       0.458195\n",
              "NZ       0.373356\n",
              "DK       0.293469\n",
              "IE       0.205990\n",
              "CH       0.193115\n",
              "NO       0.182552\n",
              "BE       0.166376\n",
              "HK       0.165056\n",
              "AT       0.161424\n",
              "SG       0.144919\n",
              "LU       0.017496\n",
              "JP       0.012214\n",
              "Name: ID, dtype: float64"
            ]
          },
          "metadata": {
            "tags": []
          },
          "execution_count": 18
        },
        {
          "output_type": "display_data",
          "data": {
            "image/png": "[encoded data removed]",
            "text/plain": [
              "<Figure size 1008x360 with 1 Axes>"
            ]
          },
          "metadata": {
            "tags": []
          }
        }
      ]
    },
    {
      "cell_type": "markdown",
      "metadata": {
        "colab_type": "text",
        "id": "KIEGJmnIpEAF"
      },
      "source": [
        "## 1.3 Correlations"
      ]
    },
    {
      "cell_type": "code",
      "metadata": {
        "colab_type": "code",
        "id": "zU8RFXwApHue",
        "outputId": "0b396891-9696-4564-9744-b689a0129fd9",
        "colab": {
          "base_uri": "https://localhost:8080/",
          "height": 297
        }
      },
      "source": [
        "df_correl = df_train.corr(method='pearson')\n",
        "df_correl"
      ],
      "execution_count": 0,
      "outputs": [
        {
          "output_type": "execute_result",
          "data": {
            "text/html": [
              "<div>\n",
              "<style scoped>\n",
              "    .dataframe tbody tr th:only-of-type {\n",
              "        vertical-align: middle;\n",
              "    }\n",
              "\n",
              "    .dataframe tbody tr th {\n",
              "        vertical-align: top;\n",
              "    }\n",
              "\n",
              "    .dataframe thead th {\n",
              "        text-align: right;\n",
              "    }\n",
              "</style>\n",
              "<table border=\"1\" class=\"dataframe\">\n",
              "  <thead>\n",
              "    <tr style=\"text-align: right;\">\n",
              "      <th></th>\n",
              "      <th>ID</th>\n",
              "      <th>goal</th>\n",
              "      <th>pledged</th>\n",
              "      <th>backers</th>\n",
              "      <th>usd pledged</th>\n",
              "      <th>usd_pledged_real</th>\n",
              "      <th>usd_goal_real</th>\n",
              "      <th>duration</th>\n",
              "    </tr>\n",
              "  </thead>\n",
              "  <tbody>\n",
              "    <tr>\n",
              "      <th>ID</th>\n",
              "      <td>1.000000</td>\n",
              "      <td>0.001288</td>\n",
              "      <td>0.000538</td>\n",
              "      <td>0.000493</td>\n",
              "      <td>-0.000316</td>\n",
              "      <td>-0.000018</td>\n",
              "      <td>0.001768</td>\n",
              "      <td>0.001774</td>\n",
              "    </tr>\n",
              "    <tr>\n",
              "      <th>goal</th>\n",
              "      <td>0.001288</td>\n",
              "      <td>1.000000</td>\n",
              "      <td>0.006996</td>\n",
              "      <td>0.003994</td>\n",
              "      <td>0.005058</td>\n",
              "      <td>0.004623</td>\n",
              "      <td>0.954977</td>\n",
              "      <td>0.005607</td>\n",
              "    </tr>\n",
              "    <tr>\n",
              "      <th>pledged</th>\n",
              "      <td>0.000538</td>\n",
              "      <td>0.006996</td>\n",
              "      <td>1.000000</td>\n",
              "      <td>0.714489</td>\n",
              "      <td>0.858367</td>\n",
              "      <td>0.951924</td>\n",
              "      <td>0.004517</td>\n",
              "      <td>0.001736</td>\n",
              "    </tr>\n",
              "    <tr>\n",
              "      <th>backers</th>\n",
              "      <td>0.000493</td>\n",
              "      <td>0.003994</td>\n",
              "      <td>0.714489</td>\n",
              "      <td>1.000000</td>\n",
              "      <td>0.676587</td>\n",
              "      <td>0.750916</td>\n",
              "      <td>0.004525</td>\n",
              "      <td>-0.000454</td>\n",
              "    </tr>\n",
              "    <tr>\n",
              "      <th>usd pledged</th>\n",
              "      <td>-0.000316</td>\n",
              "      <td>0.005058</td>\n",
              "      <td>0.858367</td>\n",
              "      <td>0.676587</td>\n",
              "      <td>1.000000</td>\n",
              "      <td>0.909633</td>\n",
              "      <td>0.005702</td>\n",
              "      <td>0.001634</td>\n",
              "    </tr>\n",
              "    <tr>\n",
              "      <th>usd_pledged_real</th>\n",
              "      <td>-0.000018</td>\n",
              "      <td>0.004623</td>\n",
              "      <td>0.951924</td>\n",
              "      <td>0.750916</td>\n",
              "      <td>0.909633</td>\n",
              "      <td>1.000000</td>\n",
              "      <td>0.005107</td>\n",
              "      <td>0.001925</td>\n",
              "    </tr>\n",
              "    <tr>\n",
              "      <th>usd_goal_real</th>\n",
              "      <td>0.001768</td>\n",
              "      <td>0.954977</td>\n",
              "      <td>0.004517</td>\n",
              "      <td>0.004525</td>\n",
              "      <td>0.005702</td>\n",
              "      <td>0.005107</td>\n",
              "      <td>1.000000</td>\n",
              "      <td>0.005648</td>\n",
              "    </tr>\n",
              "    <tr>\n",
              "      <th>duration</th>\n",
              "      <td>0.001774</td>\n",
              "      <td>0.005607</td>\n",
              "      <td>0.001736</td>\n",
              "      <td>-0.000454</td>\n",
              "      <td>0.001634</td>\n",
              "      <td>0.001925</td>\n",
              "      <td>0.005648</td>\n",
              "      <td>1.000000</td>\n",
              "    </tr>\n",
              "  </tbody>\n",
              "</table>\n",
              "</div>"
            ],
            "text/plain": [
              "                        ID      goal  ...  usd_goal_real  duration\n",
              "ID                1.000000  0.001288  ...       0.001768  0.001774\n",
              "goal              0.001288  1.000000  ...       0.954977  0.005607\n",
              "pledged           0.000538  0.006996  ...       0.004517  0.001736\n",
              "backers           0.000493  0.003994  ...       0.004525 -0.000454\n",
              "usd pledged      -0.000316  0.005058  ...       0.005702  0.001634\n",
              "usd_pledged_real -0.000018  0.004623  ...       0.005107  0.001925\n",
              "usd_goal_real     0.001768  0.954977  ...       1.000000  0.005648\n",
              "duration          0.001774  0.005607  ...       0.005648  1.000000\n",
              "\n",
              "[8 rows x 8 columns]"
            ]
          },
          "metadata": {
            "tags": []
          },
          "execution_count": 24
        }
      ]
    },
    {
      "cell_type": "code",
      "metadata": {
        "colab_type": "code",
        "id": "jaSDd6-2pQyh",
        "outputId": "69469268-013b-4d21-8ff6-fa8affbbf86e",
        "colab": {
          "base_uri": "https://localhost:8080/",
          "height": 364
        }
      },
      "source": [
        "sns.heatmap(df_correl, \n",
        "        xticklabels=df_correl.columns,\n",
        "        yticklabels=df_correl.columns)"
      ],
      "execution_count": 0,
      "outputs": [
        {
          "output_type": "execute_result",
          "data": {
            "text/plain": [
              "<matplotlib.axes._subplots.AxesSubplot at 0x7fc74772f3c8>"
            ]
          },
          "metadata": {
            "tags": []
          },
          "execution_count": 25
        },
        {
          "output_type": "display_data",
          "data": {
            "image/png": "[encoded data removed]",
            "text/plain": [
              "<Figure size 432x288 with 2 Axes>"
            ]
          },
          "metadata": {
            "tags": []
          }
        }
      ]
    },
    {
      "cell_type": "code",
      "metadata": {
        "colab_type": "code",
        "id": "wo0KAqgHbVnz",
        "outputId": "a745b86d-72dc-4e8f-dd20-a66d5aa6deca",
        "colab": {
          "base_uri": "https://localhost:8080/",
          "height": 306
        }
      },
      "source": [
        "df_train.dtypes"
      ],
      "execution_count": 0,
      "outputs": [
        {
          "output_type": "execute_result",
          "data": {
            "text/plain": [
              "ID                           int64\n",
              "name                        object\n",
              "category                    object\n",
              "main_category               object\n",
              "currency                    object\n",
              "deadline            datetime64[ns]\n",
              "goal                       float64\n",
              "launched            datetime64[ns]\n",
              "pledged                    float64\n",
              "state                       object\n",
              "backers                      int64\n",
              "country                     object\n",
              "usd pledged                float64\n",
              "usd_pledged_real           float64\n",
              "usd_goal_real              float64\n",
              "duration                     int64\n",
              "dtype: object"
            ]
          },
          "metadata": {
            "tags": []
          },
          "execution_count": 26
        }
      ]
    },
    {
      "cell_type": "markdown",
      "metadata": {
        "colab_type": "text",
        "id": "oWDcv56MPysD"
      },
      "source": [
        "### Cleaning"
      ]
    },
    {
      "cell_type": "code",
      "metadata": {
        "colab_type": "code",
        "id": "SZxgymHHPysE",
        "outputId": "bb5e7e14-ba0d-43a7-8fbb-78319840368f",
        "colab": {
          "base_uri": "https://localhost:8080/",
          "height": 159
        }
      },
      "source": [
        "df_train['launched'] = pd.to_datetime(df_train['launched'])"
      ],
      "execution_count": 0,
      "outputs": [
        {
          "output_type": "stream",
          "text": [
            "/usr/local/lib/python3.6/dist-packages/ipykernel_launcher.py:1: SettingWithCopyWarning: \n",
            "A value is trying to be set on a copy of a slice from a DataFrame.\n",
            "Try using .loc[row_indexer,col_indexer] = value instead\n",
            "\n",
            "See the caveats in the documentation: http://pandas.pydata.org/pandas-docs/stable/user_guide/indexing.html#returning-a-view-versus-a-copy\n",
            "  \"\"\"Entry point for launching an IPython kernel.\n"
          ],
          "name": "stderr"
        }
      ]
    },
    {
      "cell_type": "code",
      "metadata": {
        "colab_type": "code",
        "id": "JfYBMVXWPysI",
        "outputId": "30f19edd-1999-41d8-86bb-06b8cc1d0167",
        "colab": {
          "base_uri": "https://localhost:8080/",
          "height": 363
        }
      },
      "source": [
        "df_train['deadline'] = pd.to_datetime(df_train['deadline'])\n",
        "df_train['duration'] = df_train['deadline'] - df_train['launched']\n",
        "df_train['duration'] = df_train['duration'].apply(lambda x: x.days).astype(int)"
      ],
      "execution_count": 0,
      "outputs": [
        {
          "output_type": "stream",
          "text": [
            "/usr/local/lib/python3.6/dist-packages/ipykernel_launcher.py:1: SettingWithCopyWarning: \n",
            "A value is trying to be set on a copy of a slice from a DataFrame.\n",
            "Try using .loc[row_indexer,col_indexer] = value instead\n",
            "\n",
            "See the caveats in the documentation: http://pandas.pydata.org/pandas-docs/stable/user_guide/indexing.html#returning-a-view-versus-a-copy\n",
            "  \"\"\"Entry point for launching an IPython kernel.\n",
            "/usr/local/lib/python3.6/dist-packages/ipykernel_launcher.py:2: SettingWithCopyWarning: \n",
            "A value is trying to be set on a copy of a slice from a DataFrame.\n",
            "Try using .loc[row_indexer,col_indexer] = value instead\n",
            "\n",
            "See the caveats in the documentation: http://pandas.pydata.org/pandas-docs/stable/user_guide/indexing.html#returning-a-view-versus-a-copy\n",
            "  \n",
            "/usr/local/lib/python3.6/dist-packages/ipykernel_launcher.py:3: SettingWithCopyWarning: \n",
            "A value is trying to be set on a copy of a slice from a DataFrame.\n",
            "Try using .loc[row_indexer,col_indexer] = value instead\n",
            "\n",
            "See the caveats in the documentation: http://pandas.pydata.org/pandas-docs/stable/user_guide/indexing.html#returning-a-view-versus-a-copy\n",
            "  This is separate from the ipykernel package so we can avoid doing imports until\n"
          ],
          "name": "stderr"
        }
      ]
    },
    {
      "cell_type": "code",
      "metadata": {
        "colab_type": "code",
        "id": "sEWuivTMPysM",
        "scrolled": true,
        "colab": {}
      },
      "source": [
        "duration = df_train.groupby(['duration']).count()['ID'].sort_values()\n",
        "# duration.plot.bar(figsize=(14,5), fontsize=16, title='duration of the projects')\n",
        "# (duration / total_size) * 100\n",
        "# TODO graph"
      ],
      "execution_count": 0,
      "outputs": []
    },
    {
      "cell_type": "code",
      "metadata": {
        "colab_type": "code",
        "id": "-hacTrvUPysQ",
        "colab": {}
      },
      "source": [
        "list_main_cat = list(df_train['main_category'].unique())\n",
        "df_clean = df_train.copy()\n",
        "df_clean[\"main_category\"] = df_clean[\"main_category\"].apply(lambda x: list_main_cat.index(x))"
      ],
      "execution_count": 0,
      "outputs": []
    },
    {
      "cell_type": "code",
      "metadata": {
        "colab_type": "code",
        "id": "UA39hm35PysT",
        "colab": {}
      },
      "source": [
        "list_cat = list(df_train['category'].unique())\n",
        "df_clean[\"category\"] = df_clean[\"category\"].apply(lambda x: list_cat.index(x))"
      ],
      "execution_count": 0,
      "outputs": []
    },
    {
      "cell_type": "code",
      "metadata": {
        "colab_type": "code",
        "id": "U_xlIOxqPysW",
        "colab": {}
      },
      "source": [
        "list_currency = list(df_train['currency'].unique())\n",
        "df_clean[\"currency\"] = df_clean[\"currency\"].apply(lambda x: list_currency.index(x))"
      ],
      "execution_count": 0,
      "outputs": []
    },
    {
      "cell_type": "code",
      "metadata": {
        "colab_type": "code",
        "id": "q7hvXTdPPysZ",
        "colab": {}
      },
      "source": [
        "list_state = list(df_train['state'].unique())\n",
        "df_clean[\"state\"] = df_clean[\"state\"].apply(lambda x: list_state.index(x))"
      ],
      "execution_count": 0,
      "outputs": []
    },
    {
      "cell_type": "code",
      "metadata": {
        "colab_type": "code",
        "id": "CRz7GB7EPysf",
        "colab": {}
      },
      "source": [
        "list_country = list(df_train['country'].unique())\n",
        "df_clean[\"country\"] = df_clean[\"country\"].apply(lambda x: list_country.index(x))"
      ],
      "execution_count": 0,
      "outputs": []
    },
    {
      "cell_type": "code",
      "metadata": {
        "colab_type": "code",
        "id": "IG_drFflQPTB",
        "colab": {}
      },
      "source": [
        "df_clean['deadline_weekday'] = df_clean['deadline'].apply(lambda x: x.weekday())\n",
        "df_clean['deadline_monthday'] = df_clean['deadline'].apply(lambda x: x.day)\n",
        "df_clean['deadline_month'] = df_clean['deadline'].apply(lambda x: x.month)\n",
        "df_clean['deadline_year'] = df_clean['deadline'].apply(lambda x: x.year)\n",
        "del df_clean['deadline']"
      ],
      "execution_count": 0,
      "outputs": []
    },
    {
      "cell_type": "code",
      "metadata": {
        "colab_type": "code",
        "id": "vfWR3eD9UVOa",
        "colab": {}
      },
      "source": [
        "df_clean['launched_weekday'] = df_clean['launched'].apply(lambda x: x.weekday())\n",
        "df_clean['launched_monthday'] = df_clean['launched'].apply(lambda x: x.day)\n",
        "df_clean['launched_month'] = df_clean['launched'].apply(lambda x: x.month)\n",
        "df_clean['launched_year'] = df_clean['launched'].apply(lambda x: x.year)\n",
        "df_clean['launched_hour'] = df_clean['launched'].apply(lambda x: x.hour)\n",
        "del df_clean['launched']"
      ],
      "execution_count": 0,
      "outputs": []
    },
    {
      "cell_type": "code",
      "metadata": {
        "colab_type": "code",
        "id": "HUnPSoRlPysi",
        "outputId": "281cbf13-1ab9-4f53-d2f4-ce6e7e7bea6e",
        "scrolled": true,
        "colab": {
          "base_uri": "https://localhost:8080/",
          "height": 425
        }
      },
      "source": [
        "df_clean.dtypes"
      ],
      "execution_count": 0,
      "outputs": [
        {
          "output_type": "execute_result",
          "data": {
            "text/plain": [
              "ID                     int64\n",
              "name                  object\n",
              "category               int64\n",
              "main_category          int64\n",
              "currency               int64\n",
              "goal                 float64\n",
              "pledged              float64\n",
              "state                  int64\n",
              "backers                int64\n",
              "country                int64\n",
              "usd pledged          float64\n",
              "usd_pledged_real     float64\n",
              "usd_goal_real        float64\n",
              "duration               int64\n",
              "deadline_weekday       int64\n",
              "deadline_monthday      int64\n",
              "deadline_month         int64\n",
              "deadline_year          int64\n",
              "launched_weekday       int64\n",
              "launched_monthday      int64\n",
              "launched_month         int64\n",
              "launched_year          int64\n",
              "launched_hour          int64\n",
              "dtype: object"
            ]
          },
          "metadata": {
            "tags": []
          },
          "execution_count": 37
        }
      ]
    },
    {
      "cell_type": "markdown",
      "metadata": {
        "colab_type": "text",
        "id": "k4ldX2czo6PS"
      },
      "source": [
        "## Part 2 - Build Models"
      ]
    },
    {
      "cell_type": "code",
      "metadata": {
        "colab_type": "code",
        "id": "ued4ori2pCxj",
        "colab": {}
      },
      "source": [
        "def get_sucess(pred, validate_class):\n",
        "  cf = confusion_matrix(pred, validate_class)\n",
        "  sucess = (cf[0][0] + cf[1][1]) / (cf[0][0] + cf[1][1] + cf[1][0] + cf[0][1])\n",
        "  return sucess\n",
        "\n",
        "def get_accuracy(cf):\n",
        "  return (cf[0][0] + cf[1][1]) / (cf[0][0] + cf[1][1] + cf[1][0] + cf[0][1])\n",
        "\n",
        "def get_error_rate(cf):\n",
        "  return 1 - get_accuracy(cf)\n",
        "\n",
        "def get_sensitivity(cf):\n",
        "  return cf[1][1] / (cf[1][1] + cf[1][0])\n",
        "\n",
        "def get_specificity(cf):\n",
        "  return cf[0][0] / (cf[0][0] + cf[0][1])\n",
        "\n",
        "def get_precision(cf):\n",
        "  return cf[1][1] / (cf[1][1] + cf[0][1])\n",
        "\n",
        "def get_f1(pred, validate_class):\n",
        "    cf = confusion_matrix(pred, validate_class)\n",
        "    return (get_precision(cf) * get_sensitivity(cf)) / (get_precision(cf) + get_sensitivity(cf))"
      ],
      "execution_count": 0,
      "outputs": []
    },
    {
      "cell_type": "code",
      "metadata": {
        "colab_type": "code",
        "id": "DFz7HxISpkbB",
        "colab": {}
      },
      "source": [
        "def build_knn(train_attributes, train_class, k=4, algo='auto'):\n",
        "    knn =  KNeighborsClassifier(n_neighbors=k, algorithm=algo)\n",
        "    knn.fit(train_attributes, train_class)\n",
        "    return knn\n",
        "\n",
        "def build_lda(train_attributes, train_class):\n",
        "    lda = LinearDiscriminantAnalysis()\n",
        "    lda.fit(train_attributes, train_class)\n",
        "    return lda\n",
        "\n",
        "def build_qda(train_attributes, train_class):\n",
        "    qda = QuadraticDiscriminantAnalysis()\n",
        "    qda.fit(train_attributes, train_class)\n",
        "    return qda\n",
        "\n",
        "def build_logreg(train_attributes, train_class):\n",
        "    logreg = LogisticRegression().fit(train_attributes, train_class)\n",
        "    return logreg\n",
        "\n",
        "def build_NaiveBayes(train_attributes, train_class):\n",
        "    gnb = GaussianNB()\n",
        "    gnb.fit(train_attributes, train_class)\n",
        "    return gnb\n",
        "\n",
        "def build_tree(train_attributes, train_class, criterion=\"gini\", max_depth=None, min_samples_split=2):\n",
        "    arbre = tree.DecisionTreeClassifier(criterion=criterion, max_depth=max_depth, min_samples_split=min_samples_split).fit(train_attributes, train_class)\n",
        "    return arbre\n",
        "\n",
        "def save_tree(arbre,attributes, name='new_tree.png'):\n",
        "    tree.export_graphviz(arbre, out_file='tree.dot', feature_names=attributes.columns)\n",
        "    (graph,) = pydot.graph_from_dot_file('tree.dot')\n",
        "    graph.write_png(name)\n",
        "\n",
        "def show_tree(picture):\n",
        "    plt.figure(figsize = (50, 20))\n",
        "    img = mpimg.imread(picture)\n",
        "    imgplot = plt.imshow(img)\n",
        "    plt.show()"
      ],
      "execution_count": 0,
      "outputs": []
    },
    {
      "cell_type": "code",
      "metadata": {
        "colab_type": "code",
        "id": "OBp6KNygrc6x",
        "colab": {}
      },
      "source": [
        "## Part 3 - Apply & optimize models"
      ],
      "execution_count": 0,
      "outputs": []
    },
    {
      "cell_type": "code",
      "metadata": {
        "colab_type": "code",
        "id": "qqg_dkP4Pys0",
        "outputId": "0ce30f66-2bae-4767-e635-0ac0385b4cd1",
        "colab": {
          "base_uri": "https://localhost:8080/",
          "height": 516
        }
      },
      "source": [
        "df_clean.head()"
      ],
      "execution_count": 0,
      "outputs": [
        {
          "output_type": "execute_result",
          "data": {
            "text/html": [
              "<div>\n",
              "<style scoped>\n",
              "    .dataframe tbody tr th:only-of-type {\n",
              "        vertical-align: middle;\n",
              "    }\n",
              "\n",
              "    .dataframe tbody tr th {\n",
              "        vertical-align: top;\n",
              "    }\n",
              "\n",
              "    .dataframe thead th {\n",
              "        text-align: right;\n",
              "    }\n",
              "</style>\n",
              "<table border=\"1\" class=\"dataframe\">\n",
              "  <thead>\n",
              "    <tr style=\"text-align: right;\">\n",
              "      <th></th>\n",
              "      <th>ID</th>\n",
              "      <th>name</th>\n",
              "      <th>category</th>\n",
              "      <th>main_category</th>\n",
              "      <th>currency</th>\n",
              "      <th>goal</th>\n",
              "      <th>pledged</th>\n",
              "      <th>state</th>\n",
              "      <th>backers</th>\n",
              "      <th>country</th>\n",
              "      <th>usd pledged</th>\n",
              "      <th>usd_pledged_real</th>\n",
              "      <th>usd_goal_real</th>\n",
              "      <th>duration</th>\n",
              "      <th>deadline_weekday</th>\n",
              "      <th>deadline_monthday</th>\n",
              "      <th>deadline_month</th>\n",
              "      <th>deadline_year</th>\n",
              "      <th>launched_weekday</th>\n",
              "      <th>launched_monthday</th>\n",
              "      <th>launched_month</th>\n",
              "      <th>launched_year</th>\n",
              "      <th>launched_hour</th>\n",
              "    </tr>\n",
              "  </thead>\n",
              "  <tbody>\n",
              "    <tr>\n",
              "      <th>292934</th>\n",
              "      <td>561028009</td>\n",
              "      <td>Kob Knobs : Corn Holders.</td>\n",
              "      <td>0</td>\n",
              "      <td>0</td>\n",
              "      <td>0</td>\n",
              "      <td>100000.0</td>\n",
              "      <td>109.0</td>\n",
              "      <td>0</td>\n",
              "      <td>3</td>\n",
              "      <td>0</td>\n",
              "      <td>109.0</td>\n",
              "      <td>109.0</td>\n",
              "      <td>100000.0</td>\n",
              "      <td>29</td>\n",
              "      <td>3</td>\n",
              "      <td>26</td>\n",
              "      <td>5</td>\n",
              "      <td>2016</td>\n",
              "      <td>1</td>\n",
              "      <td>26</td>\n",
              "      <td>4</td>\n",
              "      <td>2016</td>\n",
              "      <td>22</td>\n",
              "    </tr>\n",
              "    <tr>\n",
              "      <th>229754</th>\n",
              "      <td>238073904</td>\n",
              "      <td>Yono: A Collaborative Pixel-Art Project</td>\n",
              "      <td>1</td>\n",
              "      <td>1</td>\n",
              "      <td>0</td>\n",
              "      <td>6000.0</td>\n",
              "      <td>3096.0</td>\n",
              "      <td>0</td>\n",
              "      <td>68</td>\n",
              "      <td>0</td>\n",
              "      <td>3096.0</td>\n",
              "      <td>3096.0</td>\n",
              "      <td>6000.0</td>\n",
              "      <td>29</td>\n",
              "      <td>3</td>\n",
              "      <td>11</td>\n",
              "      <td>10</td>\n",
              "      <td>2012</td>\n",
              "      <td>1</td>\n",
              "      <td>11</td>\n",
              "      <td>9</td>\n",
              "      <td>2012</td>\n",
              "      <td>23</td>\n",
              "    </tr>\n",
              "    <tr>\n",
              "      <th>288883</th>\n",
              "      <td>539930682</td>\n",
              "      <td>Tokens for Magic: The Gathering - Ixalan</td>\n",
              "      <td>2</td>\n",
              "      <td>2</td>\n",
              "      <td>0</td>\n",
              "      <td>500.0</td>\n",
              "      <td>82.0</td>\n",
              "      <td>0</td>\n",
              "      <td>6</td>\n",
              "      <td>0</td>\n",
              "      <td>1.0</td>\n",
              "      <td>82.0</td>\n",
              "      <td>500.0</td>\n",
              "      <td>29</td>\n",
              "      <td>3</td>\n",
              "      <td>19</td>\n",
              "      <td>10</td>\n",
              "      <td>2017</td>\n",
              "      <td>1</td>\n",
              "      <td>19</td>\n",
              "      <td>9</td>\n",
              "      <td>2017</td>\n",
              "      <td>5</td>\n",
              "    </tr>\n",
              "    <tr>\n",
              "      <th>207782</th>\n",
              "      <td>2058916858</td>\n",
              "      <td>\"Running Wild\" Wild Horses Documentary</td>\n",
              "      <td>3</td>\n",
              "      <td>3</td>\n",
              "      <td>0</td>\n",
              "      <td>7000.0</td>\n",
              "      <td>260.0</td>\n",
              "      <td>0</td>\n",
              "      <td>7</td>\n",
              "      <td>0</td>\n",
              "      <td>260.0</td>\n",
              "      <td>260.0</td>\n",
              "      <td>7000.0</td>\n",
              "      <td>49</td>\n",
              "      <td>5</td>\n",
              "      <td>18</td>\n",
              "      <td>5</td>\n",
              "      <td>2013</td>\n",
              "      <td>4</td>\n",
              "      <td>29</td>\n",
              "      <td>3</td>\n",
              "      <td>2013</td>\n",
              "      <td>22</td>\n",
              "    </tr>\n",
              "    <tr>\n",
              "      <th>28109</th>\n",
              "      <td>1142635672</td>\n",
              "      <td>A Musical Anthology, Photobook &amp; Wall Calendar</td>\n",
              "      <td>4</td>\n",
              "      <td>4</td>\n",
              "      <td>0</td>\n",
              "      <td>5500.0</td>\n",
              "      <td>40.0</td>\n",
              "      <td>0</td>\n",
              "      <td>2</td>\n",
              "      <td>0</td>\n",
              "      <td>0.0</td>\n",
              "      <td>40.0</td>\n",
              "      <td>5500.0</td>\n",
              "      <td>30</td>\n",
              "      <td>3</td>\n",
              "      <td>10</td>\n",
              "      <td>8</td>\n",
              "      <td>2017</td>\n",
              "      <td>0</td>\n",
              "      <td>10</td>\n",
              "      <td>7</td>\n",
              "      <td>2017</td>\n",
              "      <td>22</td>\n",
              "    </tr>\n",
              "  </tbody>\n",
              "</table>\n",
              "</div>"
            ],
            "text/plain": [
              "                ID  ... launched_hour\n",
              "292934   561028009  ...            22\n",
              "229754   238073904  ...            23\n",
              "288883   539930682  ...             5\n",
              "207782  2058916858  ...            22\n",
              "28109   1142635672  ...            22\n",
              "\n",
              "[5 rows x 23 columns]"
            ]
          },
          "metadata": {
            "tags": []
          },
          "execution_count": 40
        }
      ]
    },
    {
      "cell_type": "code",
      "metadata": {
        "colab_type": "code",
        "id": "2DwBLGFdPys3",
        "colab": {}
      },
      "source": [
        "X = df_clean.copy()\n",
        "X = X.dropna()\n",
        "y = X['state']\n",
        "del X['name']\n",
        "del X['ID']\n",
        "del X['pledged']\n",
        "del X['usd pledged']\n",
        "del X['usd_pledged_real']\n",
        "\n",
        "Xy = X.copy()\n",
        "del Xy['state']\n",
        "Xy['state'] = X['state']\n",
        "standardizer = StandardScaler()\n",
        "standardizer.fit(Xy)\n",
        "Xy = standardizer.transform(Xy)\n",
        "\n",
        "for i in range(len(Xy)):\n",
        "    if Xy[i,-1] < 0:\n",
        "        Xy[i,-1] = int(0)\n",
        "    else:\n",
        "        Xy[i,-1] = int(1)\n",
        "\n",
        "del X['state']\n",
        "standardizer = StandardScaler()\n",
        "standardizer.fit(X)\n",
        "X = standardizer.transform(X)\n",
        "X_train, X_val, y_train, y_val = train_test_split(X, y, test_size=0.1)"
      ],
      "execution_count": 0,
      "outputs": []
    },
    {
      "cell_type": "code",
      "metadata": {
        "id": "xkBC27H2L9ea",
        "colab_type": "code",
        "outputId": "ae5f93a9-8522-4d21-c71a-60c854510035",
        "colab": {
          "base_uri": "https://localhost:8080/",
          "height": 238
        }
      },
      "source": [
        "print(Xy)"
      ],
      "execution_count": 0,
      "outputs": [
        {
          "output_type": "stream",
          "text": [
            "[[-1.29238829 -1.45569709 -0.38169916 ...  0.90723549  1.15598396\n",
            "   0.        ]\n",
            " [-1.26155044 -1.17632292 -0.38169916 ... -1.15835073  1.28572408\n",
            "   0.        ]\n",
            " [-1.23071259 -0.89694874 -0.38169916 ...  1.42363205 -1.04959801\n",
            "   0.        ]\n",
            " ...\n",
            " [ 0.58872044 -0.89694874 -0.38169916 ...  0.39083894  0.89650373\n",
            "   0.        ]\n",
            " [-0.42892854 -1.45569709  7.0465404  ... -0.12555762  1.28572408\n",
            "   0.        ]\n",
            " [-0.79898272  0.77929633 -0.38169916 ... -1.15835073 -0.79011778\n",
            "   0.        ]]\n"
          ],
          "name": "stdout"
        }
      ]
    },
    {
      "cell_type": "markdown",
      "metadata": {
        "colab_type": "text",
        "id": "tROzvhhiPys8"
      },
      "source": [
        "## 3.1 KNN"
      ]
    },
    {
      "cell_type": "code",
      "metadata": {
        "colab_type": "code",
        "id": "wGnnfUHmPys-",
        "scrolled": true,
        "colab": {}
      },
      "source": [
        "# knn_mean = []\n",
        "# knn_std = []\n",
        "knn_scores = []\n",
        "\n",
        "for k in range(2,15):\n",
        "    knn = build_knn(X_train, y_train, k=k)\n",
        "    knn_result = knn.predict(X_val)\n",
        "    knn_scores.append(get_sucess(knn_result, y_val))\n",
        "#     scores = cross_val_score(KNeighborsClassifier(n_neighbors=k), X, y, cv=2)\n",
        "#     knn_mean.append(scores.mean())\n",
        "#     knn_std.append(scores.std())"
      ],
      "execution_count": 0,
      "outputs": []
    },
    {
      "cell_type": "code",
      "metadata": {
        "id": "OdEyqUWPL9eh",
        "colab_type": "code",
        "colab": {}
      },
      "source": [
        "print(knn_scores)"
      ],
      "execution_count": 0,
      "outputs": []
    },
    {
      "cell_type": "code",
      "metadata": {
        "id": "5feHxhnsL9ek",
        "colab_type": "code",
        "colab": {}
      },
      "source": [
        "# [0.6251434912374685, 0.6287512952354884] k = 2, 3"
      ],
      "execution_count": 0,
      "outputs": []
    },
    {
      "cell_type": "code",
      "metadata": {
        "colab_type": "code",
        "id": "1XECsxYvPytD",
        "colab": {}
      },
      "source": [
        "# plt.errorbar(range(1,2), knn_mean, np.array(knn_std))"
      ],
      "execution_count": 0,
      "outputs": []
    },
    {
      "cell_type": "code",
      "metadata": {
        "colab_type": "code",
        "id": "t71AIQ6iPytG",
        "colab": {}
      },
      "source": [
        " "
      ],
      "execution_count": 0,
      "outputs": []
    },
    {
      "cell_type": "code",
      "metadata": {
        "colab_type": "code",
        "id": "7axVAXYDPytK",
        "colab": {}
      },
      "source": [
        "## 3.2 LogReg"
      ],
      "execution_count": 0,
      "outputs": []
    },
    {
      "cell_type": "code",
      "metadata": {
        "colab_type": "code",
        "id": "p417SZINPytO",
        "scrolled": true,
        "outputId": "e3d8d210-a53c-4593-8fe8-1a7835754a56",
        "colab": {
          "base_uri": "https://localhost:8080/",
          "height": 145
        }
      },
      "source": [
        "logreg = build_logreg(X_train, y_train)"
      ],
      "execution_count": 0,
      "outputs": [
        {
          "output_type": "stream",
          "text": [
            "/usr/local/lib/python3.6/dist-packages/sklearn/linear_model/logistic.py:432: FutureWarning: Default solver will be changed to 'lbfgs' in 0.22. Specify a solver to silence this warning.\n",
            "  FutureWarning)\n",
            "/usr/local/lib/python3.6/dist-packages/sklearn/linear_model/logistic.py:469: FutureWarning: Default multi_class will be changed to 'auto' in 0.22. Specify the multi_class option to silence this warning.\n",
            "  \"this warning.\", FutureWarning)\n"
          ],
          "name": "stderr"
        }
      ]
    },
    {
      "cell_type": "code",
      "metadata": {
        "colab_type": "code",
        "id": "4Lps8w9fPytT",
        "colab": {}
      },
      "source": [
        "logreg_result = logreg.predict(X_val)"
      ],
      "execution_count": 0,
      "outputs": []
    },
    {
      "cell_type": "code",
      "metadata": {
        "colab_type": "code",
        "id": "8Rs3zDMEPytX",
        "colab": {}
      },
      "source": [
        "logreg_success = get_sucess(logreg_result, y_val)"
      ],
      "execution_count": 0,
      "outputs": []
    },
    {
      "cell_type": "code",
      "metadata": {
        "id": "TqOTBqEiMNug",
        "colab_type": "code",
        "outputId": "d4e4fc97-7c13-410e-c799-501ea272855a",
        "colab": {
          "base_uri": "https://localhost:8080/",
          "height": 168
        }
      },
      "source": [
        "# configure bootstrap\n",
        "n_iterations = 5\n",
        "\n",
        "# run bootstrap\n",
        "stats = []\n",
        "for i in range(n_iterations):\n",
        "    # prepare train and test sets\n",
        "    boot_train = resample(Xy, replace=True, n_samples=1000)\n",
        "    boot_test = np.array([x for x in Xy if x.tolist() not in boot_train.tolist()])\n",
        "    # fit model\n",
        "    model = LogisticRegression()\n",
        "    model.fit(boot_train[:,:-1], boot_train[:,-1])\n",
        "    # evaluate model\n",
        "    predictions = model.predict(boot_test[:,:-1])\n",
        "    score = accuracy_score(boot_test[:,-1], predictions)\n",
        "    print(score)\n",
        "stats.append(score)\n",
        "# plot scores\n",
        "plt.hist(stats)\n",
        "plt.show()\n",
        "# confidence intervals\n",
        "alpha = 0.95\n",
        "p = ((1.0-alpha)/2.0) * 100\n",
        "lower = max(0.0, np.percentile(stats, p))\n",
        "p = (alpha+((1.0-alpha)/2.0)) * 100\n",
        "upper = min(1.0, np.percentile(stats, p))\n",
        "print('%.1f confidence interval %.1f%% and %.1f%%' % (alpha*100, lower*100, upper*100))"
      ],
      "execution_count": 0,
      "outputs": [
        {
          "output_type": "stream",
          "text": [
            "/usr/local/lib/python3.6/dist-packages/sklearn/linear_model/logistic.py:432: FutureWarning: Default solver will be changed to 'lbfgs' in 0.22. Specify a solver to silence this warning.\n",
            "  FutureWarning)\n"
          ],
          "name": "stderr"
        },
        {
          "output_type": "stream",
          "text": [
            "0.7014720642355303\n"
          ],
          "name": "stdout"
        },
        {
          "output_type": "stream",
          "text": [
            "/usr/local/lib/python3.6/dist-packages/sklearn/linear_model/logistic.py:432: FutureWarning: Default solver will be changed to 'lbfgs' in 0.22. Specify a solver to silence this warning.\n",
            "  FutureWarning)\n"
          ],
          "name": "stderr"
        },
        {
          "output_type": "stream",
          "text": [
            "0.6984409501505521\n"
          ],
          "name": "stdout"
        }
      ]
    },
    {
      "cell_type": "code",
      "metadata": {
        "colab_type": "code",
        "id": "7PjbFzpsPytf",
        "outputId": "b7df94dd-18b4-4032-903f-196511ef440a",
        "colab": {}
      },
      "source": [
        "print(logreg_success)"
      ],
      "execution_count": 0,
      "outputs": [
        {
          "output_type": "stream",
          "text": [
            "0.8499717141240807\n"
          ],
          "name": "stdout"
        }
      ]
    },
    {
      "cell_type": "code",
      "metadata": {
        "colab_type": "code",
        "id": "0JsLLPfZPytk",
        "colab": {}
      },
      "source": [
        "## 3.3 Linear Discriminant Analysis"
      ],
      "execution_count": 0,
      "outputs": []
    },
    {
      "cell_type": "code",
      "metadata": {
        "colab_type": "code",
        "id": "KnWUVS9qPytr",
        "colab": {}
      },
      "source": [
        "lda = build_lda(X_train, y_train)\n",
        "lda_result = lda.predict(X_val)\n",
        "lda_success = get_sucess(lda_result, y_val)"
      ],
      "execution_count": 0,
      "outputs": []
    },
    {
      "cell_type": "code",
      "metadata": {
        "colab_type": "code",
        "id": "WvwkD35-Pytw",
        "outputId": "8d0abd86-a66d-468b-c141-0b54543ead27",
        "colab": {}
      },
      "source": [
        "print(lda_success)"
      ],
      "execution_count": 0,
      "outputs": [
        {
          "output_type": "stream",
          "text": [
            "0.610726643598616\n"
          ],
          "name": "stdout"
        }
      ]
    },
    {
      "cell_type": "code",
      "metadata": {
        "colab_type": "code",
        "id": "fuLFRjcWPyt0",
        "colab": {}
      },
      "source": [
        "qda = build_qda(X_train, y_train)\n",
        "qda_result = qda.predict(X_val)\n",
        "qda_success = get_sucess(qda_result, y_val)"
      ],
      "execution_count": 0,
      "outputs": []
    },
    {
      "cell_type": "code",
      "metadata": {
        "colab_type": "code",
        "id": "Lrai8KoUPyt4",
        "outputId": "910386c7-3cc8-4123-e6b4-b25cb9874123",
        "colab": {}
      },
      "source": [
        "print(qda_success)"
      ],
      "execution_count": 0,
      "outputs": [
        {
          "output_type": "stream",
          "text": [
            "0.45812583159095227\n"
          ],
          "name": "stdout"
        }
      ]
    },
    {
      "cell_type": "code",
      "metadata": {
        "colab_type": "code",
        "id": "WIDdt0LsPyt6",
        "colab": {}
      },
      "source": [
        "gnb = build_NaiveBayes(X_train, y_train)\n",
        "gnb_result = gnb.predict(X_val)\n",
        "gnb_success = get_sucess(gnb_result, y_val)"
      ],
      "execution_count": 0,
      "outputs": []
    },
    {
      "cell_type": "code",
      "metadata": {
        "colab_type": "code",
        "id": "JNzosJnNPyt8",
        "outputId": "1bace5d2-617f-4014-860f-55d616a1841e",
        "colab": {}
      },
      "source": [
        "print(gnb_success)"
      ],
      "execution_count": 0,
      "outputs": [
        {
          "output_type": "stream",
          "text": [
            "0.46189552182018795\n"
          ],
          "name": "stdout"
        }
      ]
    },
    {
      "cell_type": "code",
      "metadata": {
        "colab_type": "code",
        "id": "h3cFOw_-Pyt-",
        "colab": {}
      },
      "source": [
        "arbre_gini = build_tree(X_train, y_train)\n",
        "gini_pred = arbre_gini.predict(X_val)\n",
        "gini_success = get_sucess(gini_pred, y_val)"
      ],
      "execution_count": 0,
      "outputs": []
    },
    {
      "cell_type": "code",
      "metadata": {
        "colab_type": "code",
        "id": "2lpRPWqdPyuB",
        "outputId": "f8841d86-2812-4a57-b4e9-73f25d639e30",
        "colab": {}
      },
      "source": [
        "print(gini_success)"
      ],
      "execution_count": 0,
      "outputs": [
        {
          "output_type": "stream",
          "text": [
            "0.8951533977277563\n"
          ],
          "name": "stdout"
        }
      ]
    },
    {
      "cell_type": "code",
      "metadata": {
        "colab_type": "code",
        "id": "qt7OxgKLPyuE",
        "colab": {}
      },
      "source": [
        "def tree_score(train_attributes, train_class, validate_attributes, validate_class, criterion=\"gini\", max_depth=None, min_samples_split=2):\n",
        "    arbre_gini = build_tree(train_attributes, train_class,max_depth=max_depth, min_samples_split=min_samples_split)\n",
        "    gini_pred = arbre_gini.predict(validate_attributes)\n",
        "    gini_success = get_sucess(gini_pred, validate_class)\n",
        "    gini_f1 = get_f1(gini_pred, validate_class)\n",
        "    gini_pred_learn = arbre_gini.predict(train_attributes)\n",
        "    gini_score_learn = get_sucess(gini_pred_learn, train_class)\n",
        "    arbre_entropy = build_tree(train_attributes, train_class, criterion=\"entropy\",max_depth=max_depth, min_samples_split=min_samples_split)\n",
        "    entropy_pred = arbre_entropy.predict(validate_attributes)\n",
        "    entropy_success = get_sucess(entropy_pred, validate_class)\n",
        "    entropy_f1 = get_f1(entropy_pred, validate_class)\n",
        "    entropy_pred_learn = arbre_entropy.predict(train_attributes)\n",
        "    entropy_score_learn = get_sucess(entropy_pred_learn, train_class)\n",
        "    return (gini_success, entropy_success, gini_score_learn, entropy_score_learn, gini_f1, entropy_f1)"
      ],
      "execution_count": 0,
      "outputs": []
    },
    {
      "cell_type": "code",
      "metadata": {
        "colab_type": "code",
        "id": "ASuU_fNZPyuH",
        "colab": {}
      },
      "source": [
        "gini_accuracy = []\n",
        "gini_accuracy_learn = []\n",
        "entropy_accuracy = []\n",
        "entropy_accuracy_learn = []\n",
        "gini_f1 = []\n",
        "entropy_f1 = []\n",
        "\n",
        "for depth in range(1,50):\n",
        "    gini_score, entropy_score, gini_score_learn, entropy_score_learn, g_f1, e_f1 = tree_score(X_train, y_train, X_val, y_val, max_depth=depth)\n",
        "    gini_accuracy.append(gini_score)\n",
        "    gini_accuracy_learn.append(gini_score_learn)\n",
        "    entropy_accuracy.append(entropy_score)\n",
        "    entropy_accuracy_learn.append(entropy_score_learn)\n",
        "    gini_f1.append(g_f1)\n",
        "    entropy_f1.append(e_f1)"
      ],
      "execution_count": 0,
      "outputs": []
    },
    {
      "cell_type": "code",
      "metadata": {
        "id": "C_qjoXtIL9fr",
        "colab_type": "code",
        "outputId": "2a404e81-6a7e-4876-aa5e-ef403f748418",
        "colab": {}
      },
      "source": [
        "plt.figure(figsize = (12, 8))\n",
        "plt.plot(range(1, 50), gini_accuracy, 'o-', label='gini', color='chocolate')\n",
        "plt.plot(range(1, 50), gini_accuracy_learn, 'o-', label='gini learn', color='peachpuff')\n",
        "plt.plot(range(1, 50), entropy_accuracy, 'o-', label='entropy', color='cornflowerblue')\n",
        "plt.plot(range(1, 50), entropy_accuracy_learn, 'o-', label='entropy learn', color='lightsteelblue')\n",
        "# plt.xticks(np.arange(0, 26, step=4))\n",
        "plt.xlabel('Max depth')\n",
        "plt.ylabel('Accuracy (%)')\n",
        "plt.title('Maximum depth vs accuracy of decision trees')\n",
        "plt.legend()"
      ],
      "execution_count": 0,
      "outputs": [
        {
          "output_type": "execute_result",
          "data": {
            "text/plain": [
              "<matplotlib.legend.Legend at 0x7f30f9bb99b0>"
            ]
          },
          "metadata": {
            "tags": []
          },
          "execution_count": 72
        },
        {
          "output_type": "display_data",
          "data": {
            "image/png": "[encoded data removed]",
            "text/plain": [
              "<Figure size 864x576 with 1 Axes>"
            ]
          },
          "metadata": {
            "tags": [],
            "needs_background": "light"
          }
        }
      ]
    },
    {
      "cell_type": "code",
      "metadata": {
        "id": "KJ88UhkQL9fv",
        "colab_type": "code",
        "colab": {}
      },
      "source": [
        "gini_accuracy = []\n",
        "gini_accuracy_learn = []\n",
        "entropy_accuracy = []\n",
        "entropy_accuracy_learn = []\n",
        "gini_f1 = []\n",
        "entropy_f1 = []\n",
        "\n",
        "for size in range(2,100):\n",
        "    gini_score, entropy_score, gini_score_learn, entropy_score_learn, g_f1, e_f1 = tree_score(X_train, y_train, X_val, y_val, min_samples_split=size)\n",
        "    gini_accuracy.append(gini_score)\n",
        "    gini_accuracy_learn.append(gini_score_learn)\n",
        "    entropy_accuracy.append(entropy_score)\n",
        "    entropy_accuracy_learn.append(entropy_score_learn)\n",
        "    gini_f1.append(g_f1)\n",
        "    entropy_f1.append(e_f1)"
      ],
      "execution_count": 0,
      "outputs": []
    },
    {
      "cell_type": "code",
      "metadata": {
        "id": "ehbI2ZsmL9fx",
        "colab_type": "code",
        "outputId": "929b4624-8459-44de-ea98-7fd7f549e856",
        "colab": {}
      },
      "source": [
        "plt.figure(figsize = (12, 8))\n",
        "plt.plot(range(2, 100), gini_accuracy, 'o-', label='gini', color='chocolate')\n",
        "plt.plot(range(2, 100), gini_accuracy_learn, 'o-', label='gini learn', color='peachpuff')\n",
        "plt.plot(range(2, 100), entropy_accuracy, 'o-', label='entropy', color='cornflowerblue')\n",
        "plt.plot(range(2, 100), entropy_accuracy_learn, 'o-', label='entropy learn', color='lightsteelblue')\n",
        "plt.xticks(np.arange(2, 100, step=4))\n",
        "plt.xlabel('Minimum samples per split')\n",
        "plt.ylabel('Accuracy (%)')\n",
        "plt.title('Minimum samples per split vs accuracy of decision trees')\n",
        "plt.legend()"
      ],
      "execution_count": 0,
      "outputs": [
        {
          "output_type": "execute_result",
          "data": {
            "text/plain": [
              "<matplotlib.legend.Legend at 0x7f30e81059e8>"
            ]
          },
          "metadata": {
            "tags": []
          },
          "execution_count": 116
        },
        {
          "output_type": "display_data",
          "data": {
            "image/png": "[encoded data removed]",
            "text/plain": [
              "<Figure size 864x576 with 1 Axes>"
            ]
          },
          "metadata": {
            "tags": [],
            "needs_background": "light"
          }
        }
      ]
    },
    {
      "cell_type": "markdown",
      "metadata": {
        "id": "kw32Y9h3L9fz",
        "colab_type": "text"
      },
      "source": [
        "#### Boostraping -> https://machinelearningmastery.com/a-gentle-introduction-to-the-bootstrap-method/"
      ]
    },
    {
      "cell_type": "code",
      "metadata": {
        "id": "G5MOdgxUL9f0",
        "colab_type": "code",
        "colab": {}
      },
      "source": [
        "# configure bootstrap\n",
        "n_iterations = 5\n",
        "\n",
        "# run bootstrap\n",
        "stats = []\n",
        "for i in range(n_iterations):\n",
        "    # prepare train and test sets\n",
        "    boot_train = resample(Xy, replace=True, n_samples=1000)\n",
        "    boot_test = np.array([x for x in Xy if x.tolist() not in boot_train.tolist()])\n",
        "    # fit model\n",
        "    model = tree.DecisionTreeClassifier(max_depth=10, min_samples_split=50)\n",
        "    model.fit(boot_train[:,:-1], boot_train[:,-1])\n",
        "    # evaluate model\n",
        "    predictions = model.predict(boot_test[:,:-1])\n",
        "    score = accuracy_score(boot_test[:,-1], predictions)\n",
        "    print(score)\n",
        "stats.append(score)\n",
        "# plot scores\n",
        "plt.hist(stats)\n",
        "plt.show()\n",
        "# confidence intervals\n",
        "alpha = 0.95\n",
        "p = ((1.0-alpha)/2.0) * 100\n",
        "lower = max(0.0, np.percentile(stats, p))\n",
        "p = (alpha+((1.0-alpha)/2.0)) * 100\n",
        "upper = min(1.0, np.percentile(stats, p))\n",
        "print('%.1f confidence interval %.1f%% and %.1f%%' % (alpha*100, lower*100, upper*100))"
      ],
      "execution_count": 0,
      "outputs": []
    },
    {
      "cell_type": "code",
      "metadata": {
        "id": "HFMTJlLiL9f2",
        "colab_type": "code",
        "colab": {}
      },
      "source": [
        ""
      ],
      "execution_count": 0,
      "outputs": []
    }
  ]
}